{
 "cells": [
  {
   "cell_type": "code",
   "execution_count": 118,
   "id": "79ec8cc7-db9c-4754-82d6-9c1fb4a1b77d",
   "metadata": {
    "tags": []
   },
   "outputs": [],
   "source": [
    "import pandas as pd\n",
    "import numpy as np\n",
    "import seaborn as sns\n",
    "import matplotlib.pyplot as plt\n",
    "import warnings\n",
    "from tqdm import tqdm\n",
    "from datetime import datetime\n",
    "\n",
    "plt.rcParams['font.family'] = 'Malgun Gothic'\n",
    "pd.set_option('display.max_rows', 30)\n",
    "pd.set_option('display.max_columns', None)\n",
    "warnings.filterwarnings(action='ignore')"
   ]
  },
  {
   "cell_type": "markdown",
   "id": "d7ca0d39-f978-4d9c-bf03-be2de9284b24",
   "metadata": {
    "tags": []
   },
   "source": [
    "# 데이터 불러오기\n",
    "- id : 거래번호, 정수\n",
    "- sigungu : 시군구\n",
    "- jibun : 지번\n",
    "- apt_name : 아파트 이름\n",
    "- exclusive_use_area : 전용면적\n",
    "- transaction_year_month : 거래연월\n",
    "- transaction_day: 거래일\n",
    "- transaction_real_price : 실거래가\n",
    "- floor : 층수\n",
    "- year_of_completion : 건설 완료 연도\n",
    "\n",
    "서울특별시 강남구 대치동 지역만 존재\n"
   ]
  },
  {
   "cell_type": "code",
   "execution_count": 119,
   "id": "017d8343-94df-4dfa-9574-9490e07cd42f",
   "metadata": {
    "tags": []
   },
   "outputs": [
    {
     "data": {
      "text/html": [
       "<div>\n",
       "<style scoped>\n",
       "    .dataframe tbody tr th:only-of-type {\n",
       "        vertical-align: middle;\n",
       "    }\n",
       "\n",
       "    .dataframe tbody tr th {\n",
       "        vertical-align: top;\n",
       "    }\n",
       "\n",
       "    .dataframe thead th {\n",
       "        text-align: right;\n",
       "    }\n",
       "</style>\n",
       "<table border=\"1\" class=\"dataframe\">\n",
       "  <thead>\n",
       "    <tr style=\"text-align: right;\">\n",
       "      <th></th>\n",
       "      <th>id</th>\n",
       "      <th>sigungu</th>\n",
       "      <th>jibun</th>\n",
       "      <th>apt_name</th>\n",
       "      <th>exclusive_use_area</th>\n",
       "      <th>transaction_year_month</th>\n",
       "      <th>transaction_day</th>\n",
       "      <th>transaction_real_price</th>\n",
       "      <th>floor</th>\n",
       "      <th>year_of_completion</th>\n",
       "      <th>train_test</th>\n",
       "      <th>transaction_date</th>\n",
       "      <th>소비심리지수</th>\n",
       "      <th>아파트 매매 실거래 가격 지수</th>\n",
       "      <th>기준금리</th>\n",
       "      <th>GDP 성장률</th>\n",
       "      <th>apartment_id</th>\n",
       "      <th>recent_price</th>\n",
       "      <th>recent_jeonse</th>\n",
       "      <th>transaction_cnt</th>\n",
       "      <th>age</th>\n",
       "      <th>year</th>\n",
       "      <th>cluster_0.0</th>\n",
       "      <th>cluster_1.0</th>\n",
       "      <th>cluster_2.0</th>\n",
       "      <th>cluster_3.0</th>\n",
       "      <th>cluster_4.0</th>\n",
       "      <th>use_area</th>\n",
       "      <th>transaction_year</th>\n",
       "    </tr>\n",
       "  </thead>\n",
       "  <tbody>\n",
       "    <tr>\n",
       "      <th>0</th>\n",
       "      <td>TRAIN_0320</td>\n",
       "      <td>서울특별시 강남구 대치동</td>\n",
       "      <td>670</td>\n",
       "      <td>동부센트레빌</td>\n",
       "      <td>145.83</td>\n",
       "      <td>201401</td>\n",
       "      <td>2</td>\n",
       "      <td>180000.0</td>\n",
       "      <td>2.833213</td>\n",
       "      <td>2005</td>\n",
       "      <td>train</td>\n",
       "      <td>2014-01-02</td>\n",
       "      <td>112.6</td>\n",
       "      <td>66.6</td>\n",
       "      <td>1.252763</td>\n",
       "      <td>0.9</td>\n",
       "      <td>20</td>\n",
       "      <td>180000.0</td>\n",
       "      <td>11.502885</td>\n",
       "      <td>3.258097</td>\n",
       "      <td>9</td>\n",
       "      <td>2014</td>\n",
       "      <td>0</td>\n",
       "      <td>0</td>\n",
       "      <td>0</td>\n",
       "      <td>1</td>\n",
       "      <td>0</td>\n",
       "      <td>145.83</td>\n",
       "      <td>2014</td>\n",
       "    </tr>\n",
       "    <tr>\n",
       "      <th>1</th>\n",
       "      <td>TRAIN_0699</td>\n",
       "      <td>서울특별시 강남구 대치동</td>\n",
       "      <td>986-14</td>\n",
       "      <td>하이캐슬</td>\n",
       "      <td>84.06</td>\n",
       "      <td>201401</td>\n",
       "      <td>2</td>\n",
       "      <td>68000.0</td>\n",
       "      <td>1.791759</td>\n",
       "      <td>2008</td>\n",
       "      <td>train</td>\n",
       "      <td>2014-01-02</td>\n",
       "      <td>112.6</td>\n",
       "      <td>66.6</td>\n",
       "      <td>1.252763</td>\n",
       "      <td>0.9</td>\n",
       "      <td>58</td>\n",
       "      <td>68000.0</td>\n",
       "      <td>10.529453</td>\n",
       "      <td>0.693147</td>\n",
       "      <td>6</td>\n",
       "      <td>2014</td>\n",
       "      <td>0</td>\n",
       "      <td>1</td>\n",
       "      <td>0</td>\n",
       "      <td>0</td>\n",
       "      <td>0</td>\n",
       "      <td>84.06</td>\n",
       "      <td>2014</td>\n",
       "    </tr>\n",
       "    <tr>\n",
       "      <th>2</th>\n",
       "      <td>TRAIN_0705</td>\n",
       "      <td>서울특별시 강남구 대치동</td>\n",
       "      <td>511</td>\n",
       "      <td>한보미도맨션1</td>\n",
       "      <td>161.36</td>\n",
       "      <td>201401</td>\n",
       "      <td>4</td>\n",
       "      <td>155000.0</td>\n",
       "      <td>1.791759</td>\n",
       "      <td>1983</td>\n",
       "      <td>train</td>\n",
       "      <td>2014-01-04</td>\n",
       "      <td>112.6</td>\n",
       "      <td>66.6</td>\n",
       "      <td>1.252763</td>\n",
       "      <td>0.9</td>\n",
       "      <td>60</td>\n",
       "      <td>155000.0</td>\n",
       "      <td>11.353355</td>\n",
       "      <td>3.218876</td>\n",
       "      <td>31</td>\n",
       "      <td>2014</td>\n",
       "      <td>0</td>\n",
       "      <td>0</td>\n",
       "      <td>0</td>\n",
       "      <td>1</td>\n",
       "      <td>0</td>\n",
       "      <td>161.36</td>\n",
       "      <td>2014</td>\n",
       "    </tr>\n",
       "    <tr>\n",
       "      <th>3</th>\n",
       "      <td>TRAIN_0660</td>\n",
       "      <td>서울특별시 강남구 대치동</td>\n",
       "      <td>891-6</td>\n",
       "      <td>테헤란로대우아이빌(891-6)</td>\n",
       "      <td>33.11</td>\n",
       "      <td>201401</td>\n",
       "      <td>4</td>\n",
       "      <td>27000.0</td>\n",
       "      <td>3.044522</td>\n",
       "      <td>2004</td>\n",
       "      <td>train</td>\n",
       "      <td>2014-01-04</td>\n",
       "      <td>112.6</td>\n",
       "      <td>66.6</td>\n",
       "      <td>1.252763</td>\n",
       "      <td>0.9</td>\n",
       "      <td>49</td>\n",
       "      <td>27000.0</td>\n",
       "      <td>9.605822</td>\n",
       "      <td>1.945910</td>\n",
       "      <td>10</td>\n",
       "      <td>2014</td>\n",
       "      <td>1</td>\n",
       "      <td>0</td>\n",
       "      <td>0</td>\n",
       "      <td>0</td>\n",
       "      <td>0</td>\n",
       "      <td>33.11</td>\n",
       "      <td>2014</td>\n",
       "    </tr>\n",
       "    <tr>\n",
       "      <th>4</th>\n",
       "      <td>TRAIN_0102</td>\n",
       "      <td>서울특별시 강남구 대치동</td>\n",
       "      <td>891-28</td>\n",
       "      <td>대치동우정에쉐르1</td>\n",
       "      <td>59.98</td>\n",
       "      <td>201401</td>\n",
       "      <td>4</td>\n",
       "      <td>37400.0</td>\n",
       "      <td>1.945910</td>\n",
       "      <td>2004</td>\n",
       "      <td>train</td>\n",
       "      <td>2014-01-04</td>\n",
       "      <td>112.6</td>\n",
       "      <td>66.6</td>\n",
       "      <td>1.252763</td>\n",
       "      <td>0.9</td>\n",
       "      <td>6</td>\n",
       "      <td>37400.0</td>\n",
       "      <td>9.931638</td>\n",
       "      <td>1.609438</td>\n",
       "      <td>10</td>\n",
       "      <td>2014</td>\n",
       "      <td>1</td>\n",
       "      <td>0</td>\n",
       "      <td>0</td>\n",
       "      <td>0</td>\n",
       "      <td>0</td>\n",
       "      <td>59.98</td>\n",
       "      <td>2014</td>\n",
       "    </tr>\n",
       "  </tbody>\n",
       "</table>\n",
       "</div>"
      ],
      "text/plain": [
       "           id        sigungu   jibun          apt_name  exclusive_use_area  \\\n",
       "0  TRAIN_0320  서울특별시 강남구 대치동     670            동부센트레빌              145.83   \n",
       "1  TRAIN_0699  서울특별시 강남구 대치동  986-14              하이캐슬               84.06   \n",
       "2  TRAIN_0705  서울특별시 강남구 대치동     511           한보미도맨션1              161.36   \n",
       "3  TRAIN_0660  서울특별시 강남구 대치동   891-6  테헤란로대우아이빌(891-6)               33.11   \n",
       "4  TRAIN_0102  서울특별시 강남구 대치동  891-28         대치동우정에쉐르1               59.98   \n",
       "\n",
       "   transaction_year_month  transaction_day  transaction_real_price     floor  \\\n",
       "0                  201401                2                180000.0  2.833213   \n",
       "1                  201401                2                 68000.0  1.791759   \n",
       "2                  201401                4                155000.0  1.791759   \n",
       "3                  201401                4                 27000.0  3.044522   \n",
       "4                  201401                4                 37400.0  1.945910   \n",
       "\n",
       "   year_of_completion train_test transaction_date  소비심리지수  아파트 매매 실거래 가격 지수  \\\n",
       "0                2005      train       2014-01-02   112.6              66.6   \n",
       "1                2008      train       2014-01-02   112.6              66.6   \n",
       "2                1983      train       2014-01-04   112.6              66.6   \n",
       "3                2004      train       2014-01-04   112.6              66.6   \n",
       "4                2004      train       2014-01-04   112.6              66.6   \n",
       "\n",
       "       기준금리  GDP 성장률  apartment_id  recent_price  recent_jeonse  \\\n",
       "0  1.252763      0.9            20      180000.0      11.502885   \n",
       "1  1.252763      0.9            58       68000.0      10.529453   \n",
       "2  1.252763      0.9            60      155000.0      11.353355   \n",
       "3  1.252763      0.9            49       27000.0       9.605822   \n",
       "4  1.252763      0.9             6       37400.0       9.931638   \n",
       "\n",
       "   transaction_cnt  age  year  cluster_0.0  cluster_1.0  cluster_2.0  \\\n",
       "0         3.258097    9  2014            0            0            0   \n",
       "1         0.693147    6  2014            0            1            0   \n",
       "2         3.218876   31  2014            0            0            0   \n",
       "3         1.945910   10  2014            1            0            0   \n",
       "4         1.609438   10  2014            1            0            0   \n",
       "\n",
       "   cluster_3.0  cluster_4.0  use_area  transaction_year  \n",
       "0            1            0    145.83              2014  \n",
       "1            0            0     84.06              2014  \n",
       "2            1            0    161.36              2014  \n",
       "3            0            0     33.11              2014  \n",
       "4            0            0     59.98              2014  "
      ]
     },
     "execution_count": 119,
     "metadata": {},
     "output_type": "execute_result"
    }
   ],
   "source": [
    "data = pd.read_csv('../data/log_data.csv')\n",
    "data.head()"
   ]
  },
  {
   "cell_type": "code",
   "execution_count": 3,
   "id": "5d50ee69-685d-4db2-9e8d-8d848f8743e7",
   "metadata": {},
   "outputs": [
    {
     "data": {
      "text/plain": [
       "id                         object\n",
       "sigungu                    object\n",
       "jibun                      object\n",
       "apt_name                   object\n",
       "exclusive_use_area        float64\n",
       "transaction_year_month      int64\n",
       "transaction_day             int64\n",
       "transaction_real_price    float64\n",
       "floor                     float64\n",
       "year_of_completion          int64\n",
       "train_test                 object\n",
       "transaction_date           object\n",
       "소비심리지수                    float64\n",
       "아파트 매매 실거래 가격 지수          float64\n",
       "기준금리                      float64\n",
       "GDP 성장률                   float64\n",
       "apartment_id                int64\n",
       "recent_price              float64\n",
       "recent_jeonse             float64\n",
       "transaction_cnt           float64\n",
       "age                         int64\n",
       "year                        int64\n",
       "cluster_0.0                 int64\n",
       "cluster_1.0                 int64\n",
       "cluster_2.0                 int64\n",
       "cluster_3.0                 int64\n",
       "cluster_4.0                 int64\n",
       "use_area                  float64\n",
       "transaction_year            int64\n",
       "dtype: object"
      ]
     },
     "execution_count": 3,
     "metadata": {},
     "output_type": "execute_result"
    }
   ],
   "source": [
    "data.dtypes"
   ]
  },
  {
   "cell_type": "code",
   "execution_count": 123,
   "id": "5d59195c-dc09-48ad-84da-dd79fbfdb3aa",
   "metadata": {},
   "outputs": [
    {
     "data": {
      "text/html": [
       "<div>\n",
       "<style scoped>\n",
       "    .dataframe tbody tr th:only-of-type {\n",
       "        vertical-align: middle;\n",
       "    }\n",
       "\n",
       "    .dataframe tbody tr th {\n",
       "        vertical-align: top;\n",
       "    }\n",
       "\n",
       "    .dataframe thead th {\n",
       "        text-align: right;\n",
       "    }\n",
       "</style>\n",
       "<table border=\"1\" class=\"dataframe\">\n",
       "  <thead>\n",
       "    <tr style=\"text-align: right;\">\n",
       "      <th></th>\n",
       "      <th>id</th>\n",
       "      <th>sigungu</th>\n",
       "      <th>jibun</th>\n",
       "      <th>apt_name</th>\n",
       "      <th>exclusive_use_area</th>\n",
       "      <th>transaction_year_month</th>\n",
       "      <th>transaction_day</th>\n",
       "      <th>transaction_real_price</th>\n",
       "      <th>floor</th>\n",
       "      <th>year_of_completion</th>\n",
       "      <th>train_test</th>\n",
       "      <th>transaction_date</th>\n",
       "      <th>소비심리지수</th>\n",
       "      <th>아파트 매매 실거래 가격 지수</th>\n",
       "      <th>기준금리</th>\n",
       "      <th>GDP 성장률</th>\n",
       "      <th>apartment_id</th>\n",
       "      <th>recent_price</th>\n",
       "      <th>recent_jeonse</th>\n",
       "      <th>transaction_cnt</th>\n",
       "      <th>age</th>\n",
       "      <th>year</th>\n",
       "      <th>cluster_0.0</th>\n",
       "      <th>cluster_1.0</th>\n",
       "      <th>cluster_2.0</th>\n",
       "      <th>cluster_3.0</th>\n",
       "      <th>cluster_4.0</th>\n",
       "      <th>use_area</th>\n",
       "      <th>transaction_year</th>\n",
       "    </tr>\n",
       "  </thead>\n",
       "  <tbody>\n",
       "    <tr>\n",
       "      <th>362</th>\n",
       "      <td>TRAIN_0781</td>\n",
       "      <td>서울특별시 강남구 대치동</td>\n",
       "      <td>992</td>\n",
       "      <td>현대1</td>\n",
       "      <td>84.27</td>\n",
       "      <td>201405</td>\n",
       "      <td>26</td>\n",
       "      <td>59800.0</td>\n",
       "      <td>0.693147</td>\n",
       "      <td>1990</td>\n",
       "      <td>train</td>\n",
       "      <td>2014-05-26</td>\n",
       "      <td>116.2</td>\n",
       "      <td>67.8</td>\n",
       "      <td>1.252763</td>\n",
       "      <td>0.9</td>\n",
       "      <td>65</td>\n",
       "      <td>85000.0</td>\n",
       "      <td>10.691968</td>\n",
       "      <td>0.000000</td>\n",
       "      <td>24</td>\n",
       "      <td>2014</td>\n",
       "      <td>0</td>\n",
       "      <td>1</td>\n",
       "      <td>0</td>\n",
       "      <td>0</td>\n",
       "      <td>0</td>\n",
       "      <td>84.27</td>\n",
       "      <td>2014</td>\n",
       "    </tr>\n",
       "    <tr>\n",
       "      <th>504</th>\n",
       "      <td>TRAIN_0782</td>\n",
       "      <td>서울특별시 강남구 대치동</td>\n",
       "      <td>992</td>\n",
       "      <td>현대1</td>\n",
       "      <td>84.27</td>\n",
       "      <td>201408</td>\n",
       "      <td>5</td>\n",
       "      <td>63500.0</td>\n",
       "      <td>1.386294</td>\n",
       "      <td>1990</td>\n",
       "      <td>train</td>\n",
       "      <td>2014-08-05</td>\n",
       "      <td>115.0</td>\n",
       "      <td>67.9</td>\n",
       "      <td>1.252763</td>\n",
       "      <td>0.9</td>\n",
       "      <td>65</td>\n",
       "      <td>59800.0</td>\n",
       "      <td>10.645449</td>\n",
       "      <td>0.693147</td>\n",
       "      <td>24</td>\n",
       "      <td>2014</td>\n",
       "      <td>0</td>\n",
       "      <td>1</td>\n",
       "      <td>0</td>\n",
       "      <td>0</td>\n",
       "      <td>0</td>\n",
       "      <td>84.27</td>\n",
       "      <td>2014</td>\n",
       "    </tr>\n",
       "    <tr>\n",
       "      <th>645</th>\n",
       "      <td>TRAIN_0783</td>\n",
       "      <td>서울특별시 강남구 대치동</td>\n",
       "      <td>992</td>\n",
       "      <td>현대1</td>\n",
       "      <td>84.27</td>\n",
       "      <td>201409</td>\n",
       "      <td>23</td>\n",
       "      <td>67500.0</td>\n",
       "      <td>2.197225</td>\n",
       "      <td>1990</td>\n",
       "      <td>train</td>\n",
       "      <td>2014-09-23</td>\n",
       "      <td>125.5</td>\n",
       "      <td>68.2</td>\n",
       "      <td>1.178655</td>\n",
       "      <td>0.9</td>\n",
       "      <td>65</td>\n",
       "      <td>63500.0</td>\n",
       "      <td>10.778977</td>\n",
       "      <td>0.693147</td>\n",
       "      <td>24</td>\n",
       "      <td>2014</td>\n",
       "      <td>0</td>\n",
       "      <td>1</td>\n",
       "      <td>0</td>\n",
       "      <td>0</td>\n",
       "      <td>0</td>\n",
       "      <td>84.27</td>\n",
       "      <td>2014</td>\n",
       "    </tr>\n",
       "    <tr>\n",
       "      <th>653</th>\n",
       "      <td>TRAIN_0784</td>\n",
       "      <td>서울특별시 강남구 대치동</td>\n",
       "      <td>992</td>\n",
       "      <td>현대1</td>\n",
       "      <td>84.27</td>\n",
       "      <td>201409</td>\n",
       "      <td>25</td>\n",
       "      <td>66500.0</td>\n",
       "      <td>1.386294</td>\n",
       "      <td>1990</td>\n",
       "      <td>train</td>\n",
       "      <td>2014-09-25</td>\n",
       "      <td>125.5</td>\n",
       "      <td>68.2</td>\n",
       "      <td>1.178655</td>\n",
       "      <td>0.9</td>\n",
       "      <td>65</td>\n",
       "      <td>67500.0</td>\n",
       "      <td>10.778977</td>\n",
       "      <td>1.098612</td>\n",
       "      <td>24</td>\n",
       "      <td>2014</td>\n",
       "      <td>0</td>\n",
       "      <td>1</td>\n",
       "      <td>0</td>\n",
       "      <td>0</td>\n",
       "      <td>0</td>\n",
       "      <td>84.27</td>\n",
       "      <td>2014</td>\n",
       "    </tr>\n",
       "    <tr>\n",
       "      <th>698</th>\n",
       "      <td>TRAIN_0785</td>\n",
       "      <td>서울특별시 강남구 대치동</td>\n",
       "      <td>992</td>\n",
       "      <td>현대1</td>\n",
       "      <td>84.27</td>\n",
       "      <td>201410</td>\n",
       "      <td>10</td>\n",
       "      <td>68000.0</td>\n",
       "      <td>1.791759</td>\n",
       "      <td>1990</td>\n",
       "      <td>train</td>\n",
       "      <td>2014-10-10</td>\n",
       "      <td>127.9</td>\n",
       "      <td>68.8</td>\n",
       "      <td>1.178655</td>\n",
       "      <td>0.3</td>\n",
       "      <td>65</td>\n",
       "      <td>66500.0</td>\n",
       "      <td>10.778977</td>\n",
       "      <td>1.386294</td>\n",
       "      <td>24</td>\n",
       "      <td>2014</td>\n",
       "      <td>0</td>\n",
       "      <td>1</td>\n",
       "      <td>0</td>\n",
       "      <td>0</td>\n",
       "      <td>0</td>\n",
       "      <td>84.27</td>\n",
       "      <td>2014</td>\n",
       "    </tr>\n",
       "    <tr>\n",
       "      <th>...</th>\n",
       "      <td>...</td>\n",
       "      <td>...</td>\n",
       "      <td>...</td>\n",
       "      <td>...</td>\n",
       "      <td>...</td>\n",
       "      <td>...</td>\n",
       "      <td>...</td>\n",
       "      <td>...</td>\n",
       "      <td>...</td>\n",
       "      <td>...</td>\n",
       "      <td>...</td>\n",
       "      <td>...</td>\n",
       "      <td>...</td>\n",
       "      <td>...</td>\n",
       "      <td>...</td>\n",
       "      <td>...</td>\n",
       "      <td>...</td>\n",
       "      <td>...</td>\n",
       "      <td>...</td>\n",
       "      <td>...</td>\n",
       "      <td>...</td>\n",
       "      <td>...</td>\n",
       "      <td>...</td>\n",
       "      <td>...</td>\n",
       "      <td>...</td>\n",
       "      <td>...</td>\n",
       "      <td>...</td>\n",
       "      <td>...</td>\n",
       "      <td>...</td>\n",
       "    </tr>\n",
       "    <tr>\n",
       "      <th>5607</th>\n",
       "      <td>TRAIN_5865</td>\n",
       "      <td>서울특별시 강남구 대치동</td>\n",
       "      <td>992</td>\n",
       "      <td>현대1</td>\n",
       "      <td>84.89</td>\n",
       "      <td>202104</td>\n",
       "      <td>16</td>\n",
       "      <td>190000.0</td>\n",
       "      <td>1.791759</td>\n",
       "      <td>1990</td>\n",
       "      <td>train</td>\n",
       "      <td>2021-04-16</td>\n",
       "      <td>116.6</td>\n",
       "      <td>97.4</td>\n",
       "      <td>0.405465</td>\n",
       "      <td>1.8</td>\n",
       "      <td>65</td>\n",
       "      <td>165000.0</td>\n",
       "      <td>11.156265</td>\n",
       "      <td>0.000000</td>\n",
       "      <td>31</td>\n",
       "      <td>2021</td>\n",
       "      <td>0</td>\n",
       "      <td>1</td>\n",
       "      <td>0</td>\n",
       "      <td>0</td>\n",
       "      <td>0</td>\n",
       "      <td>84.89</td>\n",
       "      <td>2021</td>\n",
       "    </tr>\n",
       "    <tr>\n",
       "      <th>5729</th>\n",
       "      <td>TRAIN_5866</td>\n",
       "      <td>서울특별시 강남구 대치동</td>\n",
       "      <td>992</td>\n",
       "      <td>현대1</td>\n",
       "      <td>84.27</td>\n",
       "      <td>202108</td>\n",
       "      <td>24</td>\n",
       "      <td>198000.0</td>\n",
       "      <td>1.791759</td>\n",
       "      <td>1990</td>\n",
       "      <td>train</td>\n",
       "      <td>2021-08-24</td>\n",
       "      <td>130.7</td>\n",
       "      <td>100.9</td>\n",
       "      <td>0.405465</td>\n",
       "      <td>0.9</td>\n",
       "      <td>65</td>\n",
       "      <td>190000.0</td>\n",
       "      <td>10.868587</td>\n",
       "      <td>0.000000</td>\n",
       "      <td>31</td>\n",
       "      <td>2021</td>\n",
       "      <td>0</td>\n",
       "      <td>1</td>\n",
       "      <td>0</td>\n",
       "      <td>0</td>\n",
       "      <td>0</td>\n",
       "      <td>84.27</td>\n",
       "      <td>2021</td>\n",
       "    </tr>\n",
       "    <tr>\n",
       "      <th>5777</th>\n",
       "      <td>TRAIN_5867</td>\n",
       "      <td>서울특별시 강남구 대치동</td>\n",
       "      <td>992</td>\n",
       "      <td>현대1</td>\n",
       "      <td>84.27</td>\n",
       "      <td>202112</td>\n",
       "      <td>27</td>\n",
       "      <td>193000.0</td>\n",
       "      <td>1.609438</td>\n",
       "      <td>1990</td>\n",
       "      <td>train</td>\n",
       "      <td>2021-12-27</td>\n",
       "      <td>111.3</td>\n",
       "      <td>105.4</td>\n",
       "      <td>0.693147</td>\n",
       "      <td>0.1</td>\n",
       "      <td>65</td>\n",
       "      <td>198000.0</td>\n",
       "      <td>10.868587</td>\n",
       "      <td>0.000000</td>\n",
       "      <td>31</td>\n",
       "      <td>2021</td>\n",
       "      <td>0</td>\n",
       "      <td>1</td>\n",
       "      <td>0</td>\n",
       "      <td>0</td>\n",
       "      <td>0</td>\n",
       "      <td>84.27</td>\n",
       "      <td>2021</td>\n",
       "    </tr>\n",
       "    <tr>\n",
       "      <th>5867</th>\n",
       "      <td>TRAIN_5986</td>\n",
       "      <td>서울특별시 강남구 대치동</td>\n",
       "      <td>992</td>\n",
       "      <td>현대1</td>\n",
       "      <td>84.27</td>\n",
       "      <td>202208</td>\n",
       "      <td>16</td>\n",
       "      <td>205000.0</td>\n",
       "      <td>2.639057</td>\n",
       "      <td>1990</td>\n",
       "      <td>train</td>\n",
       "      <td>2022-08-16</td>\n",
       "      <td>93.0</td>\n",
       "      <td>106.1</td>\n",
       "      <td>1.178655</td>\n",
       "      <td>0.8</td>\n",
       "      <td>65</td>\n",
       "      <td>193000.0</td>\n",
       "      <td>11.002117</td>\n",
       "      <td>0.000000</td>\n",
       "      <td>32</td>\n",
       "      <td>2022</td>\n",
       "      <td>0</td>\n",
       "      <td>1</td>\n",
       "      <td>0</td>\n",
       "      <td>0</td>\n",
       "      <td>0</td>\n",
       "      <td>84.27</td>\n",
       "      <td>2022</td>\n",
       "    </tr>\n",
       "    <tr>\n",
       "      <th>5960</th>\n",
       "      <td>TEST_0195</td>\n",
       "      <td>서울특별시 강남구 대치동</td>\n",
       "      <td>992</td>\n",
       "      <td>현대1</td>\n",
       "      <td>84.27</td>\n",
       "      <td>202303</td>\n",
       "      <td>23</td>\n",
       "      <td>NaN</td>\n",
       "      <td>1.386294</td>\n",
       "      <td>1990</td>\n",
       "      <td>test</td>\n",
       "      <td>2023-03-23</td>\n",
       "      <td>93.7</td>\n",
       "      <td>99.1</td>\n",
       "      <td>1.504077</td>\n",
       "      <td>-0.3</td>\n",
       "      <td>65</td>\n",
       "      <td>205000.0</td>\n",
       "      <td>11.002117</td>\n",
       "      <td>0.000000</td>\n",
       "      <td>33</td>\n",
       "      <td>2023</td>\n",
       "      <td>0</td>\n",
       "      <td>1</td>\n",
       "      <td>0</td>\n",
       "      <td>0</td>\n",
       "      <td>0</td>\n",
       "      <td>84.27</td>\n",
       "      <td>2023</td>\n",
       "    </tr>\n",
       "  </tbody>\n",
       "</table>\n",
       "<p>43 rows × 29 columns</p>\n",
       "</div>"
      ],
      "text/plain": [
       "              id        sigungu jibun apt_name  exclusive_use_area  \\\n",
       "362   TRAIN_0781  서울특별시 강남구 대치동   992      현대1               84.27   \n",
       "504   TRAIN_0782  서울특별시 강남구 대치동   992      현대1               84.27   \n",
       "645   TRAIN_0783  서울특별시 강남구 대치동   992      현대1               84.27   \n",
       "653   TRAIN_0784  서울특별시 강남구 대치동   992      현대1               84.27   \n",
       "698   TRAIN_0785  서울특별시 강남구 대치동   992      현대1               84.27   \n",
       "...          ...            ...   ...      ...                 ...   \n",
       "5607  TRAIN_5865  서울특별시 강남구 대치동   992      현대1               84.89   \n",
       "5729  TRAIN_5866  서울특별시 강남구 대치동   992      현대1               84.27   \n",
       "5777  TRAIN_5867  서울특별시 강남구 대치동   992      현대1               84.27   \n",
       "5867  TRAIN_5986  서울특별시 강남구 대치동   992      현대1               84.27   \n",
       "5960   TEST_0195  서울특별시 강남구 대치동   992      현대1               84.27   \n",
       "\n",
       "      transaction_year_month  transaction_day  transaction_real_price  \\\n",
       "362                   201405               26                 59800.0   \n",
       "504                   201408                5                 63500.0   \n",
       "645                   201409               23                 67500.0   \n",
       "653                   201409               25                 66500.0   \n",
       "698                   201410               10                 68000.0   \n",
       "...                      ...              ...                     ...   \n",
       "5607                  202104               16                190000.0   \n",
       "5729                  202108               24                198000.0   \n",
       "5777                  202112               27                193000.0   \n",
       "5867                  202208               16                205000.0   \n",
       "5960                  202303               23                     NaN   \n",
       "\n",
       "         floor  year_of_completion train_test transaction_date  소비심리지수  \\\n",
       "362   0.693147                1990      train       2014-05-26   116.2   \n",
       "504   1.386294                1990      train       2014-08-05   115.0   \n",
       "645   2.197225                1990      train       2014-09-23   125.5   \n",
       "653   1.386294                1990      train       2014-09-25   125.5   \n",
       "698   1.791759                1990      train       2014-10-10   127.9   \n",
       "...        ...                 ...        ...              ...     ...   \n",
       "5607  1.791759                1990      train       2021-04-16   116.6   \n",
       "5729  1.791759                1990      train       2021-08-24   130.7   \n",
       "5777  1.609438                1990      train       2021-12-27   111.3   \n",
       "5867  2.639057                1990      train       2022-08-16    93.0   \n",
       "5960  1.386294                1990       test       2023-03-23    93.7   \n",
       "\n",
       "      아파트 매매 실거래 가격 지수      기준금리  GDP 성장률  apartment_id  recent_price  \\\n",
       "362               67.8  1.252763      0.9            65       85000.0   \n",
       "504               67.9  1.252763      0.9            65       59800.0   \n",
       "645               68.2  1.178655      0.9            65       63500.0   \n",
       "653               68.2  1.178655      0.9            65       67500.0   \n",
       "698               68.8  1.178655      0.3            65       66500.0   \n",
       "...                ...       ...      ...           ...           ...   \n",
       "5607              97.4  0.405465      1.8            65      165000.0   \n",
       "5729             100.9  0.405465      0.9            65      190000.0   \n",
       "5777             105.4  0.693147      0.1            65      198000.0   \n",
       "5867             106.1  1.178655      0.8            65      193000.0   \n",
       "5960              99.1  1.504077     -0.3            65      205000.0   \n",
       "\n",
       "      recent_jeonse  transaction_cnt  age  year  cluster_0.0  cluster_1.0  \\\n",
       "362       10.691968         0.000000   24  2014            0            1   \n",
       "504       10.645449         0.693147   24  2014            0            1   \n",
       "645       10.778977         0.693147   24  2014            0            1   \n",
       "653       10.778977         1.098612   24  2014            0            1   \n",
       "698       10.778977         1.386294   24  2014            0            1   \n",
       "...             ...              ...  ...   ...          ...          ...   \n",
       "5607      11.156265         0.000000   31  2021            0            1   \n",
       "5729      10.868587         0.000000   31  2021            0            1   \n",
       "5777      10.868587         0.000000   31  2021            0            1   \n",
       "5867      11.002117         0.000000   32  2022            0            1   \n",
       "5960      11.002117         0.000000   33  2023            0            1   \n",
       "\n",
       "      cluster_2.0  cluster_3.0  cluster_4.0  use_area  transaction_year  \n",
       "362             0            0            0     84.27              2014  \n",
       "504             0            0            0     84.27              2014  \n",
       "645             0            0            0     84.27              2014  \n",
       "653             0            0            0     84.27              2014  \n",
       "698             0            0            0     84.27              2014  \n",
       "...           ...          ...          ...       ...               ...  \n",
       "5607            0            0            0     84.89              2021  \n",
       "5729            0            0            0     84.27              2021  \n",
       "5777            0            0            0     84.27              2021  \n",
       "5867            0            0            0     84.27              2022  \n",
       "5960            0            0            0     84.27              2023  \n",
       "\n",
       "[43 rows x 29 columns]"
      ]
     },
     "execution_count": 123,
     "metadata": {},
     "output_type": "execute_result"
    }
   ],
   "source": [
    "data[data['apt_name'].str.contains('현대1')]"
   ]
  },
  {
   "cell_type": "code",
   "execution_count": 4,
   "id": "30e1e90a-f20b-4efe-ac79-ca9bafc01a4b",
   "metadata": {},
   "outputs": [
    {
     "data": {
      "text/plain": [
       "Index(['id', 'sigungu', 'jibun', 'apt_name', 'exclusive_use_area',\n",
       "       'transaction_year_month', 'transaction_day', 'transaction_real_price',\n",
       "       'floor', 'year_of_completion', 'train_test', 'transaction_date',\n",
       "       '소비심리지수', '아파트 매매 실거래 가격 지수', '기준금리', 'GDP 성장률', 'apartment_id',\n",
       "       'recent_price', 'recent_jeonse', 'transaction_cnt', 'age', 'year',\n",
       "       'cluster_0.0', 'cluster_1.0', 'cluster_2.0', 'cluster_3.0',\n",
       "       'cluster_4.0', 'use_area', 'transaction_year'],\n",
       "      dtype='object')"
      ]
     },
     "execution_count": 4,
     "metadata": {},
     "output_type": "execute_result"
    }
   ],
   "source": [
    "data.columns"
   ]
  },
  {
   "cell_type": "markdown",
   "id": "608459fc-dc89-462b-b176-efddf3f728ee",
   "metadata": {
    "tags": []
   },
   "source": [
    "# 모델학습"
   ]
  },
  {
   "cell_type": "markdown",
   "id": "e9b2e861-828a-45a0-a7b8-0bb844b2da94",
   "metadata": {
    "tags": []
   },
   "source": [
    "## train/val - 2018~2021/ 2022"
   ]
  },
  {
   "cell_type": "code",
   "execution_count": 5,
   "id": "af0ada64-1a32-4e2b-8554-dd5ff999c828",
   "metadata": {},
   "outputs": [],
   "source": [
    "columns = [ 'exclusive_use_area', 'floor', 'year_of_completion',\n",
    "       '소비심리지수', '아파트 매매 실거래 가격 지수', '기준금리', 'GDP 성장률', 'cluster_0.0', 'cluster_1.0', 'cluster_2.0', 'cluster_3.0',\n",
    "       'cluster_4.0','recent_price', 'recent_jeonse', 'age', 'transaction_cnt']"
   ]
  },
  {
   "cell_type": "code",
   "execution_count": 6,
   "id": "fe581738-b561-435c-82e3-cdbe271be386",
   "metadata": {},
   "outputs": [],
   "source": [
    "from sklearn.model_selection import train_test_split\n",
    "\n",
    "train_x, val_x, train_y, val_y = train_test_split(data.loc[(data['train_test'] == 'train'), columns], data.loc[(data['train_test'] == 'train'), 'transaction_real_price'],shuffle = False)"
   ]
  },
  {
   "cell_type": "code",
   "execution_count": 7,
   "id": "03c51115-4f5b-47b4-adbc-e3e484e436a1",
   "metadata": {},
   "outputs": [],
   "source": [
    "test_x = data.loc[(data['train_test'] == 'test'), columns]\n",
    "test_y = data.loc[(data['train_test'] == 'test'), 'transaction_real_price']"
   ]
  },
  {
   "cell_type": "code",
   "execution_count": 8,
   "id": "d2a5b2fb-d8dc-43b6-8658-ff265d823d79",
   "metadata": {},
   "outputs": [],
   "source": [
    "from lightgbm import LGBMRegressor\n",
    "from xgboost import XGBRegressor\n",
    "from catboost import CatBoostRegressor\n",
    "from sklearn.ensemble import RandomForestRegressor\n",
    "from sklearn.metrics import mean_absolute_error"
   ]
  },
  {
   "cell_type": "markdown",
   "id": "44875f3b-9e0e-4885-8fcb-7515b348c23b",
   "metadata": {
    "tags": []
   },
   "source": [
    "### RF - 20467"
   ]
  },
  {
   "cell_type": "code",
   "execution_count": 108,
   "id": "c23cf692-0ec5-4314-b7f8-7f4b13131da2",
   "metadata": {},
   "outputs": [
    {
     "name": "stdout",
     "output_type": "stream",
     "text": [
      "20233.187304347823\n"
     ]
    }
   ],
   "source": [
    "# 최적의 하이퍼파라미터로 모델 재학습\n",
    "rf = RandomForestRegressor(random_state = 42)\n",
    "rf.fit(train_x, train_y)\n",
    "\n",
    "# 예측\n",
    "pred_val_ls = rf.predict(val_x)\n",
    "\n",
    "mae = mean_absolute_error(val_y, pred_val_ls)\n",
    "print(mae)"
   ]
  },
  {
   "cell_type": "code",
   "execution_count": 117,
   "id": "5b4d2387-c395-4e90-8993-6929f7732227",
   "metadata": {
    "tags": []
   },
   "outputs": [
    {
     "data": {
      "image/png": "[encoded data removed]",
      "text/plain": [
       "<Figure size 432x288 with 1 Axes>"
      ]
     },
     "metadata": {
      "needs_background": "light"
     },
     "output_type": "display_data"
    }
   ],
   "source": [
    "import matplotlib.pyplot as plt\n",
    "\n",
    "importances = rf.feature_importances_\n",
    "feature_names = train_x.columns\n",
    "\n",
    "# 피쳐 중요도에 따라 내림차순으로 인덱스를 정렬\n",
    "indices = np.argsort(importances)[::-1]\n",
    "\n",
    "# 피쳐 이름을 중요도 순서에 맞게 재배열\n",
    "sorted_feature_names = [feature_names[i] for i in indices]\n",
    "\n",
    "# 피쳐 중요도 시각화\n",
    "plt.figure()\n",
    "plt.title(\"RF Feature Importance\")\n",
    "plt.barh(range(train_x.shape[1]), importances[indices], align=\"center\")\n",
    "plt.yticks(range(train_x.shape[1]), sorted_feature_names)\n",
    "plt.ylabel(\"Features\")\n",
    "plt.xlabel(\"RF Importance\")\n",
    "plt.show()"
   ]
  },
  {
   "cell_type": "markdown",
   "id": "7ccf76d6-4989-4bdf-8d4d-2079488918d2",
   "metadata": {
    "tags": []
   },
   "source": [
    "### LGBM - 22902"
   ]
  },
  {
   "cell_type": "code",
   "execution_count": 11,
   "id": "a62b711b-fe03-430d-8d49-543debf6a752",
   "metadata": {},
   "outputs": [
    {
     "name": "stdout",
     "output_type": "stream",
     "text": [
      "22902.243938001815\n"
     ]
    }
   ],
   "source": [
    "# 최적의 하이퍼파라미터로 모델 재학습\n",
    "lgb = LGBMRegressor(random_state = 42)\n",
    "lgb.fit(train_x, train_y)\n",
    "\n",
    "# 예측\n",
    "pred_val_ls = lgb.predict(val_x)\n",
    "\n",
    "mae = mean_absolute_error(val_y, pred_val_ls)\n",
    "print(mae)"
   ]
  },
  {
   "cell_type": "code",
   "execution_count": 12,
   "id": "216e7a15-c087-4cb1-aae9-7746e2cdbf5f",
   "metadata": {},
   "outputs": [
    {
     "data": {
      "image/png": "[encoded data removed]",
      "text/plain": [
       "<Figure size 432x288 with 1 Axes>"
      ]
     },
     "metadata": {
      "needs_background": "light"
     },
     "output_type": "display_data"
    }
   ],
   "source": [
    "import matplotlib.pyplot as plt\n",
    "\n",
    "importances = lgb.feature_importances_\n",
    "feature_names = train_x.columns\n",
    "\n",
    "# 피쳐 중요도에 따라 내림차순으로 인덱스를 정렬\n",
    "indices = np.argsort(importances)[::-1]\n",
    "\n",
    "# 피쳐 이름을 중요도 순서에 맞게 재배열\n",
    "sorted_feature_names = [feature_names[i] for i in indices]\n",
    "\n",
    "# 피쳐 중요도 시각화\n",
    "plt.figure()\n",
    "plt.title(\"Feature Importance\")\n",
    "plt.barh(range(train_x.shape[1]), importances[indices], align=\"center\")\n",
    "plt.yticks(range(train_x.shape[1]), sorted_feature_names)\n",
    "plt.ylabel(\"Features\")\n",
    "plt.xlabel(\"Importance\")\n",
    "plt.show()"
   ]
  },
  {
   "cell_type": "markdown",
   "id": "192ab746-0b55-4873-b9e5-4756e9e3b5be",
   "metadata": {},
   "source": [
    "### CatBoost - 26683"
   ]
  },
  {
   "cell_type": "code",
   "execution_count": 13,
   "id": "0816c6a7-026c-434d-84fd-7e6839a28db4",
   "metadata": {
    "collapsed": true,
    "jupyter": {
     "outputs_hidden": true
    },
    "tags": []
   },
   "outputs": [
    {
     "name": "stdout",
     "output_type": "stream",
     "text": [
      "Learning rate set to 0.051777\n",
      "0:\tlearn: 55782.6779265\ttotal: 149ms\tremaining: 2m 28s\n",
      "1:\tlearn: 53303.7367616\ttotal: 153ms\tremaining: 1m 16s\n",
      "2:\tlearn: 51002.3572834\ttotal: 158ms\tremaining: 52.6s\n",
      "3:\tlearn: 48837.8669660\ttotal: 163ms\tremaining: 40.6s\n",
      "4:\tlearn: 46797.6538694\ttotal: 167ms\tremaining: 33.3s\n",
      "5:\tlearn: 44762.5525171\ttotal: 172ms\tremaining: 28.5s\n",
      "6:\tlearn: 42864.6690067\ttotal: 176ms\tremaining: 24.9s\n",
      "7:\tlearn: 41102.0814738\ttotal: 179ms\tremaining: 22.2s\n",
      "8:\tlearn: 39424.8732568\ttotal: 185ms\tremaining: 20.4s\n",
      "9:\tlearn: 37763.2877051\ttotal: 189ms\tremaining: 18.7s\n",
      "10:\tlearn: 36140.7383671\ttotal: 193ms\tremaining: 17.3s\n",
      "11:\tlearn: 34689.4542888\ttotal: 198ms\tremaining: 16.3s\n",
      "12:\tlearn: 33240.6154726\ttotal: 203ms\tremaining: 15.4s\n",
      "13:\tlearn: 31965.4106458\ttotal: 207ms\tremaining: 14.6s\n",
      "14:\tlearn: 30795.3961424\ttotal: 211ms\tremaining: 13.8s\n",
      "15:\tlearn: 29644.4720821\ttotal: 217ms\tremaining: 13.3s\n",
      "16:\tlearn: 28530.9793909\ttotal: 221ms\tremaining: 12.8s\n",
      "17:\tlearn: 27513.9369134\ttotal: 230ms\tremaining: 12.5s\n",
      "18:\tlearn: 26512.9918806\ttotal: 234ms\tremaining: 12.1s\n",
      "19:\tlearn: 25544.1893173\ttotal: 237ms\tremaining: 11.6s\n",
      "20:\tlearn: 24682.8412239\ttotal: 241ms\tremaining: 11.2s\n",
      "21:\tlearn: 23833.7248460\ttotal: 245ms\tremaining: 10.9s\n",
      "22:\tlearn: 23019.6941694\ttotal: 248ms\tremaining: 10.5s\n",
      "23:\tlearn: 22305.4633839\ttotal: 251ms\tremaining: 10.2s\n",
      "24:\tlearn: 21612.0194809\ttotal: 257ms\tremaining: 10s\n",
      "25:\tlearn: 20937.9145007\ttotal: 260ms\tremaining: 9.74s\n",
      "26:\tlearn: 20279.8119935\ttotal: 263ms\tremaining: 9.48s\n",
      "27:\tlearn: 19653.0951228\ttotal: 266ms\tremaining: 9.24s\n",
      "28:\tlearn: 19097.8540578\ttotal: 272ms\tremaining: 9.09s\n",
      "29:\tlearn: 18549.1593632\ttotal: 275ms\tremaining: 8.89s\n",
      "30:\tlearn: 18033.6790253\ttotal: 278ms\tremaining: 8.68s\n",
      "31:\tlearn: 17589.2999859\ttotal: 283ms\tremaining: 8.55s\n",
      "32:\tlearn: 17150.5711486\ttotal: 286ms\tremaining: 8.38s\n",
      "33:\tlearn: 16737.9304034\ttotal: 289ms\tremaining: 8.2s\n",
      "34:\tlearn: 16329.8284366\ttotal: 292ms\tremaining: 8.04s\n",
      "35:\tlearn: 15965.5178097\ttotal: 297ms\tremaining: 7.96s\n",
      "36:\tlearn: 15608.3871097\ttotal: 301ms\tremaining: 7.83s\n",
      "37:\tlearn: 15280.4066535\ttotal: 304ms\tremaining: 7.71s\n",
      "38:\tlearn: 14975.6627273\ttotal: 307ms\tremaining: 7.57s\n",
      "39:\tlearn: 14659.1916463\ttotal: 313ms\tremaining: 7.51s\n",
      "40:\tlearn: 14389.6574878\ttotal: 316ms\tremaining: 7.39s\n",
      "41:\tlearn: 14131.8266088\ttotal: 319ms\tremaining: 7.29s\n",
      "42:\tlearn: 13877.3829928\ttotal: 322ms\tremaining: 7.18s\n",
      "43:\tlearn: 13645.4422779\ttotal: 328ms\tremaining: 7.13s\n",
      "44:\tlearn: 13408.9252855\ttotal: 332ms\tremaining: 7.04s\n",
      "45:\tlearn: 13210.3886516\ttotal: 335ms\tremaining: 6.94s\n",
      "46:\tlearn: 13020.6274092\ttotal: 339ms\tremaining: 6.87s\n",
      "47:\tlearn: 12852.7520699\ttotal: 343ms\tremaining: 6.8s\n",
      "48:\tlearn: 12661.6958106\ttotal: 347ms\tremaining: 6.72s\n",
      "49:\tlearn: 12512.1971765\ttotal: 350ms\tremaining: 6.65s\n",
      "50:\tlearn: 12351.7234166\ttotal: 356ms\tremaining: 6.62s\n",
      "51:\tlearn: 12201.3951812\ttotal: 359ms\tremaining: 6.54s\n",
      "52:\tlearn: 12058.9453390\ttotal: 362ms\tremaining: 6.47s\n",
      "53:\tlearn: 11908.9211398\ttotal: 367ms\tremaining: 6.44s\n",
      "54:\tlearn: 11783.2116747\ttotal: 371ms\tremaining: 6.38s\n",
      "55:\tlearn: 11665.1304690\ttotal: 375ms\tremaining: 6.32s\n",
      "56:\tlearn: 11558.8282013\ttotal: 381ms\tremaining: 6.3s\n",
      "57:\tlearn: 11441.4764589\ttotal: 388ms\tremaining: 6.3s\n",
      "58:\tlearn: 11346.8827956\ttotal: 392ms\tremaining: 6.26s\n",
      "59:\tlearn: 11235.4069096\ttotal: 398ms\tremaining: 6.24s\n",
      "60:\tlearn: 11156.5736662\ttotal: 402ms\tremaining: 6.19s\n",
      "61:\tlearn: 11076.3529267\ttotal: 406ms\tremaining: 6.14s\n",
      "62:\tlearn: 10990.4982415\ttotal: 412ms\tremaining: 6.13s\n",
      "63:\tlearn: 10916.2677914\ttotal: 415ms\tremaining: 6.07s\n",
      "64:\tlearn: 10844.7456807\ttotal: 419ms\tremaining: 6.02s\n",
      "65:\tlearn: 10771.7002780\ttotal: 423ms\tremaining: 5.99s\n",
      "66:\tlearn: 10723.4395736\ttotal: 427ms\tremaining: 5.95s\n",
      "67:\tlearn: 10665.2849508\ttotal: 430ms\tremaining: 5.89s\n",
      "68:\tlearn: 10598.6137107\ttotal: 433ms\tremaining: 5.84s\n",
      "69:\tlearn: 10552.1600541\ttotal: 439ms\tremaining: 5.83s\n",
      "70:\tlearn: 10500.2341962\ttotal: 442ms\tremaining: 5.78s\n",
      "71:\tlearn: 10446.0166871\ttotal: 445ms\tremaining: 5.74s\n",
      "72:\tlearn: 10405.0233818\ttotal: 449ms\tremaining: 5.7s\n",
      "73:\tlearn: 10356.6421631\ttotal: 455ms\tremaining: 5.69s\n",
      "74:\tlearn: 10318.1404369\ttotal: 458ms\tremaining: 5.65s\n",
      "75:\tlearn: 10273.5864441\ttotal: 461ms\tremaining: 5.61s\n",
      "76:\tlearn: 10230.4127477\ttotal: 468ms\tremaining: 5.61s\n",
      "77:\tlearn: 10190.0115377\ttotal: 471ms\tremaining: 5.56s\n",
      "78:\tlearn: 10155.7464133\ttotal: 473ms\tremaining: 5.52s\n",
      "79:\tlearn: 10104.5805439\ttotal: 479ms\tremaining: 5.51s\n",
      "80:\tlearn: 10055.6128742\ttotal: 482ms\tremaining: 5.47s\n",
      "81:\tlearn: 10018.9186704\ttotal: 486ms\tremaining: 5.44s\n",
      "82:\tlearn: 9973.2927831\ttotal: 490ms\tremaining: 5.41s\n",
      "83:\tlearn: 9945.9651665\ttotal: 495ms\tremaining: 5.4s\n",
      "84:\tlearn: 9906.9136378\ttotal: 498ms\tremaining: 5.36s\n",
      "85:\tlearn: 9874.4081262\ttotal: 502ms\tremaining: 5.33s\n",
      "86:\tlearn: 9842.8555192\ttotal: 506ms\tremaining: 5.31s\n",
      "87:\tlearn: 9820.8848645\ttotal: 510ms\tremaining: 5.29s\n",
      "88:\tlearn: 9790.7135548\ttotal: 514ms\tremaining: 5.26s\n",
      "89:\tlearn: 9765.1627667\ttotal: 517ms\tremaining: 5.23s\n",
      "90:\tlearn: 9736.9204453\ttotal: 522ms\tremaining: 5.22s\n",
      "91:\tlearn: 9703.3819061\ttotal: 526ms\tremaining: 5.19s\n",
      "92:\tlearn: 9676.2283756\ttotal: 530ms\tremaining: 5.17s\n",
      "93:\tlearn: 9649.0952287\ttotal: 540ms\tremaining: 5.2s\n",
      "94:\tlearn: 9630.5442381\ttotal: 545ms\tremaining: 5.19s\n",
      "95:\tlearn: 9602.7653525\ttotal: 551ms\tremaining: 5.19s\n",
      "96:\tlearn: 9569.8087394\ttotal: 554ms\tremaining: 5.16s\n",
      "97:\tlearn: 9555.3944015\ttotal: 558ms\tremaining: 5.13s\n",
      "98:\tlearn: 9535.0229971\ttotal: 560ms\tremaining: 5.1s\n",
      "99:\tlearn: 9525.4514677\ttotal: 566ms\tremaining: 5.09s\n",
      "100:\tlearn: 9506.0587196\ttotal: 569ms\tremaining: 5.07s\n",
      "101:\tlearn: 9487.8068940\ttotal: 572ms\tremaining: 5.04s\n",
      "102:\tlearn: 9447.0422212\ttotal: 575ms\tremaining: 5.01s\n",
      "103:\tlearn: 9416.3717191\ttotal: 581ms\tremaining: 5s\n",
      "104:\tlearn: 9406.3627888\ttotal: 584ms\tremaining: 4.97s\n",
      "105:\tlearn: 9376.0486671\ttotal: 587ms\tremaining: 4.95s\n",
      "106:\tlearn: 9358.5273232\ttotal: 590ms\tremaining: 4.92s\n",
      "107:\tlearn: 9347.7652474\ttotal: 595ms\tremaining: 4.92s\n",
      "108:\tlearn: 9335.9271966\ttotal: 598ms\tremaining: 4.89s\n",
      "109:\tlearn: 9318.9873056\ttotal: 601ms\tremaining: 4.86s\n",
      "110:\tlearn: 9302.2575016\ttotal: 604ms\tremaining: 4.83s\n",
      "111:\tlearn: 9286.4178477\ttotal: 608ms\tremaining: 4.82s\n",
      "112:\tlearn: 9271.9159131\ttotal: 612ms\tremaining: 4.8s\n",
      "113:\tlearn: 9255.8532658\ttotal: 615ms\tremaining: 4.78s\n",
      "114:\tlearn: 9242.8304283\ttotal: 617ms\tremaining: 4.75s\n",
      "115:\tlearn: 9224.3892355\ttotal: 622ms\tremaining: 4.74s\n",
      "116:\tlearn: 9207.6059168\ttotal: 626ms\tremaining: 4.72s\n",
      "117:\tlearn: 9200.4291190\ttotal: 628ms\tremaining: 4.7s\n",
      "118:\tlearn: 9186.7993542\ttotal: 631ms\tremaining: 4.67s\n",
      "119:\tlearn: 9177.4778185\ttotal: 634ms\tremaining: 4.65s\n",
      "120:\tlearn: 9160.4282380\ttotal: 639ms\tremaining: 4.64s\n",
      "121:\tlearn: 9149.8789793\ttotal: 642ms\tremaining: 4.62s\n",
      "122:\tlearn: 9132.3805717\ttotal: 645ms\tremaining: 4.6s\n",
      "123:\tlearn: 9118.1016231\ttotal: 651ms\tremaining: 4.6s\n",
      "124:\tlearn: 9107.3307714\ttotal: 654ms\tremaining: 4.58s\n",
      "125:\tlearn: 9088.0147173\ttotal: 657ms\tremaining: 4.56s\n",
      "126:\tlearn: 9069.2704303\ttotal: 660ms\tremaining: 4.54s\n",
      "127:\tlearn: 9042.5970694\ttotal: 665ms\tremaining: 4.53s\n",
      "128:\tlearn: 9029.5939446\ttotal: 669ms\tremaining: 4.51s\n",
      "129:\tlearn: 9014.7368114\ttotal: 672ms\tremaining: 4.5s\n",
      "130:\tlearn: 9003.4158124\ttotal: 675ms\tremaining: 4.48s\n",
      "131:\tlearn: 8985.1674526\ttotal: 680ms\tremaining: 4.47s\n",
      "132:\tlearn: 8958.7950862\ttotal: 684ms\tremaining: 4.46s\n",
      "133:\tlearn: 8950.3553900\ttotal: 687ms\tremaining: 4.44s\n",
      "134:\tlearn: 8919.0925011\ttotal: 690ms\tremaining: 4.42s\n",
      "135:\tlearn: 8906.4013942\ttotal: 693ms\tremaining: 4.41s\n",
      "136:\tlearn: 8891.8115424\ttotal: 696ms\tremaining: 4.39s\n",
      "137:\tlearn: 8881.5669638\ttotal: 700ms\tremaining: 4.37s\n",
      "138:\tlearn: 8874.8352890\ttotal: 703ms\tremaining: 4.35s\n",
      "139:\tlearn: 8847.1540541\ttotal: 707ms\tremaining: 4.34s\n",
      "140:\tlearn: 8836.0557251\ttotal: 711ms\tremaining: 4.33s\n",
      "141:\tlearn: 8811.0585419\ttotal: 719ms\tremaining: 4.35s\n",
      "142:\tlearn: 8799.0533803\ttotal: 723ms\tremaining: 4.33s\n",
      "143:\tlearn: 8788.9135105\ttotal: 726ms\tremaining: 4.32s\n",
      "144:\tlearn: 8773.7501906\ttotal: 729ms\tremaining: 4.3s\n",
      "145:\tlearn: 8764.7434719\ttotal: 732ms\tremaining: 4.28s\n",
      "146:\tlearn: 8750.8544977\ttotal: 735ms\tremaining: 4.26s\n",
      "147:\tlearn: 8735.5096551\ttotal: 737ms\tremaining: 4.24s\n",
      "148:\tlearn: 8719.7556755\ttotal: 740ms\tremaining: 4.23s\n",
      "149:\tlearn: 8705.9005490\ttotal: 743ms\tremaining: 4.21s\n",
      "150:\tlearn: 8688.8406480\ttotal: 746ms\tremaining: 4.2s\n",
      "151:\tlearn: 8670.8953407\ttotal: 749ms\tremaining: 4.18s\n",
      "152:\tlearn: 8663.6789113\ttotal: 753ms\tremaining: 4.17s\n",
      "153:\tlearn: 8638.5048140\ttotal: 757ms\tremaining: 4.16s\n",
      "154:\tlearn: 8622.7590561\ttotal: 760ms\tremaining: 4.14s\n",
      "155:\tlearn: 8605.2465269\ttotal: 763ms\tremaining: 4.13s\n",
      "156:\tlearn: 8595.2262886\ttotal: 766ms\tremaining: 4.11s\n",
      "157:\tlearn: 8585.6373549\ttotal: 769ms\tremaining: 4.09s\n",
      "158:\tlearn: 8578.3686528\ttotal: 771ms\tremaining: 4.08s\n",
      "159:\tlearn: 8555.3399346\ttotal: 775ms\tremaining: 4.07s\n",
      "160:\tlearn: 8544.3159552\ttotal: 777ms\tremaining: 4.05s\n",
      "161:\tlearn: 8533.1861101\ttotal: 780ms\tremaining: 4.04s\n",
      "162:\tlearn: 8512.7791455\ttotal: 783ms\tremaining: 4.02s\n",
      "163:\tlearn: 8501.6533648\ttotal: 787ms\tremaining: 4.01s\n",
      "164:\tlearn: 8476.2963650\ttotal: 790ms\tremaining: 4s\n",
      "165:\tlearn: 8462.0618101\ttotal: 793ms\tremaining: 3.98s\n",
      "166:\tlearn: 8449.6697629\ttotal: 796ms\tremaining: 3.97s\n",
      "167:\tlearn: 8433.1727590\ttotal: 799ms\tremaining: 3.96s\n",
      "168:\tlearn: 8425.6251724\ttotal: 802ms\tremaining: 3.94s\n",
      "169:\tlearn: 8411.4162775\ttotal: 804ms\tremaining: 3.93s\n",
      "170:\tlearn: 8400.2196617\ttotal: 808ms\tremaining: 3.92s\n",
      "171:\tlearn: 8378.3641421\ttotal: 811ms\tremaining: 3.9s\n",
      "172:\tlearn: 8362.2192715\ttotal: 814ms\tremaining: 3.89s\n",
      "173:\tlearn: 8347.8747375\ttotal: 817ms\tremaining: 3.88s\n",
      "174:\tlearn: 8334.2738976\ttotal: 821ms\tremaining: 3.87s\n",
      "175:\tlearn: 8315.5715588\ttotal: 824ms\tremaining: 3.86s\n",
      "176:\tlearn: 8303.1481105\ttotal: 827ms\tremaining: 3.85s\n",
      "177:\tlearn: 8285.6917058\ttotal: 831ms\tremaining: 3.83s\n",
      "178:\tlearn: 8276.8901943\ttotal: 834ms\tremaining: 3.82s\n",
      "179:\tlearn: 8260.4705743\ttotal: 837ms\tremaining: 3.81s\n",
      "180:\tlearn: 8249.9578983\ttotal: 840ms\tremaining: 3.8s\n",
      "181:\tlearn: 8238.9822458\ttotal: 843ms\tremaining: 3.79s\n",
      "182:\tlearn: 8229.6829904\ttotal: 848ms\tremaining: 3.78s\n",
      "183:\tlearn: 8217.5708447\ttotal: 855ms\tremaining: 3.79s\n",
      "184:\tlearn: 8214.8176360\ttotal: 861ms\tremaining: 3.79s\n",
      "185:\tlearn: 8197.6152708\ttotal: 865ms\tremaining: 3.78s\n",
      "186:\tlearn: 8184.2133069\ttotal: 868ms\tremaining: 3.77s\n",
      "187:\tlearn: 8166.2279274\ttotal: 871ms\tremaining: 3.76s\n",
      "188:\tlearn: 8156.3795157\ttotal: 875ms\tremaining: 3.75s\n",
      "189:\tlearn: 8146.4334600\ttotal: 878ms\tremaining: 3.74s\n",
      "190:\tlearn: 8134.2741445\ttotal: 881ms\tremaining: 3.73s\n",
      "191:\tlearn: 8125.4517974\ttotal: 885ms\tremaining: 3.72s\n",
      "192:\tlearn: 8114.4054296\ttotal: 888ms\tremaining: 3.71s\n",
      "193:\tlearn: 8106.0747865\ttotal: 891ms\tremaining: 3.7s\n",
      "194:\tlearn: 8098.6434329\ttotal: 894ms\tremaining: 3.69s\n",
      "195:\tlearn: 8088.9877446\ttotal: 897ms\tremaining: 3.68s\n",
      "196:\tlearn: 8076.7411162\ttotal: 900ms\tremaining: 3.67s\n",
      "197:\tlearn: 8058.0504774\ttotal: 904ms\tremaining: 3.66s\n",
      "198:\tlearn: 8046.1683066\ttotal: 907ms\tremaining: 3.65s\n",
      "199:\tlearn: 8032.5963363\ttotal: 910ms\tremaining: 3.64s\n",
      "200:\tlearn: 8027.8110194\ttotal: 913ms\tremaining: 3.63s\n",
      "201:\tlearn: 8013.4941801\ttotal: 916ms\tremaining: 3.62s\n",
      "202:\tlearn: 7997.4130832\ttotal: 920ms\tremaining: 3.61s\n",
      "203:\tlearn: 7979.7193968\ttotal: 923ms\tremaining: 3.6s\n",
      "204:\tlearn: 7968.6847379\ttotal: 926ms\tremaining: 3.59s\n",
      "205:\tlearn: 7951.2376658\ttotal: 929ms\tremaining: 3.58s\n",
      "206:\tlearn: 7942.5056358\ttotal: 932ms\tremaining: 3.57s\n",
      "207:\tlearn: 7930.9618461\ttotal: 936ms\tremaining: 3.56s\n",
      "208:\tlearn: 7917.3643746\ttotal: 939ms\tremaining: 3.55s\n",
      "209:\tlearn: 7908.4640267\ttotal: 942ms\tremaining: 3.54s\n",
      "210:\tlearn: 7900.4712151\ttotal: 945ms\tremaining: 3.54s\n",
      "211:\tlearn: 7878.1012563\ttotal: 949ms\tremaining: 3.53s\n",
      "212:\tlearn: 7864.6075665\ttotal: 952ms\tremaining: 3.52s\n",
      "213:\tlearn: 7845.7142039\ttotal: 955ms\tremaining: 3.51s\n",
      "214:\tlearn: 7831.5552598\ttotal: 958ms\tremaining: 3.5s\n",
      "215:\tlearn: 7823.4236437\ttotal: 961ms\tremaining: 3.49s\n",
      "216:\tlearn: 7811.6049482\ttotal: 964ms\tremaining: 3.48s\n",
      "217:\tlearn: 7795.7715198\ttotal: 967ms\tremaining: 3.47s\n",
      "218:\tlearn: 7787.5738411\ttotal: 971ms\tremaining: 3.46s\n",
      "219:\tlearn: 7774.1951327\ttotal: 974ms\tremaining: 3.45s\n",
      "220:\tlearn: 7762.1531777\ttotal: 977ms\tremaining: 3.44s\n",
      "221:\tlearn: 7748.4355385\ttotal: 980ms\tremaining: 3.44s\n",
      "222:\tlearn: 7740.9937677\ttotal: 983ms\tremaining: 3.42s\n",
      "223:\tlearn: 7723.5858796\ttotal: 987ms\tremaining: 3.42s\n",
      "224:\tlearn: 7703.5091347\ttotal: 990ms\tremaining: 3.41s\n",
      "225:\tlearn: 7696.3822502\ttotal: 993ms\tremaining: 3.4s\n",
      "226:\tlearn: 7688.1481546\ttotal: 996ms\tremaining: 3.39s\n",
      "227:\tlearn: 7675.8198165\ttotal: 999ms\tremaining: 3.38s\n",
      "228:\tlearn: 7663.1201894\ttotal: 1s\tremaining: 3.38s\n",
      "229:\tlearn: 7649.7015345\ttotal: 1s\tremaining: 3.37s\n",
      "230:\tlearn: 7632.1267637\ttotal: 1.01s\tremaining: 3.36s\n",
      "231:\tlearn: 7626.1675153\ttotal: 1.01s\tremaining: 3.36s\n",
      "232:\tlearn: 7618.6339850\ttotal: 1.02s\tremaining: 3.36s\n",
      "233:\tlearn: 7606.9102557\ttotal: 1.03s\tremaining: 3.37s\n",
      "234:\tlearn: 7597.3833225\ttotal: 1.03s\tremaining: 3.36s\n",
      "235:\tlearn: 7587.5202116\ttotal: 1.03s\tremaining: 3.35s\n",
      "236:\tlearn: 7575.6753563\ttotal: 1.04s\tremaining: 3.34s\n",
      "237:\tlearn: 7568.7463579\ttotal: 1.04s\tremaining: 3.34s\n",
      "238:\tlearn: 7549.8297280\ttotal: 1.04s\tremaining: 3.33s\n",
      "239:\tlearn: 7544.2964223\ttotal: 1.05s\tremaining: 3.32s\n",
      "240:\tlearn: 7530.8582054\ttotal: 1.05s\tremaining: 3.31s\n",
      "241:\tlearn: 7522.9188656\ttotal: 1.05s\tremaining: 3.31s\n",
      "242:\tlearn: 7516.0119236\ttotal: 1.06s\tremaining: 3.3s\n",
      "243:\tlearn: 7508.4397606\ttotal: 1.06s\tremaining: 3.29s\n",
      "244:\tlearn: 7495.1783305\ttotal: 1.06s\tremaining: 3.28s\n",
      "245:\tlearn: 7477.9966536\ttotal: 1.07s\tremaining: 3.27s\n",
      "246:\tlearn: 7467.7025510\ttotal: 1.07s\tremaining: 3.27s\n",
      "247:\tlearn: 7455.1318629\ttotal: 1.07s\tremaining: 3.26s\n",
      "248:\tlearn: 7447.8154577\ttotal: 1.08s\tremaining: 3.25s\n",
      "249:\tlearn: 7438.2074454\ttotal: 1.08s\tremaining: 3.24s\n",
      "250:\tlearn: 7425.2268261\ttotal: 1.08s\tremaining: 3.23s\n",
      "251:\tlearn: 7409.2103728\ttotal: 1.08s\tremaining: 3.22s\n",
      "252:\tlearn: 7397.1316745\ttotal: 1.09s\tremaining: 3.21s\n",
      "253:\tlearn: 7386.6869118\ttotal: 1.09s\tremaining: 3.21s\n",
      "254:\tlearn: 7375.6446856\ttotal: 1.09s\tremaining: 3.2s\n",
      "255:\tlearn: 7364.6151898\ttotal: 1.1s\tremaining: 3.19s\n",
      "256:\tlearn: 7357.5231789\ttotal: 1.1s\tremaining: 3.18s\n",
      "257:\tlearn: 7350.9012515\ttotal: 1.1s\tremaining: 3.17s\n",
      "258:\tlearn: 7343.5763119\ttotal: 1.1s\tremaining: 3.16s\n",
      "259:\tlearn: 7332.5658256\ttotal: 1.11s\tremaining: 3.16s\n",
      "260:\tlearn: 7318.6434569\ttotal: 1.11s\tremaining: 3.15s\n",
      "261:\tlearn: 7307.3774448\ttotal: 1.11s\tremaining: 3.14s\n",
      "262:\tlearn: 7296.3477857\ttotal: 1.12s\tremaining: 3.13s\n",
      "263:\tlearn: 7288.1780375\ttotal: 1.12s\tremaining: 3.13s\n",
      "264:\tlearn: 7275.2929659\ttotal: 1.12s\tremaining: 3.12s\n",
      "265:\tlearn: 7269.4109927\ttotal: 1.13s\tremaining: 3.11s\n",
      "266:\tlearn: 7262.8721787\ttotal: 1.13s\tremaining: 3.1s\n",
      "267:\tlearn: 7258.0331705\ttotal: 1.13s\tremaining: 3.1s\n",
      "268:\tlearn: 7252.4658573\ttotal: 1.14s\tremaining: 3.09s\n",
      "269:\tlearn: 7244.6180007\ttotal: 1.14s\tremaining: 3.08s\n",
      "270:\tlearn: 7239.5402763\ttotal: 1.14s\tremaining: 3.08s\n",
      "271:\tlearn: 7227.7621189\ttotal: 1.15s\tremaining: 3.07s\n",
      "272:\tlearn: 7220.7434918\ttotal: 1.15s\tremaining: 3.06s\n",
      "273:\tlearn: 7215.5311799\ttotal: 1.15s\tremaining: 3.06s\n",
      "274:\tlearn: 7209.2767902\ttotal: 1.16s\tremaining: 3.05s\n",
      "275:\tlearn: 7198.0866557\ttotal: 1.16s\tremaining: 3.04s\n",
      "276:\tlearn: 7186.5083048\ttotal: 1.16s\tremaining: 3.04s\n",
      "277:\tlearn: 7174.0619030\ttotal: 1.17s\tremaining: 3.03s\n",
      "278:\tlearn: 7168.9783386\ttotal: 1.17s\tremaining: 3.03s\n",
      "279:\tlearn: 7160.4988905\ttotal: 1.18s\tremaining: 3.02s\n",
      "280:\tlearn: 7147.9320464\ttotal: 1.18s\tremaining: 3.02s\n",
      "281:\tlearn: 7137.7813995\ttotal: 1.18s\tremaining: 3.01s\n",
      "282:\tlearn: 7132.2035389\ttotal: 1.19s\tremaining: 3.01s\n",
      "283:\tlearn: 7121.9436761\ttotal: 1.19s\tremaining: 3s\n",
      "284:\tlearn: 7114.0524834\ttotal: 1.19s\tremaining: 3s\n",
      "285:\tlearn: 7101.4224913\ttotal: 1.2s\tremaining: 2.99s\n",
      "286:\tlearn: 7091.7973206\ttotal: 1.2s\tremaining: 2.99s\n",
      "287:\tlearn: 7083.9793355\ttotal: 1.21s\tremaining: 2.98s\n",
      "288:\tlearn: 7074.1839314\ttotal: 1.21s\tremaining: 2.97s\n",
      "289:\tlearn: 7065.6527620\ttotal: 1.21s\tremaining: 2.97s\n",
      "290:\tlearn: 7060.1489838\ttotal: 1.22s\tremaining: 2.96s\n",
      "291:\tlearn: 7052.5559190\ttotal: 1.22s\tremaining: 2.96s\n",
      "292:\tlearn: 7047.5705984\ttotal: 1.22s\tremaining: 2.95s\n",
      "293:\tlearn: 7033.6229167\ttotal: 1.23s\tremaining: 2.95s\n",
      "294:\tlearn: 7024.3073527\ttotal: 1.23s\tremaining: 2.94s\n",
      "295:\tlearn: 7013.6468447\ttotal: 1.23s\tremaining: 2.94s\n",
      "296:\tlearn: 7009.0454146\ttotal: 1.24s\tremaining: 2.93s\n",
      "297:\tlearn: 7002.4093876\ttotal: 1.24s\tremaining: 2.93s\n",
      "298:\tlearn: 6998.9573239\ttotal: 1.25s\tremaining: 2.92s\n",
      "299:\tlearn: 6992.4849427\ttotal: 1.25s\tremaining: 2.91s\n",
      "300:\tlearn: 6985.3749374\ttotal: 1.25s\tremaining: 2.91s\n",
      "301:\tlearn: 6982.1076487\ttotal: 1.25s\tremaining: 2.9s\n",
      "302:\tlearn: 6977.0102744\ttotal: 1.26s\tremaining: 2.9s\n",
      "303:\tlearn: 6972.1080277\ttotal: 1.26s\tremaining: 2.89s\n",
      "304:\tlearn: 6963.6288903\ttotal: 1.26s\tremaining: 2.88s\n",
      "305:\tlearn: 6957.8814360\ttotal: 1.27s\tremaining: 2.88s\n",
      "306:\tlearn: 6947.6351466\ttotal: 1.27s\tremaining: 2.87s\n",
      "307:\tlearn: 6939.1606335\ttotal: 1.28s\tremaining: 2.87s\n",
      "308:\tlearn: 6933.0117520\ttotal: 1.28s\tremaining: 2.86s\n",
      "309:\tlearn: 6926.7996852\ttotal: 1.28s\tremaining: 2.86s\n",
      "310:\tlearn: 6919.6765186\ttotal: 1.29s\tremaining: 2.85s\n",
      "311:\tlearn: 6916.5933636\ttotal: 1.29s\tremaining: 2.84s\n",
      "312:\tlearn: 6906.8974061\ttotal: 1.29s\tremaining: 2.84s\n",
      "313:\tlearn: 6899.0185956\ttotal: 1.3s\tremaining: 2.83s\n",
      "314:\tlearn: 6893.1063425\ttotal: 1.3s\tremaining: 2.83s\n",
      "315:\tlearn: 6884.8830720\ttotal: 1.3s\tremaining: 2.82s\n",
      "316:\tlearn: 6880.5442044\ttotal: 1.31s\tremaining: 2.81s\n",
      "317:\tlearn: 6873.8225622\ttotal: 1.31s\tremaining: 2.81s\n",
      "318:\tlearn: 6868.0811688\ttotal: 1.31s\tremaining: 2.8s\n",
      "319:\tlearn: 6862.4379205\ttotal: 1.31s\tremaining: 2.8s\n",
      "320:\tlearn: 6854.2662986\ttotal: 1.32s\tremaining: 2.79s\n",
      "321:\tlearn: 6846.7363896\ttotal: 1.32s\tremaining: 2.78s\n",
      "322:\tlearn: 6840.3179460\ttotal: 1.32s\tremaining: 2.78s\n",
      "323:\tlearn: 6833.7210742\ttotal: 1.33s\tremaining: 2.77s\n",
      "324:\tlearn: 6827.0582457\ttotal: 1.33s\tremaining: 2.77s\n",
      "325:\tlearn: 6822.2182894\ttotal: 1.33s\tremaining: 2.76s\n",
      "326:\tlearn: 6819.3869430\ttotal: 1.34s\tremaining: 2.75s\n",
      "327:\tlearn: 6814.6846202\ttotal: 1.34s\tremaining: 2.75s\n",
      "328:\tlearn: 6799.2116566\ttotal: 1.34s\tremaining: 2.74s\n",
      "329:\tlearn: 6792.2103273\ttotal: 1.35s\tremaining: 2.74s\n",
      "330:\tlearn: 6787.5979409\ttotal: 1.35s\tremaining: 2.73s\n",
      "331:\tlearn: 6780.5213399\ttotal: 1.35s\tremaining: 2.73s\n",
      "332:\tlearn: 6774.2834300\ttotal: 1.36s\tremaining: 2.72s\n",
      "333:\tlearn: 6764.0785419\ttotal: 1.36s\tremaining: 2.71s\n",
      "334:\tlearn: 6759.4629812\ttotal: 1.36s\tremaining: 2.71s\n",
      "335:\tlearn: 6752.3253699\ttotal: 1.37s\tremaining: 2.7s\n",
      "336:\tlearn: 6748.4975303\ttotal: 1.37s\tremaining: 2.7s\n",
      "337:\tlearn: 6742.5063098\ttotal: 1.38s\tremaining: 2.69s\n",
      "338:\tlearn: 6735.1386428\ttotal: 1.38s\tremaining: 2.69s\n",
      "339:\tlearn: 6731.5429342\ttotal: 1.38s\tremaining: 2.68s\n",
      "340:\tlearn: 6726.3690773\ttotal: 1.39s\tremaining: 2.68s\n",
      "341:\tlearn: 6719.6837269\ttotal: 1.39s\tremaining: 2.67s\n",
      "342:\tlearn: 6708.5920931\ttotal: 1.39s\tremaining: 2.67s\n",
      "343:\tlearn: 6699.3725759\ttotal: 1.4s\tremaining: 2.66s\n",
      "344:\tlearn: 6690.9357015\ttotal: 1.4s\tremaining: 2.65s\n",
      "345:\tlearn: 6684.4412252\ttotal: 1.4s\tremaining: 2.65s\n",
      "346:\tlearn: 6674.1675892\ttotal: 1.4s\tremaining: 2.64s\n",
      "347:\tlearn: 6667.8750614\ttotal: 1.41s\tremaining: 2.64s\n",
      "348:\tlearn: 6663.4132994\ttotal: 1.41s\tremaining: 2.63s\n",
      "349:\tlearn: 6653.6990264\ttotal: 1.41s\tremaining: 2.63s\n",
      "350:\tlearn: 6649.4041252\ttotal: 1.42s\tremaining: 2.62s\n",
      "351:\tlearn: 6642.6679502\ttotal: 1.42s\tremaining: 2.62s\n",
      "352:\tlearn: 6636.4069636\ttotal: 1.42s\tremaining: 2.61s\n",
      "353:\tlearn: 6631.8888424\ttotal: 1.43s\tremaining: 2.6s\n",
      "354:\tlearn: 6623.2876799\ttotal: 1.43s\tremaining: 2.6s\n",
      "355:\tlearn: 6617.7472857\ttotal: 1.43s\tremaining: 2.59s\n",
      "356:\tlearn: 6609.3287121\ttotal: 1.44s\tremaining: 2.59s\n",
      "357:\tlearn: 6602.4115182\ttotal: 1.44s\tremaining: 2.58s\n",
      "358:\tlearn: 6596.8120175\ttotal: 1.44s\tremaining: 2.58s\n",
      "359:\tlearn: 6588.4227221\ttotal: 1.45s\tremaining: 2.57s\n",
      "360:\tlearn: 6581.6644978\ttotal: 1.45s\tremaining: 2.57s\n",
      "361:\tlearn: 6575.3015772\ttotal: 1.45s\tremaining: 2.56s\n",
      "362:\tlearn: 6568.1915774\ttotal: 1.46s\tremaining: 2.56s\n",
      "363:\tlearn: 6562.2760828\ttotal: 1.46s\tremaining: 2.55s\n",
      "364:\tlearn: 6556.3894403\ttotal: 1.46s\tremaining: 2.55s\n",
      "365:\tlearn: 6548.7024491\ttotal: 1.47s\tremaining: 2.54s\n",
      "366:\tlearn: 6543.9273783\ttotal: 1.47s\tremaining: 2.54s\n",
      "367:\tlearn: 6539.6341285\ttotal: 1.48s\tremaining: 2.54s\n",
      "368:\tlearn: 6532.0784257\ttotal: 1.48s\tremaining: 2.53s\n",
      "369:\tlearn: 6525.0207227\ttotal: 1.49s\tremaining: 2.53s\n",
      "370:\tlearn: 6522.3788077\ttotal: 1.49s\tremaining: 2.52s\n",
      "371:\tlearn: 6520.0615310\ttotal: 1.49s\tremaining: 2.52s\n",
      "372:\tlearn: 6511.4818643\ttotal: 1.5s\tremaining: 2.51s\n",
      "373:\tlearn: 6507.2358251\ttotal: 1.5s\tremaining: 2.51s\n",
      "374:\tlearn: 6501.8472588\ttotal: 1.5s\tremaining: 2.51s\n",
      "375:\tlearn: 6498.8695561\ttotal: 1.51s\tremaining: 2.5s\n",
      "376:\tlearn: 6494.4712063\ttotal: 1.52s\tremaining: 2.51s\n",
      "377:\tlearn: 6485.6504726\ttotal: 1.52s\tremaining: 2.51s\n",
      "378:\tlearn: 6480.8218845\ttotal: 1.53s\tremaining: 2.51s\n",
      "379:\tlearn: 6471.7877426\ttotal: 1.53s\tremaining: 2.5s\n",
      "380:\tlearn: 6467.6891156\ttotal: 1.54s\tremaining: 2.5s\n",
      "381:\tlearn: 6460.7428679\ttotal: 1.55s\tremaining: 2.51s\n",
      "382:\tlearn: 6453.9626103\ttotal: 1.55s\tremaining: 2.5s\n",
      "383:\tlearn: 6448.4026360\ttotal: 1.56s\tremaining: 2.5s\n",
      "384:\tlearn: 6446.0445076\ttotal: 1.56s\tremaining: 2.49s\n",
      "385:\tlearn: 6441.3519832\ttotal: 1.56s\tremaining: 2.49s\n",
      "386:\tlearn: 6436.7780945\ttotal: 1.57s\tremaining: 2.48s\n",
      "387:\tlearn: 6432.6008786\ttotal: 1.57s\tremaining: 2.48s\n",
      "388:\tlearn: 6427.7161213\ttotal: 1.57s\tremaining: 2.47s\n",
      "389:\tlearn: 6420.4012029\ttotal: 1.58s\tremaining: 2.47s\n",
      "390:\tlearn: 6416.2970919\ttotal: 1.58s\tremaining: 2.46s\n",
      "391:\tlearn: 6407.6583737\ttotal: 1.59s\tremaining: 2.46s\n",
      "392:\tlearn: 6401.2331170\ttotal: 1.59s\tremaining: 2.46s\n",
      "393:\tlearn: 6397.2852098\ttotal: 1.59s\tremaining: 2.45s\n",
      "394:\tlearn: 6390.3633425\ttotal: 1.59s\tremaining: 2.44s\n",
      "395:\tlearn: 6384.2378590\ttotal: 1.6s\tremaining: 2.44s\n",
      "396:\tlearn: 6377.0871817\ttotal: 1.6s\tremaining: 2.44s\n",
      "397:\tlearn: 6372.1593653\ttotal: 1.61s\tremaining: 2.43s\n",
      "398:\tlearn: 6361.1340044\ttotal: 1.61s\tremaining: 2.42s\n",
      "399:\tlearn: 6357.6601518\ttotal: 1.61s\tremaining: 2.42s\n",
      "400:\tlearn: 6353.9500411\ttotal: 1.62s\tremaining: 2.42s\n",
      "401:\tlearn: 6351.1907687\ttotal: 1.62s\tremaining: 2.41s\n",
      "402:\tlearn: 6342.4212555\ttotal: 1.62s\tremaining: 2.4s\n",
      "403:\tlearn: 6338.7096142\ttotal: 1.63s\tremaining: 2.4s\n",
      "404:\tlearn: 6334.4825681\ttotal: 1.63s\tremaining: 2.39s\n",
      "405:\tlearn: 6326.8530759\ttotal: 1.63s\tremaining: 2.39s\n",
      "406:\tlearn: 6320.2537841\ttotal: 1.64s\tremaining: 2.38s\n",
      "407:\tlearn: 6315.0100909\ttotal: 1.64s\tremaining: 2.38s\n",
      "408:\tlearn: 6306.5659652\ttotal: 1.64s\tremaining: 2.37s\n",
      "409:\tlearn: 6302.6967461\ttotal: 1.65s\tremaining: 2.37s\n",
      "410:\tlearn: 6296.7477158\ttotal: 1.65s\tremaining: 2.36s\n",
      "411:\tlearn: 6293.5293771\ttotal: 1.65s\tremaining: 2.36s\n",
      "412:\tlearn: 6287.7157495\ttotal: 1.66s\tremaining: 2.35s\n",
      "413:\tlearn: 6277.7166805\ttotal: 1.66s\tremaining: 2.35s\n",
      "414:\tlearn: 6272.8093545\ttotal: 1.66s\tremaining: 2.35s\n",
      "415:\tlearn: 6269.3733423\ttotal: 1.67s\tremaining: 2.35s\n",
      "416:\tlearn: 6259.6846523\ttotal: 1.67s\tremaining: 2.34s\n",
      "417:\tlearn: 6256.6106519\ttotal: 1.68s\tremaining: 2.34s\n",
      "418:\tlearn: 6251.8026049\ttotal: 1.68s\tremaining: 2.33s\n",
      "419:\tlearn: 6247.5740918\ttotal: 1.68s\tremaining: 2.33s\n",
      "420:\tlearn: 6241.7506969\ttotal: 1.69s\tremaining: 2.32s\n",
      "421:\tlearn: 6239.1324533\ttotal: 1.69s\tremaining: 2.31s\n",
      "422:\tlearn: 6236.9158205\ttotal: 1.69s\tremaining: 2.31s\n",
      "423:\tlearn: 6231.3254081\ttotal: 1.7s\tremaining: 2.3s\n",
      "424:\tlearn: 6223.4377329\ttotal: 1.7s\tremaining: 2.3s\n",
      "425:\tlearn: 6220.6347361\ttotal: 1.7s\tremaining: 2.29s\n",
      "426:\tlearn: 6215.7374871\ttotal: 1.7s\tremaining: 2.29s\n",
      "427:\tlearn: 6211.9657996\ttotal: 1.71s\tremaining: 2.28s\n",
      "428:\tlearn: 6204.6445530\ttotal: 1.71s\tremaining: 2.27s\n",
      "429:\tlearn: 6198.1288277\ttotal: 1.71s\tremaining: 2.27s\n",
      "430:\tlearn: 6190.2374497\ttotal: 1.72s\tremaining: 2.27s\n",
      "431:\tlearn: 6186.5104629\ttotal: 1.72s\tremaining: 2.26s\n",
      "432:\tlearn: 6181.8768199\ttotal: 1.72s\tremaining: 2.25s\n",
      "433:\tlearn: 6177.7698875\ttotal: 1.74s\tremaining: 2.27s\n",
      "434:\tlearn: 6175.1866287\ttotal: 1.74s\tremaining: 2.26s\n",
      "435:\tlearn: 6170.3776941\ttotal: 1.75s\tremaining: 2.26s\n",
      "436:\tlearn: 6167.2198343\ttotal: 1.75s\tremaining: 2.25s\n",
      "437:\tlearn: 6163.7421599\ttotal: 1.75s\tremaining: 2.25s\n",
      "438:\tlearn: 6158.9693983\ttotal: 1.75s\tremaining: 2.24s\n",
      "439:\tlearn: 6153.4265466\ttotal: 1.76s\tremaining: 2.24s\n",
      "440:\tlearn: 6147.9074830\ttotal: 1.76s\tremaining: 2.23s\n",
      "441:\tlearn: 6141.0391460\ttotal: 1.77s\tremaining: 2.23s\n",
      "442:\tlearn: 6138.0755226\ttotal: 1.77s\tremaining: 2.23s\n",
      "443:\tlearn: 6130.6996185\ttotal: 1.77s\tremaining: 2.22s\n",
      "444:\tlearn: 6126.5265942\ttotal: 1.78s\tremaining: 2.21s\n",
      "445:\tlearn: 6119.2816657\ttotal: 1.78s\tremaining: 2.21s\n",
      "446:\tlearn: 6112.4152448\ttotal: 1.78s\tremaining: 2.21s\n",
      "447:\tlearn: 6105.0319378\ttotal: 1.79s\tremaining: 2.2s\n",
      "448:\tlearn: 6096.3636852\ttotal: 1.79s\tremaining: 2.2s\n",
      "449:\tlearn: 6093.4685749\ttotal: 1.8s\tremaining: 2.19s\n",
      "450:\tlearn: 6088.2575641\ttotal: 1.8s\tremaining: 2.19s\n",
      "451:\tlearn: 6084.9904973\ttotal: 1.8s\tremaining: 2.19s\n",
      "452:\tlearn: 6081.0388607\ttotal: 1.81s\tremaining: 2.18s\n",
      "453:\tlearn: 6075.1169437\ttotal: 1.81s\tremaining: 2.18s\n",
      "454:\tlearn: 6071.3120892\ttotal: 1.82s\tremaining: 2.18s\n",
      "455:\tlearn: 6069.1190811\ttotal: 1.82s\tremaining: 2.17s\n",
      "456:\tlearn: 6063.6391600\ttotal: 1.83s\tremaining: 2.17s\n",
      "457:\tlearn: 6059.1590992\ttotal: 1.83s\tremaining: 2.17s\n",
      "458:\tlearn: 6055.2496493\ttotal: 1.84s\tremaining: 2.16s\n",
      "459:\tlearn: 6050.4967884\ttotal: 1.84s\tremaining: 2.16s\n",
      "460:\tlearn: 6046.7777250\ttotal: 1.85s\tremaining: 2.16s\n",
      "461:\tlearn: 6041.0027563\ttotal: 1.85s\tremaining: 2.15s\n",
      "462:\tlearn: 6034.9472888\ttotal: 1.85s\tremaining: 2.15s\n",
      "463:\tlearn: 6030.2262075\ttotal: 1.86s\tremaining: 2.15s\n",
      "464:\tlearn: 6027.0588500\ttotal: 1.86s\tremaining: 2.14s\n",
      "465:\tlearn: 6021.5235283\ttotal: 1.86s\tremaining: 2.14s\n",
      "466:\tlearn: 6017.2735911\ttotal: 1.87s\tremaining: 2.13s\n",
      "467:\tlearn: 6013.5894620\ttotal: 1.87s\tremaining: 2.13s\n",
      "468:\tlearn: 6010.2971410\ttotal: 1.88s\tremaining: 2.12s\n",
      "469:\tlearn: 6003.7317469\ttotal: 1.88s\tremaining: 2.12s\n",
      "470:\tlearn: 5996.5379688\ttotal: 1.88s\tremaining: 2.12s\n",
      "471:\tlearn: 5989.7871326\ttotal: 1.89s\tremaining: 2.11s\n",
      "472:\tlearn: 5980.4933268\ttotal: 1.89s\tremaining: 2.1s\n",
      "473:\tlearn: 5974.7740948\ttotal: 1.89s\tremaining: 2.1s\n",
      "474:\tlearn: 5970.8480901\ttotal: 1.9s\tremaining: 2.1s\n",
      "475:\tlearn: 5966.8346013\ttotal: 1.9s\tremaining: 2.09s\n",
      "476:\tlearn: 5964.4209748\ttotal: 1.9s\tremaining: 2.09s\n",
      "477:\tlearn: 5960.5811092\ttotal: 1.91s\tremaining: 2.08s\n",
      "478:\tlearn: 5957.6931299\ttotal: 1.91s\tremaining: 2.08s\n",
      "479:\tlearn: 5954.6084986\ttotal: 1.92s\tremaining: 2.07s\n",
      "480:\tlearn: 5951.6047868\ttotal: 1.92s\tremaining: 2.07s\n",
      "481:\tlearn: 5944.7650899\ttotal: 1.92s\tremaining: 2.07s\n",
      "482:\tlearn: 5937.0208019\ttotal: 1.93s\tremaining: 2.06s\n",
      "483:\tlearn: 5933.2728028\ttotal: 1.93s\tremaining: 2.06s\n",
      "484:\tlearn: 5926.1912568\ttotal: 1.93s\tremaining: 2.05s\n",
      "485:\tlearn: 5923.3874714\ttotal: 1.94s\tremaining: 2.05s\n",
      "486:\tlearn: 5918.0000506\ttotal: 1.94s\tremaining: 2.05s\n",
      "487:\tlearn: 5911.4479278\ttotal: 1.95s\tremaining: 2.04s\n",
      "488:\tlearn: 5907.9383054\ttotal: 1.95s\tremaining: 2.04s\n",
      "489:\tlearn: 5905.7253327\ttotal: 1.96s\tremaining: 2.04s\n",
      "490:\tlearn: 5901.8830226\ttotal: 1.96s\tremaining: 2.03s\n",
      "491:\tlearn: 5897.4082284\ttotal: 1.96s\tremaining: 2.03s\n",
      "492:\tlearn: 5893.4250420\ttotal: 1.97s\tremaining: 2.02s\n",
      "493:\tlearn: 5888.5311005\ttotal: 1.97s\tremaining: 2.02s\n",
      "494:\tlearn: 5883.0798362\ttotal: 1.98s\tremaining: 2.02s\n",
      "495:\tlearn: 5880.9228092\ttotal: 1.98s\tremaining: 2.01s\n",
      "496:\tlearn: 5875.9328917\ttotal: 1.98s\tremaining: 2.01s\n",
      "497:\tlearn: 5872.1325785\ttotal: 1.99s\tremaining: 2s\n",
      "498:\tlearn: 5867.1457990\ttotal: 1.99s\tremaining: 2s\n",
      "499:\tlearn: 5862.8039490\ttotal: 2s\tremaining: 2s\n",
      "500:\tlearn: 5859.8810872\ttotal: 2s\tremaining: 1.99s\n",
      "501:\tlearn: 5853.8163335\ttotal: 2.01s\tremaining: 1.99s\n",
      "502:\tlearn: 5848.3148749\ttotal: 2.02s\tremaining: 1.99s\n",
      "503:\tlearn: 5844.8287190\ttotal: 2.02s\tremaining: 1.99s\n",
      "504:\tlearn: 5840.7934401\ttotal: 2.02s\tremaining: 1.98s\n",
      "505:\tlearn: 5837.7817822\ttotal: 2.03s\tremaining: 1.98s\n",
      "506:\tlearn: 5834.4866789\ttotal: 2.03s\tremaining: 1.97s\n",
      "507:\tlearn: 5832.5382652\ttotal: 2.04s\tremaining: 1.97s\n",
      "508:\tlearn: 5826.4800174\ttotal: 2.04s\tremaining: 1.97s\n",
      "509:\tlearn: 5819.8365356\ttotal: 2.04s\tremaining: 1.96s\n",
      "510:\tlearn: 5816.7567439\ttotal: 2.04s\tremaining: 1.96s\n",
      "511:\tlearn: 5812.8070389\ttotal: 2.05s\tremaining: 1.95s\n",
      "512:\tlearn: 5809.3606923\ttotal: 2.05s\tremaining: 1.95s\n",
      "513:\tlearn: 5806.3722898\ttotal: 2.06s\tremaining: 1.94s\n",
      "514:\tlearn: 5800.5207514\ttotal: 2.06s\tremaining: 1.94s\n",
      "515:\tlearn: 5794.9759550\ttotal: 2.06s\tremaining: 1.94s\n",
      "516:\tlearn: 5792.4305018\ttotal: 2.07s\tremaining: 1.93s\n",
      "517:\tlearn: 5786.0346636\ttotal: 2.07s\tremaining: 1.93s\n",
      "518:\tlearn: 5783.2091594\ttotal: 2.08s\tremaining: 1.92s\n",
      "519:\tlearn: 5780.7813373\ttotal: 2.08s\tremaining: 1.92s\n",
      "520:\tlearn: 5777.4326213\ttotal: 2.08s\tremaining: 1.92s\n",
      "521:\tlearn: 5774.6764358\ttotal: 2.09s\tremaining: 1.91s\n",
      "522:\tlearn: 5771.4391688\ttotal: 2.09s\tremaining: 1.91s\n",
      "523:\tlearn: 5763.1565632\ttotal: 2.1s\tremaining: 1.9s\n",
      "524:\tlearn: 5759.7679298\ttotal: 2.1s\tremaining: 1.9s\n",
      "525:\tlearn: 5757.3158495\ttotal: 2.1s\tremaining: 1.9s\n",
      "526:\tlearn: 5752.5390906\ttotal: 2.11s\tremaining: 1.89s\n",
      "527:\tlearn: 5748.8120621\ttotal: 2.11s\tremaining: 1.89s\n",
      "528:\tlearn: 5745.3169741\ttotal: 2.12s\tremaining: 1.89s\n",
      "529:\tlearn: 5740.3763369\ttotal: 2.12s\tremaining: 1.88s\n",
      "530:\tlearn: 5737.7613767\ttotal: 2.13s\tremaining: 1.88s\n",
      "531:\tlearn: 5731.5996737\ttotal: 2.13s\tremaining: 1.88s\n",
      "532:\tlearn: 5725.9466782\ttotal: 2.14s\tremaining: 1.87s\n",
      "533:\tlearn: 5722.8457475\ttotal: 2.14s\tremaining: 1.87s\n",
      "534:\tlearn: 5720.8728515\ttotal: 2.15s\tremaining: 1.87s\n",
      "535:\tlearn: 5714.5718821\ttotal: 2.15s\tremaining: 1.87s\n",
      "536:\tlearn: 5708.7880210\ttotal: 2.16s\tremaining: 1.86s\n",
      "537:\tlearn: 5707.2133084\ttotal: 2.17s\tremaining: 1.86s\n",
      "538:\tlearn: 5705.0512563\ttotal: 2.17s\tremaining: 1.86s\n",
      "539:\tlearn: 5702.8795453\ttotal: 2.18s\tremaining: 1.86s\n",
      "540:\tlearn: 5700.3199050\ttotal: 2.18s\tremaining: 1.85s\n",
      "541:\tlearn: 5697.8610152\ttotal: 2.19s\tremaining: 1.85s\n",
      "542:\tlearn: 5694.6778556\ttotal: 2.19s\tremaining: 1.85s\n",
      "543:\tlearn: 5687.8978385\ttotal: 2.2s\tremaining: 1.84s\n",
      "544:\tlearn: 5684.1635779\ttotal: 2.2s\tremaining: 1.84s\n",
      "545:\tlearn: 5677.5585121\ttotal: 2.2s\tremaining: 1.83s\n",
      "546:\tlearn: 5674.7207435\ttotal: 2.21s\tremaining: 1.83s\n",
      "547:\tlearn: 5671.8629840\ttotal: 2.21s\tremaining: 1.82s\n",
      "548:\tlearn: 5665.5906924\ttotal: 2.22s\tremaining: 1.82s\n",
      "549:\tlearn: 5661.0678510\ttotal: 2.22s\tremaining: 1.82s\n",
      "550:\tlearn: 5656.3316432\ttotal: 2.23s\tremaining: 1.81s\n",
      "551:\tlearn: 5653.3068059\ttotal: 2.23s\tremaining: 1.81s\n",
      "552:\tlearn: 5649.8102441\ttotal: 2.23s\tremaining: 1.8s\n",
      "553:\tlearn: 5643.9108620\ttotal: 2.24s\tremaining: 1.8s\n",
      "554:\tlearn: 5639.2547385\ttotal: 2.24s\tremaining: 1.8s\n",
      "555:\tlearn: 5636.6090214\ttotal: 2.24s\tremaining: 1.79s\n",
      "556:\tlearn: 5633.1123047\ttotal: 2.25s\tremaining: 1.79s\n",
      "557:\tlearn: 5629.9365720\ttotal: 2.25s\tremaining: 1.78s\n",
      "558:\tlearn: 5626.0278865\ttotal: 2.25s\tremaining: 1.78s\n",
      "559:\tlearn: 5620.6585719\ttotal: 2.26s\tremaining: 1.78s\n",
      "560:\tlearn: 5615.3728398\ttotal: 2.26s\tremaining: 1.77s\n",
      "561:\tlearn: 5610.0611000\ttotal: 2.27s\tremaining: 1.77s\n",
      "562:\tlearn: 5606.1955990\ttotal: 2.27s\tremaining: 1.76s\n",
      "563:\tlearn: 5602.5554796\ttotal: 2.28s\tremaining: 1.76s\n",
      "564:\tlearn: 5599.7002480\ttotal: 2.28s\tremaining: 1.75s\n",
      "565:\tlearn: 5592.5737133\ttotal: 2.28s\tremaining: 1.75s\n",
      "566:\tlearn: 5588.7154695\ttotal: 2.29s\tremaining: 1.75s\n",
      "567:\tlearn: 5585.1928571\ttotal: 2.29s\tremaining: 1.74s\n",
      "568:\tlearn: 5582.3109265\ttotal: 2.3s\tremaining: 1.74s\n",
      "569:\tlearn: 5577.9770617\ttotal: 2.3s\tremaining: 1.74s\n",
      "570:\tlearn: 5571.4206792\ttotal: 2.31s\tremaining: 1.73s\n",
      "571:\tlearn: 5567.3627907\ttotal: 2.31s\tremaining: 1.73s\n",
      "572:\tlearn: 5564.5666065\ttotal: 2.31s\tremaining: 1.72s\n",
      "573:\tlearn: 5558.5241328\ttotal: 2.32s\tremaining: 1.72s\n",
      "574:\tlearn: 5556.7254511\ttotal: 2.33s\tremaining: 1.72s\n",
      "575:\tlearn: 5555.1596249\ttotal: 2.33s\tremaining: 1.72s\n",
      "576:\tlearn: 5551.9123994\ttotal: 2.34s\tremaining: 1.71s\n",
      "577:\tlearn: 5548.3680539\ttotal: 2.34s\tremaining: 1.71s\n",
      "578:\tlearn: 5545.1348220\ttotal: 2.34s\tremaining: 1.7s\n",
      "579:\tlearn: 5539.5622220\ttotal: 2.35s\tremaining: 1.7s\n",
      "580:\tlearn: 5537.3064257\ttotal: 2.35s\tremaining: 1.7s\n",
      "581:\tlearn: 5535.7168631\ttotal: 2.35s\tremaining: 1.69s\n",
      "582:\tlearn: 5533.6796733\ttotal: 2.36s\tremaining: 1.69s\n",
      "583:\tlearn: 5529.4958212\ttotal: 2.36s\tremaining: 1.68s\n",
      "584:\tlearn: 5527.7351397\ttotal: 2.36s\tremaining: 1.68s\n",
      "585:\tlearn: 5525.4181684\ttotal: 2.36s\tremaining: 1.67s\n",
      "586:\tlearn: 5522.4643820\ttotal: 2.37s\tremaining: 1.67s\n",
      "587:\tlearn: 5519.6133559\ttotal: 2.37s\tremaining: 1.66s\n",
      "588:\tlearn: 5517.5386560\ttotal: 2.37s\tremaining: 1.66s\n",
      "589:\tlearn: 5515.1535875\ttotal: 2.38s\tremaining: 1.65s\n",
      "590:\tlearn: 5512.8205189\ttotal: 2.38s\tremaining: 1.65s\n",
      "591:\tlearn: 5506.3160586\ttotal: 2.38s\tremaining: 1.64s\n",
      "592:\tlearn: 5501.6778442\ttotal: 2.38s\tremaining: 1.64s\n",
      "593:\tlearn: 5497.5951527\ttotal: 2.39s\tremaining: 1.63s\n",
      "594:\tlearn: 5494.6678905\ttotal: 2.39s\tremaining: 1.63s\n",
      "595:\tlearn: 5491.6641850\ttotal: 2.39s\tremaining: 1.62s\n",
      "596:\tlearn: 5488.5463843\ttotal: 2.4s\tremaining: 1.62s\n",
      "597:\tlearn: 5486.3692552\ttotal: 2.4s\tremaining: 1.61s\n",
      "598:\tlearn: 5480.1891115\ttotal: 2.4s\tremaining: 1.61s\n",
      "599:\tlearn: 5474.6121303\ttotal: 2.41s\tremaining: 1.61s\n",
      "600:\tlearn: 5470.2262294\ttotal: 2.41s\tremaining: 1.6s\n",
      "601:\tlearn: 5466.7359540\ttotal: 2.42s\tremaining: 1.6s\n",
      "602:\tlearn: 5461.0581627\ttotal: 2.42s\tremaining: 1.59s\n",
      "603:\tlearn: 5459.4561973\ttotal: 2.42s\tremaining: 1.59s\n",
      "604:\tlearn: 5456.7992195\ttotal: 2.42s\tremaining: 1.58s\n",
      "605:\tlearn: 5452.4919725\ttotal: 2.43s\tremaining: 1.58s\n",
      "606:\tlearn: 5447.3948588\ttotal: 2.43s\tremaining: 1.57s\n",
      "607:\tlearn: 5443.7252202\ttotal: 2.43s\tremaining: 1.57s\n",
      "608:\tlearn: 5438.7339034\ttotal: 2.44s\tremaining: 1.56s\n",
      "609:\tlearn: 5435.5183020\ttotal: 2.44s\tremaining: 1.56s\n",
      "610:\tlearn: 5433.2601746\ttotal: 2.44s\tremaining: 1.56s\n",
      "611:\tlearn: 5430.7293709\ttotal: 2.45s\tremaining: 1.55s\n",
      "612:\tlearn: 5426.0897797\ttotal: 2.45s\tremaining: 1.55s\n",
      "613:\tlearn: 5422.7169504\ttotal: 2.45s\tremaining: 1.54s\n",
      "614:\tlearn: 5420.0344414\ttotal: 2.46s\tremaining: 1.54s\n",
      "615:\tlearn: 5414.7092255\ttotal: 2.46s\tremaining: 1.53s\n",
      "616:\tlearn: 5412.0151784\ttotal: 2.46s\tremaining: 1.53s\n",
      "617:\tlearn: 5406.4604604\ttotal: 2.47s\tremaining: 1.53s\n",
      "618:\tlearn: 5403.1281056\ttotal: 2.48s\tremaining: 1.52s\n",
      "619:\tlearn: 5400.4817142\ttotal: 2.48s\tremaining: 1.52s\n",
      "620:\tlearn: 5395.0620014\ttotal: 2.48s\tremaining: 1.51s\n",
      "621:\tlearn: 5391.6914884\ttotal: 2.49s\tremaining: 1.51s\n",
      "622:\tlearn: 5386.5551105\ttotal: 2.49s\tremaining: 1.51s\n",
      "623:\tlearn: 5383.2573404\ttotal: 2.49s\tremaining: 1.5s\n",
      "624:\tlearn: 5379.7934183\ttotal: 2.5s\tremaining: 1.5s\n",
      "625:\tlearn: 5376.5758375\ttotal: 2.5s\tremaining: 1.49s\n",
      "626:\tlearn: 5374.6935435\ttotal: 2.5s\tremaining: 1.49s\n",
      "627:\tlearn: 5370.1379863\ttotal: 2.5s\tremaining: 1.48s\n",
      "628:\tlearn: 5365.5751820\ttotal: 2.51s\tremaining: 1.48s\n",
      "629:\tlearn: 5359.1341992\ttotal: 2.51s\tremaining: 1.47s\n",
      "630:\tlearn: 5356.0753164\ttotal: 2.51s\tremaining: 1.47s\n",
      "631:\tlearn: 5354.7207934\ttotal: 2.52s\tremaining: 1.46s\n",
      "632:\tlearn: 5351.7867118\ttotal: 2.52s\tremaining: 1.46s\n",
      "633:\tlearn: 5348.6612702\ttotal: 2.52s\tremaining: 1.46s\n",
      "634:\tlearn: 5346.3774972\ttotal: 2.52s\tremaining: 1.45s\n",
      "635:\tlearn: 5340.4950849\ttotal: 2.53s\tremaining: 1.45s\n",
      "636:\tlearn: 5337.8094317\ttotal: 2.53s\tremaining: 1.44s\n",
      "637:\tlearn: 5335.7100356\ttotal: 2.53s\tremaining: 1.44s\n",
      "638:\tlearn: 5330.6298781\ttotal: 2.54s\tremaining: 1.43s\n",
      "639:\tlearn: 5326.4995824\ttotal: 2.54s\tremaining: 1.43s\n",
      "640:\tlearn: 5323.6459362\ttotal: 2.54s\tremaining: 1.42s\n",
      "641:\tlearn: 5319.6276544\ttotal: 2.54s\tremaining: 1.42s\n",
      "642:\tlearn: 5317.0942544\ttotal: 2.55s\tremaining: 1.41s\n",
      "643:\tlearn: 5313.4622803\ttotal: 2.55s\tremaining: 1.41s\n",
      "644:\tlearn: 5310.4923514\ttotal: 2.55s\tremaining: 1.41s\n",
      "645:\tlearn: 5305.1368038\ttotal: 2.56s\tremaining: 1.4s\n",
      "646:\tlearn: 5302.9447890\ttotal: 2.56s\tremaining: 1.4s\n",
      "647:\tlearn: 5300.0502849\ttotal: 2.56s\tremaining: 1.39s\n",
      "648:\tlearn: 5297.5069811\ttotal: 2.57s\tremaining: 1.39s\n",
      "649:\tlearn: 5294.5116117\ttotal: 2.57s\tremaining: 1.38s\n",
      "650:\tlearn: 5292.3432421\ttotal: 2.57s\tremaining: 1.38s\n",
      "651:\tlearn: 5289.2777145\ttotal: 2.58s\tremaining: 1.38s\n",
      "652:\tlearn: 5284.7785931\ttotal: 2.58s\tremaining: 1.37s\n",
      "653:\tlearn: 5283.4065423\ttotal: 2.58s\tremaining: 1.37s\n",
      "654:\tlearn: 5280.4199158\ttotal: 2.59s\tremaining: 1.36s\n",
      "655:\tlearn: 5276.0976788\ttotal: 2.59s\tremaining: 1.36s\n",
      "656:\tlearn: 5273.2023262\ttotal: 2.59s\tremaining: 1.35s\n",
      "657:\tlearn: 5269.8437759\ttotal: 2.6s\tremaining: 1.35s\n",
      "658:\tlearn: 5266.6226953\ttotal: 2.6s\tremaining: 1.34s\n",
      "659:\tlearn: 5261.7859832\ttotal: 2.6s\tremaining: 1.34s\n",
      "660:\tlearn: 5258.6508982\ttotal: 2.61s\tremaining: 1.34s\n",
      "661:\tlearn: 5255.9032471\ttotal: 2.61s\tremaining: 1.33s\n",
      "662:\tlearn: 5252.3519434\ttotal: 2.61s\tremaining: 1.33s\n",
      "663:\tlearn: 5248.4422603\ttotal: 2.62s\tremaining: 1.32s\n",
      "664:\tlearn: 5241.6150130\ttotal: 2.62s\tremaining: 1.32s\n",
      "665:\tlearn: 5238.6929848\ttotal: 2.63s\tremaining: 1.32s\n",
      "666:\tlearn: 5235.0916319\ttotal: 2.63s\tremaining: 1.31s\n",
      "667:\tlearn: 5232.3850028\ttotal: 2.64s\tremaining: 1.31s\n",
      "668:\tlearn: 5228.4138786\ttotal: 2.64s\tremaining: 1.31s\n",
      "669:\tlearn: 5223.8455568\ttotal: 2.65s\tremaining: 1.3s\n",
      "670:\tlearn: 5220.8393686\ttotal: 2.65s\tremaining: 1.3s\n",
      "671:\tlearn: 5216.8214515\ttotal: 2.65s\tremaining: 1.29s\n",
      "672:\tlearn: 5214.3846515\ttotal: 2.65s\tremaining: 1.29s\n",
      "673:\tlearn: 5210.2812521\ttotal: 2.66s\tremaining: 1.29s\n",
      "674:\tlearn: 5206.6182419\ttotal: 2.66s\tremaining: 1.28s\n",
      "675:\tlearn: 5204.1350615\ttotal: 2.67s\tremaining: 1.28s\n",
      "676:\tlearn: 5200.8595230\ttotal: 2.67s\tremaining: 1.27s\n",
      "677:\tlearn: 5198.5730523\ttotal: 2.67s\tremaining: 1.27s\n",
      "678:\tlearn: 5191.7814549\ttotal: 2.68s\tremaining: 1.26s\n",
      "679:\tlearn: 5185.9145187\ttotal: 2.68s\tremaining: 1.26s\n",
      "680:\tlearn: 5182.7990817\ttotal: 2.69s\tremaining: 1.26s\n",
      "681:\tlearn: 5180.5839397\ttotal: 2.69s\tremaining: 1.25s\n",
      "682:\tlearn: 5179.1813829\ttotal: 2.69s\tremaining: 1.25s\n",
      "683:\tlearn: 5176.1124496\ttotal: 2.69s\tremaining: 1.25s\n",
      "684:\tlearn: 5173.2140865\ttotal: 2.7s\tremaining: 1.24s\n",
      "685:\tlearn: 5170.9437182\ttotal: 2.7s\tremaining: 1.24s\n",
      "686:\tlearn: 5169.7027102\ttotal: 2.71s\tremaining: 1.23s\n",
      "687:\tlearn: 5167.3771035\ttotal: 2.71s\tremaining: 1.23s\n",
      "688:\tlearn: 5164.6958221\ttotal: 2.71s\tremaining: 1.23s\n",
      "689:\tlearn: 5161.7814166\ttotal: 2.72s\tremaining: 1.22s\n",
      "690:\tlearn: 5159.1637355\ttotal: 2.72s\tremaining: 1.22s\n",
      "691:\tlearn: 5156.1262615\ttotal: 2.73s\tremaining: 1.21s\n",
      "692:\tlearn: 5153.1865449\ttotal: 2.73s\tremaining: 1.21s\n",
      "693:\tlearn: 5149.2938297\ttotal: 2.73s\tremaining: 1.2s\n",
      "694:\tlearn: 5145.6725344\ttotal: 2.73s\tremaining: 1.2s\n",
      "695:\tlearn: 5143.9603771\ttotal: 2.74s\tremaining: 1.2s\n",
      "696:\tlearn: 5139.3657290\ttotal: 2.74s\tremaining: 1.19s\n",
      "697:\tlearn: 5137.2204001\ttotal: 2.75s\tremaining: 1.19s\n",
      "698:\tlearn: 5131.7146379\ttotal: 2.75s\tremaining: 1.18s\n",
      "699:\tlearn: 5128.0560066\ttotal: 2.76s\tremaining: 1.18s\n",
      "700:\tlearn: 5125.6451316\ttotal: 2.76s\tremaining: 1.18s\n",
      "701:\tlearn: 5123.1877871\ttotal: 2.76s\tremaining: 1.17s\n",
      "702:\tlearn: 5120.3328067\ttotal: 2.77s\tremaining: 1.17s\n",
      "703:\tlearn: 5117.6933271\ttotal: 2.77s\tremaining: 1.17s\n",
      "704:\tlearn: 5116.5043258\ttotal: 2.77s\tremaining: 1.16s\n",
      "705:\tlearn: 5114.2748315\ttotal: 2.78s\tremaining: 1.16s\n",
      "706:\tlearn: 5112.9422482\ttotal: 2.79s\tremaining: 1.15s\n",
      "707:\tlearn: 5111.1474037\ttotal: 2.79s\tremaining: 1.15s\n",
      "708:\tlearn: 5109.1734231\ttotal: 2.79s\tremaining: 1.15s\n",
      "709:\tlearn: 5107.3065218\ttotal: 2.8s\tremaining: 1.14s\n",
      "710:\tlearn: 5105.1026215\ttotal: 2.81s\tremaining: 1.14s\n",
      "711:\tlearn: 5101.2861391\ttotal: 2.81s\tremaining: 1.14s\n",
      "712:\tlearn: 5099.7054358\ttotal: 2.82s\tremaining: 1.13s\n",
      "713:\tlearn: 5097.1820170\ttotal: 2.82s\tremaining: 1.13s\n",
      "714:\tlearn: 5094.5875509\ttotal: 2.83s\tremaining: 1.13s\n",
      "715:\tlearn: 5091.7140627\ttotal: 2.83s\tremaining: 1.12s\n",
      "716:\tlearn: 5087.1117727\ttotal: 2.84s\tremaining: 1.12s\n",
      "717:\tlearn: 5082.5942562\ttotal: 2.84s\tremaining: 1.12s\n",
      "718:\tlearn: 5078.0893486\ttotal: 2.85s\tremaining: 1.11s\n",
      "719:\tlearn: 5073.6725383\ttotal: 2.85s\tremaining: 1.11s\n",
      "720:\tlearn: 5071.3015682\ttotal: 2.86s\tremaining: 1.11s\n",
      "721:\tlearn: 5068.4380515\ttotal: 2.86s\tremaining: 1.1s\n",
      "722:\tlearn: 5064.8160367\ttotal: 2.87s\tremaining: 1.1s\n",
      "723:\tlearn: 5061.2939522\ttotal: 2.88s\tremaining: 1.1s\n",
      "724:\tlearn: 5059.3911093\ttotal: 2.88s\tremaining: 1.09s\n",
      "725:\tlearn: 5055.1905287\ttotal: 2.89s\tremaining: 1.09s\n",
      "726:\tlearn: 5052.9619167\ttotal: 2.89s\tremaining: 1.08s\n",
      "727:\tlearn: 5049.4494876\ttotal: 2.9s\tremaining: 1.08s\n",
      "728:\tlearn: 5047.0277612\ttotal: 2.9s\tremaining: 1.08s\n",
      "729:\tlearn: 5042.7206026\ttotal: 2.9s\tremaining: 1.07s\n",
      "730:\tlearn: 5040.4500342\ttotal: 2.91s\tremaining: 1.07s\n",
      "731:\tlearn: 5037.8533512\ttotal: 2.92s\tremaining: 1.07s\n",
      "732:\tlearn: 5034.7440593\ttotal: 2.92s\tremaining: 1.06s\n",
      "733:\tlearn: 5032.1709652\ttotal: 2.92s\tremaining: 1.06s\n",
      "734:\tlearn: 5029.6845019\ttotal: 2.93s\tremaining: 1.05s\n",
      "735:\tlearn: 5028.2161927\ttotal: 2.93s\tremaining: 1.05s\n",
      "736:\tlearn: 5024.1662813\ttotal: 2.94s\tremaining: 1.05s\n",
      "737:\tlearn: 5020.9092977\ttotal: 2.94s\tremaining: 1.04s\n",
      "738:\tlearn: 5016.9807428\ttotal: 2.94s\tremaining: 1.04s\n",
      "739:\tlearn: 5015.2501476\ttotal: 2.95s\tremaining: 1.03s\n",
      "740:\tlearn: 5014.2531559\ttotal: 2.95s\tremaining: 1.03s\n",
      "741:\tlearn: 5012.4228935\ttotal: 2.96s\tremaining: 1.03s\n",
      "742:\tlearn: 5008.1736075\ttotal: 2.96s\tremaining: 1.02s\n",
      "743:\tlearn: 5002.8425660\ttotal: 2.96s\tremaining: 1.02s\n",
      "744:\tlearn: 5000.4822728\ttotal: 2.97s\tremaining: 1.02s\n",
      "745:\tlearn: 4996.5275747\ttotal: 2.98s\tremaining: 1.01s\n",
      "746:\tlearn: 4992.8810062\ttotal: 2.99s\tremaining: 1.01s\n",
      "747:\tlearn: 4991.0957657\ttotal: 2.99s\tremaining: 1.01s\n",
      "748:\tlearn: 4987.5816407\ttotal: 3s\tremaining: 1s\n",
      "749:\tlearn: 4982.2341274\ttotal: 3s\tremaining: 1s\n",
      "750:\tlearn: 4980.9968716\ttotal: 3s\tremaining: 996ms\n",
      "751:\tlearn: 4978.4339218\ttotal: 3.01s\tremaining: 992ms\n",
      "752:\tlearn: 4974.6538316\ttotal: 3.01s\tremaining: 988ms\n",
      "753:\tlearn: 4973.4748847\ttotal: 3.01s\tremaining: 983ms\n",
      "754:\tlearn: 4970.7365254\ttotal: 3.02s\tremaining: 979ms\n",
      "755:\tlearn: 4968.0846238\ttotal: 3.02s\tremaining: 975ms\n",
      "756:\tlearn: 4964.9809709\ttotal: 3.02s\tremaining: 971ms\n",
      "757:\tlearn: 4961.4731813\ttotal: 3.03s\tremaining: 967ms\n",
      "758:\tlearn: 4959.3209818\ttotal: 3.03s\tremaining: 963ms\n",
      "759:\tlearn: 4955.4706515\ttotal: 3.04s\tremaining: 959ms\n",
      "760:\tlearn: 4952.3236722\ttotal: 3.04s\tremaining: 955ms\n",
      "761:\tlearn: 4950.8773799\ttotal: 3.04s\tremaining: 950ms\n",
      "762:\tlearn: 4947.3588117\ttotal: 3.05s\tremaining: 946ms\n",
      "763:\tlearn: 4946.3437267\ttotal: 3.05s\tremaining: 942ms\n",
      "764:\tlearn: 4944.6448418\ttotal: 3.05s\tremaining: 938ms\n",
      "765:\tlearn: 4940.7646196\ttotal: 3.06s\tremaining: 935ms\n",
      "766:\tlearn: 4939.3365388\ttotal: 3.06s\tremaining: 931ms\n",
      "767:\tlearn: 4936.1238082\ttotal: 3.07s\tremaining: 928ms\n",
      "768:\tlearn: 4931.7032521\ttotal: 3.07s\tremaining: 924ms\n",
      "769:\tlearn: 4929.3579074\ttotal: 3.08s\tremaining: 920ms\n",
      "770:\tlearn: 4925.3393950\ttotal: 3.08s\tremaining: 915ms\n",
      "771:\tlearn: 4921.7611689\ttotal: 3.08s\tremaining: 911ms\n",
      "772:\tlearn: 4919.3919314\ttotal: 3.09s\tremaining: 907ms\n",
      "773:\tlearn: 4914.4816518\ttotal: 3.09s\tremaining: 903ms\n",
      "774:\tlearn: 4912.7740198\ttotal: 3.1s\tremaining: 899ms\n",
      "775:\tlearn: 4909.5202890\ttotal: 3.1s\tremaining: 895ms\n",
      "776:\tlearn: 4906.3741059\ttotal: 3.1s\tremaining: 891ms\n",
      "777:\tlearn: 4904.9690195\ttotal: 3.11s\tremaining: 887ms\n",
      "778:\tlearn: 4902.4270001\ttotal: 3.11s\tremaining: 883ms\n",
      "779:\tlearn: 4900.4660349\ttotal: 3.12s\tremaining: 880ms\n",
      "780:\tlearn: 4897.3284401\ttotal: 3.13s\tremaining: 877ms\n",
      "781:\tlearn: 4892.5325618\ttotal: 3.13s\tremaining: 873ms\n",
      "782:\tlearn: 4889.2928503\ttotal: 3.13s\tremaining: 869ms\n",
      "783:\tlearn: 4887.2426858\ttotal: 3.14s\tremaining: 865ms\n",
      "784:\tlearn: 4884.7598986\ttotal: 3.14s\tremaining: 861ms\n",
      "785:\tlearn: 4880.7412859\ttotal: 3.15s\tremaining: 857ms\n",
      "786:\tlearn: 4879.5902458\ttotal: 3.15s\tremaining: 852ms\n",
      "787:\tlearn: 4874.8120393\ttotal: 3.15s\tremaining: 848ms\n",
      "788:\tlearn: 4871.1759647\ttotal: 3.16s\tremaining: 844ms\n",
      "789:\tlearn: 4866.4023705\ttotal: 3.16s\tremaining: 840ms\n",
      "790:\tlearn: 4863.7081829\ttotal: 3.16s\tremaining: 835ms\n",
      "791:\tlearn: 4860.2127805\ttotal: 3.17s\tremaining: 831ms\n",
      "792:\tlearn: 4856.9075701\ttotal: 3.17s\tremaining: 828ms\n",
      "793:\tlearn: 4855.7272973\ttotal: 3.17s\tremaining: 824ms\n",
      "794:\tlearn: 4852.9781460\ttotal: 3.18s\tremaining: 819ms\n",
      "795:\tlearn: 4850.6069405\ttotal: 3.18s\tremaining: 816ms\n",
      "796:\tlearn: 4846.9126523\ttotal: 3.19s\tremaining: 811ms\n",
      "797:\tlearn: 4846.1505786\ttotal: 3.19s\tremaining: 807ms\n",
      "798:\tlearn: 4843.1606879\ttotal: 3.19s\tremaining: 803ms\n",
      "799:\tlearn: 4840.8797567\ttotal: 3.2s\tremaining: 800ms\n",
      "800:\tlearn: 4835.0761034\ttotal: 3.2s\tremaining: 795ms\n",
      "801:\tlearn: 4831.2197405\ttotal: 3.2s\tremaining: 791ms\n",
      "802:\tlearn: 4829.1567421\ttotal: 3.21s\tremaining: 787ms\n",
      "803:\tlearn: 4826.7515507\ttotal: 3.21s\tremaining: 783ms\n",
      "804:\tlearn: 4822.7796793\ttotal: 3.21s\tremaining: 779ms\n",
      "805:\tlearn: 4820.4085940\ttotal: 3.22s\tremaining: 775ms\n",
      "806:\tlearn: 4817.2881460\ttotal: 3.22s\tremaining: 771ms\n",
      "807:\tlearn: 4815.2300701\ttotal: 3.23s\tremaining: 767ms\n",
      "808:\tlearn: 4813.4409700\ttotal: 3.23s\tremaining: 763ms\n",
      "809:\tlearn: 4811.0816114\ttotal: 3.23s\tremaining: 759ms\n",
      "810:\tlearn: 4807.2205713\ttotal: 3.24s\tremaining: 755ms\n",
      "811:\tlearn: 4804.8631449\ttotal: 3.24s\tremaining: 751ms\n",
      "812:\tlearn: 4801.6914842\ttotal: 3.25s\tremaining: 747ms\n",
      "813:\tlearn: 4799.9963720\ttotal: 3.25s\tremaining: 743ms\n",
      "814:\tlearn: 4797.7470358\ttotal: 3.25s\tremaining: 739ms\n",
      "815:\tlearn: 4795.0639098\ttotal: 3.26s\tremaining: 735ms\n",
      "816:\tlearn: 4793.3121892\ttotal: 3.27s\tremaining: 732ms\n",
      "817:\tlearn: 4791.3305134\ttotal: 3.27s\tremaining: 728ms\n",
      "818:\tlearn: 4787.8443432\ttotal: 3.27s\tremaining: 724ms\n",
      "819:\tlearn: 4785.1607843\ttotal: 3.28s\tremaining: 720ms\n",
      "820:\tlearn: 4782.3541517\ttotal: 3.28s\tremaining: 716ms\n",
      "821:\tlearn: 4780.3227106\ttotal: 3.29s\tremaining: 713ms\n",
      "822:\tlearn: 4777.8647655\ttotal: 3.3s\tremaining: 709ms\n",
      "823:\tlearn: 4775.6913743\ttotal: 3.3s\tremaining: 705ms\n",
      "824:\tlearn: 4774.3702293\ttotal: 3.31s\tremaining: 701ms\n",
      "825:\tlearn: 4769.5322958\ttotal: 3.31s\tremaining: 697ms\n",
      "826:\tlearn: 4767.0359672\ttotal: 3.31s\tremaining: 693ms\n",
      "827:\tlearn: 4763.4329531\ttotal: 3.32s\tremaining: 689ms\n",
      "828:\tlearn: 4758.0428519\ttotal: 3.32s\tremaining: 685ms\n",
      "829:\tlearn: 4756.2008836\ttotal: 3.33s\tremaining: 681ms\n",
      "830:\tlearn: 4754.4560628\ttotal: 3.33s\tremaining: 677ms\n",
      "831:\tlearn: 4752.7979006\ttotal: 3.33s\tremaining: 673ms\n",
      "832:\tlearn: 4750.3128135\ttotal: 3.34s\tremaining: 669ms\n",
      "833:\tlearn: 4747.3515757\ttotal: 3.34s\tremaining: 665ms\n",
      "834:\tlearn: 4745.2367369\ttotal: 3.34s\tremaining: 661ms\n",
      "835:\tlearn: 4743.1137210\ttotal: 3.35s\tremaining: 656ms\n",
      "836:\tlearn: 4740.6407611\ttotal: 3.35s\tremaining: 653ms\n",
      "837:\tlearn: 4736.5836626\ttotal: 3.35s\tremaining: 648ms\n",
      "838:\tlearn: 4734.6817141\ttotal: 3.36s\tremaining: 644ms\n",
      "839:\tlearn: 4732.6982515\ttotal: 3.36s\tremaining: 640ms\n",
      "840:\tlearn: 4730.7298407\ttotal: 3.37s\tremaining: 636ms\n",
      "841:\tlearn: 4728.7763954\ttotal: 3.37s\tremaining: 632ms\n",
      "842:\tlearn: 4727.4851960\ttotal: 3.37s\tremaining: 628ms\n",
      "843:\tlearn: 4725.6578472\ttotal: 3.38s\tremaining: 624ms\n",
      "844:\tlearn: 4723.3755299\ttotal: 3.38s\tremaining: 620ms\n",
      "845:\tlearn: 4720.6013679\ttotal: 3.38s\tremaining: 616ms\n",
      "846:\tlearn: 4717.5359763\ttotal: 3.39s\tremaining: 612ms\n",
      "847:\tlearn: 4714.7462936\ttotal: 3.39s\tremaining: 608ms\n",
      "848:\tlearn: 4712.8350500\ttotal: 3.4s\tremaining: 604ms\n",
      "849:\tlearn: 4710.8506115\ttotal: 3.4s\tremaining: 600ms\n",
      "850:\tlearn: 4709.7740814\ttotal: 3.4s\tremaining: 596ms\n",
      "851:\tlearn: 4708.5844144\ttotal: 3.41s\tremaining: 592ms\n",
      "852:\tlearn: 4707.1663598\ttotal: 3.41s\tremaining: 588ms\n",
      "853:\tlearn: 4705.4473307\ttotal: 3.42s\tremaining: 584ms\n",
      "854:\tlearn: 4700.1599358\ttotal: 3.42s\tremaining: 580ms\n",
      "855:\tlearn: 4698.1220293\ttotal: 3.42s\tremaining: 576ms\n",
      "856:\tlearn: 4696.2035233\ttotal: 3.43s\tremaining: 572ms\n",
      "857:\tlearn: 4694.3959505\ttotal: 3.43s\tremaining: 568ms\n",
      "858:\tlearn: 4691.1878979\ttotal: 3.44s\tremaining: 564ms\n",
      "859:\tlearn: 4690.1538134\ttotal: 3.44s\tremaining: 560ms\n",
      "860:\tlearn: 4686.0931146\ttotal: 3.44s\tremaining: 556ms\n",
      "861:\tlearn: 4683.4092027\ttotal: 3.45s\tremaining: 552ms\n",
      "862:\tlearn: 4680.8316983\ttotal: 3.46s\tremaining: 549ms\n",
      "863:\tlearn: 4679.2047679\ttotal: 3.46s\tremaining: 545ms\n",
      "864:\tlearn: 4675.1052263\ttotal: 3.47s\tremaining: 541ms\n",
      "865:\tlearn: 4673.3393186\ttotal: 3.47s\tremaining: 537ms\n",
      "866:\tlearn: 4670.0574401\ttotal: 3.48s\tremaining: 533ms\n",
      "867:\tlearn: 4666.7922027\ttotal: 3.48s\tremaining: 529ms\n",
      "868:\tlearn: 4664.0981685\ttotal: 3.48s\tremaining: 525ms\n",
      "869:\tlearn: 4660.6744098\ttotal: 3.48s\tremaining: 521ms\n",
      "870:\tlearn: 4657.8315964\ttotal: 3.49s\tremaining: 517ms\n",
      "871:\tlearn: 4655.8298868\ttotal: 3.49s\tremaining: 513ms\n",
      "872:\tlearn: 4652.9938572\ttotal: 3.5s\tremaining: 509ms\n",
      "873:\tlearn: 4651.5128909\ttotal: 3.5s\tremaining: 505ms\n",
      "874:\tlearn: 4649.6194940\ttotal: 3.5s\tremaining: 501ms\n",
      "875:\tlearn: 4648.2052219\ttotal: 3.51s\tremaining: 497ms\n",
      "876:\tlearn: 4645.7037914\ttotal: 3.51s\tremaining: 493ms\n",
      "877:\tlearn: 4642.5582646\ttotal: 3.52s\tremaining: 489ms\n",
      "878:\tlearn: 4640.2891648\ttotal: 3.52s\tremaining: 485ms\n",
      "879:\tlearn: 4637.5817158\ttotal: 3.52s\tremaining: 481ms\n",
      "880:\tlearn: 4635.8446894\ttotal: 3.53s\tremaining: 476ms\n",
      "881:\tlearn: 4633.9188017\ttotal: 3.53s\tremaining: 473ms\n",
      "882:\tlearn: 4632.0166146\ttotal: 3.54s\tremaining: 468ms\n",
      "883:\tlearn: 4630.8434441\ttotal: 3.54s\tremaining: 464ms\n",
      "884:\tlearn: 4628.5381103\ttotal: 3.54s\tremaining: 460ms\n",
      "885:\tlearn: 4626.1662623\ttotal: 3.55s\tremaining: 456ms\n",
      "886:\tlearn: 4624.5410535\ttotal: 3.55s\tremaining: 452ms\n",
      "887:\tlearn: 4622.0778203\ttotal: 3.55s\tremaining: 448ms\n",
      "888:\tlearn: 4620.6106067\ttotal: 3.56s\tremaining: 444ms\n",
      "889:\tlearn: 4618.6403455\ttotal: 3.56s\tremaining: 441ms\n",
      "890:\tlearn: 4616.6600481\ttotal: 3.57s\tremaining: 436ms\n",
      "891:\tlearn: 4615.0551249\ttotal: 3.57s\tremaining: 432ms\n",
      "892:\tlearn: 4612.6639249\ttotal: 3.58s\tremaining: 428ms\n",
      "893:\tlearn: 4610.9368814\ttotal: 3.58s\tremaining: 424ms\n",
      "894:\tlearn: 4609.7572266\ttotal: 3.58s\tremaining: 420ms\n",
      "895:\tlearn: 4606.4122028\ttotal: 3.59s\tremaining: 417ms\n",
      "896:\tlearn: 4603.4250198\ttotal: 3.59s\tremaining: 413ms\n",
      "897:\tlearn: 4602.1162270\ttotal: 3.6s\tremaining: 408ms\n",
      "898:\tlearn: 4599.5259314\ttotal: 3.6s\tremaining: 404ms\n",
      "899:\tlearn: 4598.9270871\ttotal: 3.6s\tremaining: 401ms\n",
      "900:\tlearn: 4596.9025979\ttotal: 3.61s\tremaining: 396ms\n",
      "901:\tlearn: 4594.4892480\ttotal: 3.61s\tremaining: 392ms\n",
      "902:\tlearn: 4592.6474623\ttotal: 3.62s\tremaining: 389ms\n",
      "903:\tlearn: 4590.8694927\ttotal: 3.62s\tremaining: 385ms\n",
      "904:\tlearn: 4588.3906636\ttotal: 3.63s\tremaining: 381ms\n",
      "905:\tlearn: 4587.2965077\ttotal: 3.63s\tremaining: 377ms\n",
      "906:\tlearn: 4585.6543636\ttotal: 3.64s\tremaining: 373ms\n",
      "907:\tlearn: 4585.0835431\ttotal: 3.64s\tremaining: 369ms\n",
      "908:\tlearn: 4583.9587654\ttotal: 3.64s\tremaining: 365ms\n",
      "909:\tlearn: 4581.5789932\ttotal: 3.65s\tremaining: 361ms\n",
      "910:\tlearn: 4578.9539084\ttotal: 3.65s\tremaining: 357ms\n",
      "911:\tlearn: 4577.7742400\ttotal: 3.65s\tremaining: 353ms\n",
      "912:\tlearn: 4576.0957953\ttotal: 3.66s\tremaining: 349ms\n",
      "913:\tlearn: 4574.5486382\ttotal: 3.66s\tremaining: 345ms\n",
      "914:\tlearn: 4572.0475660\ttotal: 3.67s\tremaining: 341ms\n",
      "915:\tlearn: 4568.2133150\ttotal: 3.67s\tremaining: 337ms\n",
      "916:\tlearn: 4565.6428790\ttotal: 3.67s\tremaining: 333ms\n",
      "917:\tlearn: 4564.2014850\ttotal: 3.68s\tremaining: 329ms\n",
      "918:\tlearn: 4562.2782373\ttotal: 3.68s\tremaining: 324ms\n",
      "919:\tlearn: 4558.5435871\ttotal: 3.69s\tremaining: 321ms\n",
      "920:\tlearn: 4556.4843616\ttotal: 3.69s\tremaining: 317ms\n",
      "921:\tlearn: 4554.7282463\ttotal: 3.69s\tremaining: 313ms\n",
      "922:\tlearn: 4552.2806213\ttotal: 3.7s\tremaining: 308ms\n",
      "923:\tlearn: 4550.4254418\ttotal: 3.7s\tremaining: 305ms\n",
      "924:\tlearn: 4548.9888015\ttotal: 3.71s\tremaining: 301ms\n",
      "925:\tlearn: 4545.8372214\ttotal: 3.71s\tremaining: 296ms\n",
      "926:\tlearn: 4544.9429201\ttotal: 3.71s\tremaining: 292ms\n",
      "927:\tlearn: 4542.4171910\ttotal: 3.72s\tremaining: 289ms\n",
      "928:\tlearn: 4539.8348771\ttotal: 3.72s\tremaining: 284ms\n",
      "929:\tlearn: 4537.5740507\ttotal: 3.73s\tremaining: 280ms\n",
      "930:\tlearn: 4534.8492988\ttotal: 3.73s\tremaining: 277ms\n",
      "931:\tlearn: 4532.6654736\ttotal: 3.73s\tremaining: 272ms\n",
      "932:\tlearn: 4529.1595523\ttotal: 3.74s\tremaining: 268ms\n",
      "933:\tlearn: 4526.0289052\ttotal: 3.74s\tremaining: 264ms\n",
      "934:\tlearn: 4523.9509649\ttotal: 3.75s\tremaining: 260ms\n",
      "935:\tlearn: 4522.8401123\ttotal: 3.75s\tremaining: 256ms\n",
      "936:\tlearn: 4521.2405809\ttotal: 3.75s\tremaining: 252ms\n",
      "937:\tlearn: 4519.5413933\ttotal: 3.76s\tremaining: 249ms\n",
      "938:\tlearn: 4516.8672308\ttotal: 3.76s\tremaining: 244ms\n",
      "939:\tlearn: 4513.6046219\ttotal: 3.77s\tremaining: 241ms\n",
      "940:\tlearn: 4510.3650567\ttotal: 3.78s\tremaining: 237ms\n",
      "941:\tlearn: 4507.5671384\ttotal: 3.78s\tremaining: 233ms\n",
      "942:\tlearn: 4505.2014499\ttotal: 3.79s\tremaining: 229ms\n",
      "943:\tlearn: 4503.0827707\ttotal: 3.79s\tremaining: 225ms\n",
      "944:\tlearn: 4500.7276479\ttotal: 3.8s\tremaining: 221ms\n",
      "945:\tlearn: 4498.2257951\ttotal: 3.81s\tremaining: 217ms\n",
      "946:\tlearn: 4497.3916934\ttotal: 3.81s\tremaining: 213ms\n",
      "947:\tlearn: 4495.2996569\ttotal: 3.81s\tremaining: 209ms\n",
      "948:\tlearn: 4492.4498024\ttotal: 3.82s\tremaining: 205ms\n",
      "949:\tlearn: 4490.5922354\ttotal: 3.82s\tremaining: 201ms\n",
      "950:\tlearn: 4487.1826574\ttotal: 3.83s\tremaining: 197ms\n",
      "951:\tlearn: 4485.7004020\ttotal: 3.83s\tremaining: 193ms\n",
      "952:\tlearn: 4483.1018219\ttotal: 3.84s\tremaining: 189ms\n",
      "953:\tlearn: 4482.2559370\ttotal: 3.84s\tremaining: 185ms\n",
      "954:\tlearn: 4479.8622231\ttotal: 3.85s\tremaining: 181ms\n",
      "955:\tlearn: 4476.9177299\ttotal: 3.85s\tremaining: 177ms\n",
      "956:\tlearn: 4475.5000989\ttotal: 3.86s\tremaining: 173ms\n",
      "957:\tlearn: 4472.3527187\ttotal: 3.86s\tremaining: 169ms\n",
      "958:\tlearn: 4470.3200124\ttotal: 3.87s\tremaining: 165ms\n",
      "959:\tlearn: 4469.0752321\ttotal: 3.87s\tremaining: 161ms\n",
      "960:\tlearn: 4466.0810466\ttotal: 3.88s\tremaining: 157ms\n",
      "961:\tlearn: 4464.6916008\ttotal: 3.88s\tremaining: 153ms\n",
      "962:\tlearn: 4461.9233708\ttotal: 3.88s\tremaining: 149ms\n",
      "963:\tlearn: 4459.3133722\ttotal: 3.89s\tremaining: 145ms\n",
      "964:\tlearn: 4457.4246496\ttotal: 3.89s\tremaining: 141ms\n",
      "965:\tlearn: 4456.1456703\ttotal: 3.9s\tremaining: 137ms\n",
      "966:\tlearn: 4453.0083694\ttotal: 3.9s\tremaining: 133ms\n",
      "967:\tlearn: 4451.7052971\ttotal: 3.9s\tremaining: 129ms\n",
      "968:\tlearn: 4449.7335656\ttotal: 3.91s\tremaining: 125ms\n",
      "969:\tlearn: 4447.5811079\ttotal: 3.91s\tremaining: 121ms\n",
      "970:\tlearn: 4445.6764806\ttotal: 3.91s\tremaining: 117ms\n",
      "971:\tlearn: 4444.8673629\ttotal: 3.92s\tremaining: 113ms\n",
      "972:\tlearn: 4442.0068558\ttotal: 3.92s\tremaining: 109ms\n",
      "973:\tlearn: 4440.5766003\ttotal: 3.92s\tremaining: 105ms\n",
      "974:\tlearn: 4438.5331947\ttotal: 3.93s\tremaining: 101ms\n",
      "975:\tlearn: 4437.9676790\ttotal: 3.94s\tremaining: 96.9ms\n",
      "976:\tlearn: 4435.5122116\ttotal: 3.94s\tremaining: 92.8ms\n",
      "977:\tlearn: 4433.2762583\ttotal: 3.95s\tremaining: 88.8ms\n",
      "978:\tlearn: 4429.0980554\ttotal: 3.95s\tremaining: 84.7ms\n",
      "979:\tlearn: 4427.1303235\ttotal: 3.95s\tremaining: 80.7ms\n",
      "980:\tlearn: 4424.2826714\ttotal: 3.96s\tremaining: 76.6ms\n",
      "981:\tlearn: 4422.4459566\ttotal: 3.96s\tremaining: 72.6ms\n",
      "982:\tlearn: 4421.3638444\ttotal: 3.96s\tremaining: 68.5ms\n",
      "983:\tlearn: 4419.9313246\ttotal: 3.96s\tremaining: 64.5ms\n",
      "984:\tlearn: 4416.9139822\ttotal: 3.97s\tremaining: 60.4ms\n",
      "985:\tlearn: 4415.8811844\ttotal: 3.97s\tremaining: 56.4ms\n",
      "986:\tlearn: 4413.7386739\ttotal: 3.97s\tremaining: 52.3ms\n",
      "987:\tlearn: 4411.0856174\ttotal: 3.98s\tremaining: 48.3ms\n",
      "988:\tlearn: 4408.7220772\ttotal: 3.98s\tremaining: 44.3ms\n",
      "989:\tlearn: 4407.1909197\ttotal: 3.98s\tremaining: 40.2ms\n",
      "990:\tlearn: 4405.3472158\ttotal: 3.98s\tremaining: 36.2ms\n",
      "991:\tlearn: 4403.4333729\ttotal: 3.99s\tremaining: 32.2ms\n",
      "992:\tlearn: 4401.3178043\ttotal: 3.99s\tremaining: 28.1ms\n",
      "993:\tlearn: 4400.2157466\ttotal: 3.99s\tremaining: 24.1ms\n",
      "994:\tlearn: 4398.1398777\ttotal: 4s\tremaining: 20.1ms\n",
      "995:\tlearn: 4395.4409483\ttotal: 4s\tremaining: 16.1ms\n",
      "996:\tlearn: 4393.8132460\ttotal: 4s\tremaining: 12ms\n",
      "997:\tlearn: 4391.0016151\ttotal: 4.01s\tremaining: 8.03ms\n",
      "998:\tlearn: 4388.8816009\ttotal: 4.01s\tremaining: 4.02ms\n",
      "999:\tlearn: 4388.1450317\ttotal: 4.02s\tremaining: 0us\n"
     ]
    }
   ],
   "source": [
    "cat = CatBoostRegressor(random_state = 42)\n",
    "cat.fit(train_x, train_y)\n",
    "\n",
    "# 예측\n",
    "pred_val_ls = cat.predict(val_x)\n",
    "\n",
    "mae = mean_absolute_error(val_y, pred_val_ls)"
   ]
  },
  {
   "cell_type": "code",
   "execution_count": 14,
   "id": "f8a73002-fea1-4c40-98f8-1634a333260d",
   "metadata": {},
   "outputs": [
    {
     "name": "stdout",
     "output_type": "stream",
     "text": [
      "26683.867578733414\n"
     ]
    }
   ],
   "source": [
    "print(mae)"
   ]
  },
  {
   "cell_type": "markdown",
   "id": "b5bdadb9-d4b8-452c-9653-83d598dadc93",
   "metadata": {
    "tags": []
   },
   "source": [
    "### XGB - 22540"
   ]
  },
  {
   "cell_type": "code",
   "execution_count": 15,
   "id": "dbc4e565-cac1-4e45-b48b-7ab50fde65c9",
   "metadata": {
    "tags": []
   },
   "outputs": [
    {
     "name": "stdout",
     "output_type": "stream",
     "text": [
      "22540.628177472016\n"
     ]
    }
   ],
   "source": [
    "xgb = XGBRegressor(random_state = 42)\n",
    "xgb.fit(train_x, train_y)\n",
    "\n",
    "# 예측\n",
    "pred_val_ls = xgb.predict(val_x)\n",
    "\n",
    "mae = mean_absolute_error(val_y, pred_val_ls)\n",
    "print(mae)"
   ]
  },
  {
   "cell_type": "code",
   "execution_count": 16,
   "id": "01e383b5-83c3-4a0f-842c-b9332b995bf0",
   "metadata": {},
   "outputs": [
    {
     "data": {
      "image/png": "[encoded data removed]",
      "text/plain": [
       "<Figure size 432x288 with 1 Axes>"
      ]
     },
     "metadata": {
      "needs_background": "light"
     },
     "output_type": "display_data"
    }
   ],
   "source": [
    "import matplotlib.pyplot as plt\n",
    "\n",
    "importances = xgb.feature_importances_\n",
    "feature_names = train_x.columns\n",
    "\n",
    "# 피쳐 중요도에 따라 내림차순으로 인덱스를 정렬\n",
    "indices = np.argsort(importances)[::-1]\n",
    "\n",
    "# 피쳐 이름을 중요도 순서에 맞게 재배열\n",
    "sorted_feature_names = [feature_names[i] for i in indices]\n",
    "\n",
    "# 피쳐 중요도 시각화\n",
    "plt.figure()\n",
    "plt.title(\"Feature Importance\")\n",
    "plt.barh(range(train_x.shape[1]), importances[indices], align=\"center\")\n",
    "plt.yticks(range(train_x.shape[1]), sorted_feature_names)\n",
    "plt.ylabel(\"Features\")\n",
    "plt.xlabel(\"Importance\")\n",
    "plt.show()"
   ]
  },
  {
   "cell_type": "code",
   "execution_count": 17,
   "id": "030eb75c-dc67-472d-8c38-dbfcffcf9f55",
   "metadata": {},
   "outputs": [],
   "source": [
    "from sklearn.ensemble import GradientBoostingRegressor, ExtraTreesRegressor"
   ]
  },
  {
   "cell_type": "markdown",
   "id": "5560d88d-cb54-483d-8518-eb248ed38987",
   "metadata": {
    "tags": []
   },
   "source": [
    "### GB - 20484"
   ]
  },
  {
   "cell_type": "code",
   "execution_count": 18,
   "id": "176aca5c-04ab-4c7a-9303-0167dafa9782",
   "metadata": {},
   "outputs": [
    {
     "name": "stdout",
     "output_type": "stream",
     "text": [
      "20484.469043006655\n"
     ]
    }
   ],
   "source": [
    "gb = GradientBoostingRegressor(random_state = 42)\n",
    "gb.fit(train_x, train_y)\n",
    "\n",
    "# 예측\n",
    "pred_val_ls = gb.predict(val_x)\n",
    "\n",
    "mae = mean_absolute_error(val_y, pred_val_ls)\n",
    "print(mae)"
   ]
  },
  {
   "cell_type": "markdown",
   "id": "d2ae1b84-92f2-4697-b410-33b40321bbc4",
   "metadata": {
    "tags": []
   },
   "source": [
    "# 제출 파일 생성"
   ]
  },
  {
   "cell_type": "code",
   "execution_count": 19,
   "id": "cc0399ff-29c3-43c9-8602-339185a4656e",
   "metadata": {},
   "outputs": [],
   "source": [
    "train_x = data.loc[data['train_test'] == 'train' ,columns]\n",
    "train_y = data.loc[data['train_test'] == 'train','transaction_real_price' ]"
   ]
  },
  {
   "cell_type": "code",
   "execution_count": 20,
   "id": "35aa4265-bf01-4dce-b23c-d0cfaae64d65",
   "metadata": {},
   "outputs": [],
   "source": [
    "test_x = data.loc[data['train_test'] == 'test' ,columns]"
   ]
  },
  {
   "cell_type": "code",
   "execution_count": 21,
   "id": "1143b61c-31f4-47e5-a415-90d6260f4d66",
   "metadata": {
    "tags": []
   },
   "outputs": [],
   "source": [
    "model = RandomForestRegressor( random_state = 42)\n",
    "\n",
    "model.fit(train_x, train_y)\n",
    "pred = model.predict(test_x)"
   ]
  },
  {
   "cell_type": "code",
   "execution_count": 22,
   "id": "00900f31-0efc-41b3-9b51-3af5b137aef1",
   "metadata": {
    "tags": []
   },
   "outputs": [],
   "source": [
    "submission = pd.read_csv('../data/sample_submission.csv')"
   ]
  },
  {
   "cell_type": "code",
   "execution_count": 23,
   "id": "ae2a3223-98c3-447b-84a9-d87b179a014b",
   "metadata": {},
   "outputs": [],
   "source": [
    "submission['transaction_real_price'] = pred"
   ]
  },
  {
   "cell_type": "code",
   "execution_count": 24,
   "id": "f7b96de3-01db-49cb-9f07-92f511e35015",
   "metadata": {},
   "outputs": [
    {
     "data": {
      "text/html": [
       "<div>\n",
       "<style scoped>\n",
       "    .dataframe tbody tr th:only-of-type {\n",
       "        vertical-align: middle;\n",
       "    }\n",
       "\n",
       "    .dataframe tbody tr th {\n",
       "        vertical-align: top;\n",
       "    }\n",
       "\n",
       "    .dataframe thead th {\n",
       "        text-align: right;\n",
       "    }\n",
       "</style>\n",
       "<table border=\"1\" class=\"dataframe\">\n",
       "  <thead>\n",
       "    <tr style=\"text-align: right;\">\n",
       "      <th></th>\n",
       "      <th>id</th>\n",
       "      <th>transaction_real_price</th>\n",
       "    </tr>\n",
       "  </thead>\n",
       "  <tbody>\n",
       "    <tr>\n",
       "      <th>0</th>\n",
       "      <td>TEST_0000</td>\n",
       "      <td>184162.5</td>\n",
       "    </tr>\n",
       "    <tr>\n",
       "      <th>1</th>\n",
       "      <td>TEST_0001</td>\n",
       "      <td>408900.0</td>\n",
       "    </tr>\n",
       "    <tr>\n",
       "      <th>2</th>\n",
       "      <td>TEST_0002</td>\n",
       "      <td>183379.0</td>\n",
       "    </tr>\n",
       "    <tr>\n",
       "      <th>3</th>\n",
       "      <td>TEST_0003</td>\n",
       "      <td>279295.0</td>\n",
       "    </tr>\n",
       "    <tr>\n",
       "      <th>4</th>\n",
       "      <td>TEST_0004</td>\n",
       "      <td>183297.0</td>\n",
       "    </tr>\n",
       "  </tbody>\n",
       "</table>\n",
       "</div>"
      ],
      "text/plain": [
       "          id  transaction_real_price\n",
       "0  TEST_0000                184162.5\n",
       "1  TEST_0001                408900.0\n",
       "2  TEST_0002                183379.0\n",
       "3  TEST_0003                279295.0\n",
       "4  TEST_0004                183297.0"
      ]
     },
     "execution_count": 24,
     "metadata": {},
     "output_type": "execute_result"
    }
   ],
   "source": [
    "submission.head()"
   ]
  },
  {
   "cell_type": "code",
   "execution_count": 25,
   "id": "cde9bfe8-a0a0-4ac4-a52f-ffcb1dd6de0d",
   "metadata": {},
   "outputs": [],
   "source": [
    "submission.to_csv('../result/submission_log.csv',index = False)"
   ]
  },
  {
   "cell_type": "markdown",
   "id": "c364eb9d-b19f-4bbf-b2a6-622e1dbee16c",
   "metadata": {},
   "source": [
    "## 최적화"
   ]
  },
  {
   "cell_type": "code",
   "execution_count": 26,
   "id": "8a6b18eb-40e9-4cf8-9c06-226e5398c699",
   "metadata": {},
   "outputs": [],
   "source": [
    "#!pip install optuna"
   ]
  },
  {
   "cell_type": "code",
   "execution_count": 29,
   "id": "68ea3ca9-e3a0-4710-8463-4a338378c0e4",
   "metadata": {},
   "outputs": [],
   "source": [
    "import optuna\n",
    "\n",
    "def objective(trial):\n",
    "    param = {\n",
    "        'n_estimators': trial.suggest_int('n_estimators', 100, 1000),\n",
    "        'max_depth' : trial.suggest_int('max_depth', 3, 10),\n",
    "        'min_samples_split': trial.suggest_int('min_samples_split', 3, 10),\n",
    "        'min_samples_leaf': trial.suggest_int('min_samples_leaf', 3, 10),\n",
    "        'min_weight_fraction_leaf': 0.0,\n",
    "        'max_features': 1.0,\n",
    "        'max_leaf_nodes': None,\n",
    "        'min_impurity_decrease': 0.0,\n",
    "        'bootstrap': True,\n",
    "        'n_jobs': None\n",
    "    }\n",
    "    model = RandomForestRegressor(**param,random_state = 42)\n",
    "    model.fit(train_x, train_y)\n",
    "    pred_y = model.predict(val_x)\n",
    "    return mean_absolute_error(val_y, pred_y)"
   ]
  },
  {
   "cell_type": "code",
   "execution_count": 32,
   "id": "eaf7a02c-62af-436c-a32b-4cf8c6070b27",
   "metadata": {
    "collapsed": true,
    "jupyter": {
     "outputs_hidden": true
    },
    "tags": []
   },
   "outputs": [
    {
     "name": "stderr",
     "output_type": "stream",
     "text": [
      "[I 2024-04-04 21:26:56,182] A new study created in memory with name: regression_rf\n",
      "[I 2024-04-04 21:27:02,930] Trial 0 finished with value: 12704.593735413384 and parameters: {'n_estimators': 907, 'max_depth': 4, 'min_samples_split': 4, 'min_samples_leaf': 10}. Best is trial 0 with value: 12704.593735413384.\n",
      "[I 2024-04-04 21:27:16,324] Trial 1 finished with value: 8114.854710316887 and parameters: {'n_estimators': 718, 'max_depth': 10, 'min_samples_split': 4, 'min_samples_leaf': 4}. Best is trial 1 with value: 8114.854710316887.\n",
      "[I 2024-04-04 21:27:20,562] Trial 2 finished with value: 16319.886548615947 and parameters: {'n_estimators': 599, 'max_depth': 3, 'min_samples_split': 9, 'min_samples_leaf': 5}. Best is trial 1 with value: 8114.854710316887.\n",
      "[I 2024-04-04 21:27:25,725] Trial 3 finished with value: 11124.399530434259 and parameters: {'n_estimators': 478, 'max_depth': 6, 'min_samples_split': 7, 'min_samples_leaf': 10}. Best is trial 1 with value: 8114.854710316887.\n",
      "[I 2024-04-04 21:27:31,388] Trial 4 finished with value: 10834.613926650092 and parameters: {'n_estimators': 489, 'max_depth': 6, 'min_samples_split': 3, 'min_samples_leaf': 4}. Best is trial 1 with value: 8114.854710316887.\n",
      "[I 2024-04-04 21:27:38,405] Trial 5 finished with value: 11659.561277038141 and parameters: {'n_estimators': 776, 'max_depth': 5, 'min_samples_split': 7, 'min_samples_leaf': 3}. Best is trial 1 with value: 8114.854710316887.\n",
      "[I 2024-04-04 21:27:48,044] Trial 6 finished with value: 9065.015225844796 and parameters: {'n_estimators': 610, 'max_depth': 10, 'min_samples_split': 8, 'min_samples_leaf': 7}. Best is trial 1 with value: 8114.854710316887.\n",
      "[I 2024-04-04 21:27:51,962] Trial 7 finished with value: 12715.953636528158 and parameters: {'n_estimators': 501, 'max_depth': 4, 'min_samples_split': 6, 'min_samples_leaf': 4}. Best is trial 1 with value: 8114.854710316887.\n",
      "[I 2024-04-04 21:28:03,377] Trial 8 finished with value: 8626.210937021811 and parameters: {'n_estimators': 716, 'max_depth': 9, 'min_samples_split': 5, 'min_samples_leaf': 4}. Best is trial 1 with value: 8114.854710316887.\n",
      "[I 2024-04-04 21:28:07,468] Trial 9 finished with value: 9599.346874258876 and parameters: {'n_estimators': 297, 'max_depth': 8, 'min_samples_split': 6, 'min_samples_leaf': 6}. Best is trial 1 with value: 8114.854710316887.\n",
      "[I 2024-04-04 21:28:10,260] Trial 10 finished with value: 9909.082644700604 and parameters: {'n_estimators': 140, 'max_depth': 8, 'min_samples_split': 3, 'min_samples_leaf': 8}. Best is trial 1 with value: 8114.854710316887.\n",
      "[I 2024-04-04 21:28:26,926] Trial 11 finished with value: 7689.029657881683 and parameters: {'n_estimators': 809, 'max_depth': 10, 'min_samples_split': 5, 'min_samples_leaf': 3}. Best is trial 11 with value: 7689.029657881683.\n",
      "[I 2024-04-04 21:28:44,629] Trial 12 finished with value: 7698.567258027631 and parameters: {'n_estimators': 987, 'max_depth': 10, 'min_samples_split': 5, 'min_samples_leaf': 3}. Best is trial 11 with value: 7689.029657881683.\n",
      "[I 2024-04-04 21:29:00,438] Trial 13 finished with value: 9091.73778308275 and parameters: {'n_estimators': 1000, 'max_depth': 8, 'min_samples_split': 5, 'min_samples_leaf': 3}. Best is trial 11 with value: 7689.029657881683.\n",
      "[I 2024-04-04 21:29:14,365] Trial 14 finished with value: 8791.312989957243 and parameters: {'n_estimators': 886, 'max_depth': 10, 'min_samples_split': 5, 'min_samples_leaf': 6}. Best is trial 11 with value: 7689.029657881683.\n",
      "[I 2024-04-04 21:29:28,673] Trial 15 finished with value: 8337.651788928457 and parameters: {'n_estimators': 951, 'max_depth': 9, 'min_samples_split': 4, 'min_samples_leaf': 3}. Best is trial 11 with value: 7689.029657881683.\n",
      "[I 2024-04-04 21:29:38,184] Trial 16 finished with value: 10150.65726568364 and parameters: {'n_estimators': 777, 'max_depth': 7, 'min_samples_split': 10, 'min_samples_leaf': 5}. Best is trial 11 with value: 7689.029657881683.\n",
      "[I 2024-04-04 21:29:50,016] Trial 17 finished with value: 9529.025131375245 and parameters: {'n_estimators': 848, 'max_depth': 9, 'min_samples_split': 6, 'min_samples_leaf': 8}. Best is trial 11 with value: 7689.029657881683.\n",
      "[I 2024-04-04 21:29:54,249] Trial 18 finished with value: 10162.431540483562 and parameters: {'n_estimators': 368, 'max_depth': 7, 'min_samples_split': 8, 'min_samples_leaf': 5}. Best is trial 11 with value: 7689.029657881683.\n",
      "[I 2024-04-04 21:30:07,001] Trial 19 finished with value: 7690.835160279913 and parameters: {'n_estimators': 826, 'max_depth': 10, 'min_samples_split': 5, 'min_samples_leaf': 3}. Best is trial 11 with value: 7689.029657881683.\n",
      "[I 2024-04-04 21:30:16,209] Trial 20 finished with value: 9350.367858940248 and parameters: {'n_estimators': 675, 'max_depth': 9, 'min_samples_split': 4, 'min_samples_leaf': 7}. Best is trial 11 with value: 7689.029657881683.\n",
      "[I 2024-04-04 21:30:29,259] Trial 21 finished with value: 7688.431856078183 and parameters: {'n_estimators': 810, 'max_depth': 10, 'min_samples_split': 5, 'min_samples_leaf': 3}. Best is trial 21 with value: 7688.431856078183.\n",
      "[I 2024-04-04 21:30:43,839] Trial 22 finished with value: 7690.561538913862 and parameters: {'n_estimators': 829, 'max_depth': 10, 'min_samples_split': 5, 'min_samples_leaf': 3}. Best is trial 21 with value: 7688.431856078183.\n",
      "[I 2024-04-04 21:30:59,206] Trial 23 finished with value: 8624.644013926243 and parameters: {'n_estimators': 784, 'max_depth': 9, 'min_samples_split': 6, 'min_samples_leaf': 4}. Best is trial 21 with value: 7688.431856078183.\n",
      "[I 2024-04-04 21:31:09,093] Trial 24 finished with value: 9456.448719000802 and parameters: {'n_estimators': 621, 'max_depth': 8, 'min_samples_split': 7, 'min_samples_leaf': 5}. Best is trial 21 with value: 7688.431856078183.\n",
      "[I 2024-04-04 21:31:20,698] Trial 25 finished with value: 7698.933612358755 and parameters: {'n_estimators': 684, 'max_depth': 10, 'min_samples_split': 3, 'min_samples_leaf': 3}. Best is trial 21 with value: 7688.431856078183.\n",
      "[I 2024-04-04 21:31:40,083] Trial 26 finished with value: 8631.873118760546 and parameters: {'n_estimators': 908, 'max_depth': 9, 'min_samples_split': 4, 'min_samples_leaf': 4}. Best is trial 21 with value: 7688.431856078183.\n",
      "[I 2024-04-04 21:31:58,280] Trial 27 finished with value: 7692.404890896815 and parameters: {'n_estimators': 837, 'max_depth': 10, 'min_samples_split': 5, 'min_samples_leaf': 3}. Best is trial 21 with value: 7688.431856078183.\n",
      "[I 2024-04-04 21:32:09,830] Trial 28 finished with value: 10152.14918363191 and parameters: {'n_estimators': 756, 'max_depth': 7, 'min_samples_split': 6, 'min_samples_leaf': 5}. Best is trial 21 with value: 7688.431856078183.\n",
      "[I 2024-04-04 21:32:24,693] Trial 29 finished with value: 10123.699487102445 and parameters: {'n_estimators': 878, 'max_depth': 8, 'min_samples_split': 4, 'min_samples_leaf': 10}. Best is trial 21 with value: 7688.431856078183.\n",
      "[I 2024-04-04 21:32:43,413] Trial 30 finished with value: 9700.812177522903 and parameters: {'n_estimators': 908, 'max_depth': 9, 'min_samples_split': 5, 'min_samples_leaf': 9}. Best is trial 21 with value: 7688.431856078183.\n",
      "[I 2024-04-04 21:33:05,259] Trial 31 finished with value: 7692.404890896815 and parameters: {'n_estimators': 837, 'max_depth': 10, 'min_samples_split': 5, 'min_samples_leaf': 3}. Best is trial 21 with value: 7688.431856078183.\n",
      "[I 2024-04-04 21:33:22,860] Trial 32 finished with value: 8105.57179788186 and parameters: {'n_estimators': 802, 'max_depth': 10, 'min_samples_split': 5, 'min_samples_leaf': 4}. Best is trial 21 with value: 7688.431856078183.\n",
      "[I 2024-04-04 21:33:36,019] Trial 33 finished with value: 7698.617210591627 and parameters: {'n_estimators': 718, 'max_depth': 10, 'min_samples_split': 4, 'min_samples_leaf': 3}. Best is trial 21 with value: 7688.431856078183.\n",
      "[I 2024-04-04 21:33:50,434] Trial 34 finished with value: 8336.71541066823 and parameters: {'n_estimators': 654, 'max_depth': 9, 'min_samples_split': 6, 'min_samples_leaf': 3}. Best is trial 21 with value: 7688.431856078183.\n",
      "[I 2024-04-04 21:34:01,966] Trial 35 finished with value: 8112.64696001656 and parameters: {'n_estimators': 541, 'max_depth': 10, 'min_samples_split': 7, 'min_samples_leaf': 4}. Best is trial 21 with value: 7688.431856078183.\n",
      "[I 2024-04-04 21:34:14,238] Trial 36 finished with value: 11666.597022913325 and parameters: {'n_estimators': 944, 'max_depth': 5, 'min_samples_split': 4, 'min_samples_leaf': 4}. Best is trial 21 with value: 7688.431856078183.\n",
      "[I 2024-04-04 21:34:29,340] Trial 37 finished with value: 7691.492446426916 and parameters: {'n_estimators': 741, 'max_depth': 10, 'min_samples_split': 3, 'min_samples_leaf': 3}. Best is trial 21 with value: 7688.431856078183.\n",
      "[I 2024-04-04 21:34:46,952] Trial 38 finished with value: 8622.347454339922 and parameters: {'n_estimators': 819, 'max_depth': 9, 'min_samples_split': 8, 'min_samples_leaf': 4}. Best is trial 21 with value: 7688.431856078183.\n",
      "[I 2024-04-04 21:34:52,673] Trial 39 finished with value: 16331.667452858495 and parameters: {'n_estimators': 559, 'max_depth': 3, 'min_samples_split': 6, 'min_samples_leaf': 5}. Best is trial 21 with value: 7688.431856078183.\n",
      "[I 2024-04-04 21:35:00,304] Trial 40 finished with value: 10944.978732998905 and parameters: {'n_estimators': 437, 'max_depth': 6, 'min_samples_split': 7, 'min_samples_leaf': 6}. Best is trial 21 with value: 7688.431856078183.\n",
      "[I 2024-04-04 21:35:20,454] Trial 41 finished with value: 7691.063343079576 and parameters: {'n_estimators': 740, 'max_depth': 10, 'min_samples_split': 3, 'min_samples_leaf': 3}. Best is trial 21 with value: 7688.431856078183.\n",
      "[I 2024-04-04 21:35:40,640] Trial 42 finished with value: 7698.558794501435 and parameters: {'n_estimators': 866, 'max_depth': 10, 'min_samples_split': 3, 'min_samples_leaf': 3}. Best is trial 21 with value: 7688.431856078183.\n",
      "[I 2024-04-04 21:35:59,351] Trial 43 finished with value: 8118.235559148767 and parameters: {'n_estimators': 932, 'max_depth': 10, 'min_samples_split': 5, 'min_samples_leaf': 4}. Best is trial 21 with value: 7688.431856078183.\n",
      "[I 2024-04-04 21:36:13,035] Trial 44 finished with value: 8332.134013159512 and parameters: {'n_estimators': 728, 'max_depth': 9, 'min_samples_split': 4, 'min_samples_leaf': 3}. Best is trial 21 with value: 7688.431856078183.\n",
      "[I 2024-04-04 21:36:27,803] Trial 45 finished with value: 8105.042567744702 and parameters: {'n_estimators': 812, 'max_depth': 10, 'min_samples_split': 3, 'min_samples_leaf': 4}. Best is trial 21 with value: 7688.431856078183.\n",
      "[I 2024-04-04 21:36:38,667] Trial 46 finished with value: 8337.417572975506 and parameters: {'n_estimators': 640, 'max_depth': 9, 'min_samples_split': 4, 'min_samples_leaf': 3}. Best is trial 21 with value: 7688.431856078183.\n",
      "[I 2024-04-04 21:37:00,967] Trial 47 finished with value: 7698.565960065403 and parameters: {'n_estimators': 703, 'max_depth': 10, 'min_samples_split': 5, 'min_samples_leaf': 3}. Best is trial 21 with value: 7688.431856078183.\n",
      "[I 2024-04-04 21:37:27,027] Trial 48 finished with value: 9357.110547808134 and parameters: {'n_estimators': 765, 'max_depth': 8, 'min_samples_split': 9, 'min_samples_leaf': 4}. Best is trial 21 with value: 7688.431856078183.\n",
      "[I 2024-04-04 21:37:48,784] Trial 49 finished with value: 7698.136238119468 and parameters: {'n_estimators': 971, 'max_depth': 10, 'min_samples_split': 6, 'min_samples_leaf': 3}. Best is trial 21 with value: 7688.431856078183.\n"
     ]
    }
   ],
   "source": [
    "# Random Forest Optuna 실행\n",
    "study_rf = optuna.create_study(direction='minimize', study_name='regression_rf')\n",
    "study_rf.optimize(objective, n_trials = 50)"
   ]
  },
  {
   "cell_type": "markdown",
   "id": "a00c5f8f-533f-4ab5-8017-3b0157194934",
   "metadata": {},
   "source": [
    "- 모델의 성능에 가장 큰 영향을 미치는 파라미터는 max_depth로 나타남\n",
    "- 결정 트리의 깊이가 성능에 중요한 역할을 한다는 것을 시사함\n",
    "\n",
    "- max_depth를 조절함으로써, 결정 트리의 최대 깊이를 지정할 수 있음\n",
    "- 과적합 또는 과소적합을 방지할 수 있음\n",
    "- 적절한 깊이 설정을 통해 모델의 성능을 향상시킬 수 있음"
   ]
  },
  {
   "cell_type": "code",
   "execution_count": 33,
   "id": "519295f4-bc73-425e-8391-9b37473da7f5",
   "metadata": {},
   "outputs": [
    {
     "data": {
      "application/vnd.plotly.v1+json": {
       "config": {
        "plotlyServerURL": "https://plot.ly"
       },
       "data": [
        {
         "cliponaxis": false,
         "hovertemplate": [
          "n_estimators (IntDistribution): 0.008139715331099232<extra></extra>",
          "min_samples_split (IntDistribution): 0.01841305903503349<extra></extra>",
          "min_samples_leaf (IntDistribution): 0.018997497913311005<extra></extra>",
          "max_depth (IntDistribution): 0.9544497277205563<extra></extra>"
         ],
         "name": "Objective Value",
         "orientation": "h",
         "text": [
          "<0.01",
          "0.02",
          "0.02",
          "0.95"
         ],
         "textposition": "outside",
         "type": "bar",
         "x": [
          0.008139715331099232,
          0.01841305903503349,
          0.018997497913311005,
          0.9544497277205563
         ],
         "y": [
          "n_estimators",
          "min_samples_split",
          "min_samples_leaf",
          "max_depth"
         ]
        }
       ],
       "layout": {
        "autosize": true,
        "template": {
         "data": {
          "bar": [
           {
            "error_x": {
             "color": "#2a3f5f"
            },
            "error_y": {
             "color": "#2a3f5f"
            },
            "marker": {
             "line": {
              "color": "#E5ECF6",
              "width": 0.5
             },
             "pattern": {
              "fillmode": "overlay",
              "size": 10,
              "solidity": 0.2
             }
            },
            "type": "bar"
           }
          ],
          "barpolar": [
           {
            "marker": {
             "line": {
              "color": "#E5ECF6",
              "width": 0.5
             },
             "pattern": {
              "fillmode": "overlay",
              "size": 10,
              "solidity": 0.2
             }
            },
            "type": "barpolar"
           }
          ],
          "carpet": [
           {
            "aaxis": {
             "endlinecolor": "#2a3f5f",
             "gridcolor": "white",
             "linecolor": "white",
             "minorgridcolor": "white",
             "startlinecolor": "#2a3f5f"
            },
            "baxis": {
             "endlinecolor": "#2a3f5f",
             "gridcolor": "white",
             "linecolor": "white",
             "minorgridcolor": "white",
             "startlinecolor": "#2a3f5f"
            },
            "type": "carpet"
           }
          ],
          "choropleth": [
           {
            "colorbar": {
             "outlinewidth": 0,
             "ticks": ""
            },
            "type": "choropleth"
           }
          ],
          "contour": [
           {
            "colorbar": {
             "outlinewidth": 0,
             "ticks": ""
            },
            "colorscale": [
             [
              0,
              "#0d0887"
             ],
             [
              0.1111111111111111,
              "#46039f"
             ],
             [
              0.2222222222222222,
              "#7201a8"
             ],
             [
              0.3333333333333333,
              "#9c179e"
             ],
             [
              0.4444444444444444,
              "#bd3786"
             ],
             [
              0.5555555555555556,
              "#d8576b"
             ],
             [
              0.6666666666666666,
              "#ed7953"
             ],
             [
              0.7777777777777778,
              "#fb9f3a"
             ],
             [
              0.8888888888888888,
              "#fdca26"
             ],
             [
              1,
              "#f0f921"
             ]
            ],
            "type": "contour"
           }
          ],
          "contourcarpet": [
           {
            "colorbar": {
             "outlinewidth": 0,
             "ticks": ""
            },
            "type": "contourcarpet"
           }
          ],
          "heatmap": [
           {
            "colorbar": {
             "outlinewidth": 0,
             "ticks": ""
            },
            "colorscale": [
             [
              0,
              "#0d0887"
             ],
             [
              0.1111111111111111,
              "#46039f"
             ],
             [
              0.2222222222222222,
              "#7201a8"
             ],
             [
              0.3333333333333333,
              "#9c179e"
             ],
             [
              0.4444444444444444,
              "#bd3786"
             ],
             [
              0.5555555555555556,
              "#d8576b"
             ],
             [
              0.6666666666666666,
              "#ed7953"
             ],
             [
              0.7777777777777778,
              "#fb9f3a"
             ],
             [
              0.8888888888888888,
              "#fdca26"
             ],
             [
              1,
              "#f0f921"
             ]
            ],
            "type": "heatmap"
           }
          ],
          "heatmapgl": [
           {
            "colorbar": {
             "outlinewidth": 0,
             "ticks": ""
            },
            "colorscale": [
             [
              0,
              "#0d0887"
             ],
             [
              0.1111111111111111,
              "#46039f"
             ],
             [
              0.2222222222222222,
              "#7201a8"
             ],
             [
              0.3333333333333333,
              "#9c179e"
             ],
             [
              0.4444444444444444,
              "#bd3786"
             ],
             [
              0.5555555555555556,
              "#d8576b"
             ],
             [
              0.6666666666666666,
              "#ed7953"
             ],
             [
              0.7777777777777778,
              "#fb9f3a"
             ],
             [
              0.8888888888888888,
              "#fdca26"
             ],
             [
              1,
              "#f0f921"
             ]
            ],
            "type": "heatmapgl"
           }
          ],
          "histogram": [
           {
            "marker": {
             "pattern": {
              "fillmode": "overlay",
              "size": 10,
              "solidity": 0.2
             }
            },
            "type": "histogram"
           }
          ],
          "histogram2d": [
           {
            "colorbar": {
             "outlinewidth": 0,
             "ticks": ""
            },
            "colorscale": [
             [
              0,
              "#0d0887"
             ],
             [
              0.1111111111111111,
              "#46039f"
             ],
             [
              0.2222222222222222,
              "#7201a8"
             ],
             [
              0.3333333333333333,
              "#9c179e"
             ],
             [
              0.4444444444444444,
              "#bd3786"
             ],
             [
              0.5555555555555556,
              "#d8576b"
             ],
             [
              0.6666666666666666,
              "#ed7953"
             ],
             [
              0.7777777777777778,
              "#fb9f3a"
             ],
             [
              0.8888888888888888,
              "#fdca26"
             ],
             [
              1,
              "#f0f921"
             ]
            ],
            "type": "histogram2d"
           }
          ],
          "histogram2dcontour": [
           {
            "colorbar": {
             "outlinewidth": 0,
             "ticks": ""
            },
            "colorscale": [
             [
              0,
              "#0d0887"
             ],
             [
              0.1111111111111111,
              "#46039f"
             ],
             [
              0.2222222222222222,
              "#7201a8"
             ],
             [
              0.3333333333333333,
              "#9c179e"
             ],
             [
              0.4444444444444444,
              "#bd3786"
             ],
             [
              0.5555555555555556,
              "#d8576b"
             ],
             [
              0.6666666666666666,
              "#ed7953"
             ],
             [
              0.7777777777777778,
              "#fb9f3a"
             ],
             [
              0.8888888888888888,
              "#fdca26"
             ],
             [
              1,
              "#f0f921"
             ]
            ],
            "type": "histogram2dcontour"
           }
          ],
          "mesh3d": [
           {
            "colorbar": {
             "outlinewidth": 0,
             "ticks": ""
            },
            "type": "mesh3d"
           }
          ],
          "parcoords": [
           {
            "line": {
             "colorbar": {
              "outlinewidth": 0,
              "ticks": ""
             }
            },
            "type": "parcoords"
           }
          ],
          "pie": [
           {
            "automargin": true,
            "type": "pie"
           }
          ],
          "scatter": [
           {
            "fillpattern": {
             "fillmode": "overlay",
             "size": 10,
             "solidity": 0.2
            },
            "type": "scatter"
           }
          ],
          "scatter3d": [
           {
            "line": {
             "colorbar": {
              "outlinewidth": 0,
              "ticks": ""
             }
            },
            "marker": {
             "colorbar": {
              "outlinewidth": 0,
              "ticks": ""
             }
            },
            "type": "scatter3d"
           }
          ],
          "scattercarpet": [
           {
            "marker": {
             "colorbar": {
              "outlinewidth": 0,
              "ticks": ""
             }
            },
            "type": "scattercarpet"
           }
          ],
          "scattergeo": [
           {
            "marker": {
             "colorbar": {
              "outlinewidth": 0,
              "ticks": ""
             }
            },
            "type": "scattergeo"
           }
          ],
          "scattergl": [
           {
            "marker": {
             "colorbar": {
              "outlinewidth": 0,
              "ticks": ""
             }
            },
            "type": "scattergl"
           }
          ],
          "scattermapbox": [
           {
            "marker": {
             "colorbar": {
              "outlinewidth": 0,
              "ticks": ""
             }
            },
            "type": "scattermapbox"
           }
          ],
          "scatterpolar": [
           {
            "marker": {
             "colorbar": {
              "outlinewidth": 0,
              "ticks": ""
             }
            },
            "type": "scatterpolar"
           }
          ],
          "scatterpolargl": [
           {
            "marker": {
             "colorbar": {
              "outlinewidth": 0,
              "ticks": ""
             }
            },
            "type": "scatterpolargl"
           }
          ],
          "scatterternary": [
           {
            "marker": {
             "colorbar": {
              "outlinewidth": 0,
              "ticks": ""
             }
            },
            "type": "scatterternary"
           }
          ],
          "surface": [
           {
            "colorbar": {
             "outlinewidth": 0,
             "ticks": ""
            },
            "colorscale": [
             [
              0,
              "#0d0887"
             ],
             [
              0.1111111111111111,
              "#46039f"
             ],
             [
              0.2222222222222222,
              "#7201a8"
             ],
             [
              0.3333333333333333,
              "#9c179e"
             ],
             [
              0.4444444444444444,
              "#bd3786"
             ],
             [
              0.5555555555555556,
              "#d8576b"
             ],
             [
              0.6666666666666666,
              "#ed7953"
             ],
             [
              0.7777777777777778,
              "#fb9f3a"
             ],
             [
              0.8888888888888888,
              "#fdca26"
             ],
             [
              1,
              "#f0f921"
             ]
            ],
            "type": "surface"
           }
          ],
          "table": [
           {
            "cells": {
             "fill": {
              "color": "#EBF0F8"
             },
             "line": {
              "color": "white"
             }
            },
            "header": {
             "fill": {
              "color": "#C8D4E3"
             },
             "line": {
              "color": "white"
             }
            },
            "type": "table"
           }
          ]
         },
         "layout": {
          "annotationdefaults": {
           "arrowcolor": "#2a3f5f",
           "arrowhead": 0,
           "arrowwidth": 1
          },
          "autotypenumbers": "strict",
          "coloraxis": {
           "colorbar": {
            "outlinewidth": 0,
            "ticks": ""
           }
          },
          "colorscale": {
           "diverging": [
            [
             0,
             "#8e0152"
            ],
            [
             0.1,
             "#c51b7d"
            ],
            [
             0.2,
             "#de77ae"
            ],
            [
             0.3,
             "#f1b6da"
            ],
            [
             0.4,
             "#fde0ef"
            ],
            [
             0.5,
             "#f7f7f7"
            ],
            [
             0.6,
             "#e6f5d0"
            ],
            [
             0.7,
             "#b8e186"
            ],
            [
             0.8,
             "#7fbc41"
            ],
            [
             0.9,
             "#4d9221"
            ],
            [
             1,
             "#276419"
            ]
           ],
           "sequential": [
            [
             0,
             "#0d0887"
            ],
            [
             0.1111111111111111,
             "#46039f"
            ],
            [
             0.2222222222222222,
             "#7201a8"
            ],
            [
             0.3333333333333333,
             "#9c179e"
            ],
            [
             0.4444444444444444,
             "#bd3786"
            ],
            [
             0.5555555555555556,
             "#d8576b"
            ],
            [
             0.6666666666666666,
             "#ed7953"
            ],
            [
             0.7777777777777778,
             "#fb9f3a"
            ],
            [
             0.8888888888888888,
             "#fdca26"
            ],
            [
             1,
             "#f0f921"
            ]
           ],
           "sequentialminus": [
            [
             0,
             "#0d0887"
            ],
            [
             0.1111111111111111,
             "#46039f"
            ],
            [
             0.2222222222222222,
             "#7201a8"
            ],
            [
             0.3333333333333333,
             "#9c179e"
            ],
            [
             0.4444444444444444,
             "#bd3786"
            ],
            [
             0.5555555555555556,
             "#d8576b"
            ],
            [
             0.6666666666666666,
             "#ed7953"
            ],
            [
             0.7777777777777778,
             "#fb9f3a"
            ],
            [
             0.8888888888888888,
             "#fdca26"
            ],
            [
             1,
             "#f0f921"
            ]
           ]
          },
          "colorway": [
           "#636efa",
           "#EF553B",
           "#00cc96",
           "#ab63fa",
           "#FFA15A",
           "#19d3f3",
           "#FF6692",
           "#B6E880",
           "#FF97FF",
           "#FECB52"
          ],
          "font": {
           "color": "#2a3f5f"
          },
          "geo": {
           "bgcolor": "white",
           "lakecolor": "white",
           "landcolor": "#E5ECF6",
           "showlakes": true,
           "showland": true,
           "subunitcolor": "white"
          },
          "hoverlabel": {
           "align": "left"
          },
          "hovermode": "closest",
          "mapbox": {
           "style": "light"
          },
          "paper_bgcolor": "white",
          "plot_bgcolor": "#E5ECF6",
          "polar": {
           "angularaxis": {
            "gridcolor": "white",
            "linecolor": "white",
            "ticks": ""
           },
           "bgcolor": "#E5ECF6",
           "radialaxis": {
            "gridcolor": "white",
            "linecolor": "white",
            "ticks": ""
           }
          },
          "scene": {
           "xaxis": {
            "backgroundcolor": "#E5ECF6",
            "gridcolor": "white",
            "gridwidth": 2,
            "linecolor": "white",
            "showbackground": true,
            "ticks": "",
            "zerolinecolor": "white"
           },
           "yaxis": {
            "backgroundcolor": "#E5ECF6",
            "gridcolor": "white",
            "gridwidth": 2,
            "linecolor": "white",
            "showbackground": true,
            "ticks": "",
            "zerolinecolor": "white"
           },
           "zaxis": {
            "backgroundcolor": "#E5ECF6",
            "gridcolor": "white",
            "gridwidth": 2,
            "linecolor": "white",
            "showbackground": true,
            "ticks": "",
            "zerolinecolor": "white"
           }
          },
          "shapedefaults": {
           "line": {
            "color": "#2a3f5f"
           }
          },
          "ternary": {
           "aaxis": {
            "gridcolor": "white",
            "linecolor": "white",
            "ticks": ""
           },
           "baxis": {
            "gridcolor": "white",
            "linecolor": "white",
            "ticks": ""
           },
           "bgcolor": "#E5ECF6",
           "caxis": {
            "gridcolor": "white",
            "linecolor": "white",
            "ticks": ""
           }
          },
          "title": {
           "x": 0.05
          },
          "xaxis": {
           "automargin": true,
           "gridcolor": "white",
           "linecolor": "white",
           "ticks": "",
           "title": {
            "standoff": 15
           },
           "zerolinecolor": "white",
           "zerolinewidth": 2
          },
          "yaxis": {
           "automargin": true,
           "gridcolor": "white",
           "linecolor": "white",
           "ticks": "",
           "title": {
            "standoff": 15
           },
           "zerolinecolor": "white",
           "zerolinewidth": 2
          }
         }
        },
        "title": {
         "text": "Hyperparameter Importances"
        },
        "xaxis": {
         "autorange": true,
         "range": [
          0,
          1.004683923916375
         ],
         "title": {
          "text": "Hyperparameter Importance"
         },
         "type": "linear"
        },
        "yaxis": {
         "autorange": true,
         "range": [
          -0.5,
          3.5
         ],
         "title": {
          "text": "Hyperparameter"
         },
         "type": "category"
        }
       }
      },
      "text/html": [
       "<div>                            <div id=\"31c6cde3-04d2-4d2c-9cc4-0a3a34a265fb\" class=\"plotly-graph-div\" style=\"height:525px; width:100%;\"></div>            <script type=\"text/javascript\">                require([\"plotly\"], function(Plotly) {                    window.PLOTLYENV=window.PLOTLYENV || {};                                    if (document.getElementById(\"31c6cde3-04d2-4d2c-9cc4-0a3a34a265fb\")) {                    Plotly.newPlot(                        \"31c6cde3-04d2-4d2c-9cc4-0a3a34a265fb\",                        [{\"cliponaxis\":false,\"hovertemplate\":[\"n_estimators (IntDistribution): 0.008139715331099232<extra></extra>\",\"min_samples_split (IntDistribution): 0.01841305903503349<extra></extra>\",\"min_samples_leaf (IntDistribution): 0.018997497913311005<extra></extra>\",\"max_depth (IntDistribution): 0.9544497277205563<extra></extra>\"],\"name\":\"Objective Value\",\"orientation\":\"h\",\"text\":[\"<0.01\",\"0.02\",\"0.02\",\"0.95\"],\"textposition\":\"outside\",\"x\":[0.008139715331099232,0.01841305903503349,0.018997497913311005,0.9544497277205563],\"y\":[\"n_estimators\",\"min_samples_split\",\"min_samples_leaf\",\"max_depth\"],\"type\":\"bar\"}],                        {\"title\":{\"text\":\"Hyperparameter Importances\"},\"xaxis\":{\"title\":{\"text\":\"Hyperparameter Importance\"}},\"yaxis\":{\"title\":{\"text\":\"Hyperparameter\"}},\"template\":{\"data\":{\"histogram2dcontour\":[{\"type\":\"histogram2dcontour\",\"colorbar\":{\"outlinewidth\":0,\"ticks\":\"\"},\"colorscale\":[[0.0,\"#0d0887\"],[0.1111111111111111,\"#46039f\"],[0.2222222222222222,\"#7201a8\"],[0.3333333333333333,\"#9c179e\"],[0.4444444444444444,\"#bd3786\"],[0.5555555555555556,\"#d8576b\"],[0.6666666666666666,\"#ed7953\"],[0.7777777777777778,\"#fb9f3a\"],[0.8888888888888888,\"#fdca26\"],[1.0,\"#f0f921\"]]}],\"choropleth\":[{\"type\":\"choropleth\",\"colorbar\":{\"outlinewidth\":0,\"ticks\":\"\"}}],\"histogram2d\":[{\"type\":\"histogram2d\",\"colorbar\":{\"outlinewidth\":0,\"ticks\":\"\"},\"colorscale\":[[0.0,\"#0d0887\"],[0.1111111111111111,\"#46039f\"],[0.2222222222222222,\"#7201a8\"],[0.3333333333333333,\"#9c179e\"],[0.4444444444444444,\"#bd3786\"],[0.5555555555555556,\"#d8576b\"],[0.6666666666666666,\"#ed7953\"],[0.7777777777777778,\"#fb9f3a\"],[0.8888888888888888,\"#fdca26\"],[1.0,\"#f0f921\"]]}],\"heatmap\":[{\"type\":\"heatmap\",\"colorbar\":{\"outlinewidth\":0,\"ticks\":\"\"},\"colorscale\":[[0.0,\"#0d0887\"],[0.1111111111111111,\"#46039f\"],[0.2222222222222222,\"#7201a8\"],[0.3333333333333333,\"#9c179e\"],[0.4444444444444444,\"#bd3786\"],[0.5555555555555556,\"#d8576b\"],[0.6666666666666666,\"#ed7953\"],[0.7777777777777778,\"#fb9f3a\"],[0.8888888888888888,\"#fdca26\"],[1.0,\"#f0f921\"]]}],\"heatmapgl\":[{\"type\":\"heatmapgl\",\"colorbar\":{\"outlinewidth\":0,\"ticks\":\"\"},\"colorscale\":[[0.0,\"#0d0887\"],[0.1111111111111111,\"#46039f\"],[0.2222222222222222,\"#7201a8\"],[0.3333333333333333,\"#9c179e\"],[0.4444444444444444,\"#bd3786\"],[0.5555555555555556,\"#d8576b\"],[0.6666666666666666,\"#ed7953\"],[0.7777777777777778,\"#fb9f3a\"],[0.8888888888888888,\"#fdca26\"],[1.0,\"#f0f921\"]]}],\"contourcarpet\":[{\"type\":\"contourcarpet\",\"colorbar\":{\"outlinewidth\":0,\"ticks\":\"\"}}],\"contour\":[{\"type\":\"contour\",\"colorbar\":{\"outlinewidth\":0,\"ticks\":\"\"},\"colorscale\":[[0.0,\"#0d0887\"],[0.1111111111111111,\"#46039f\"],[0.2222222222222222,\"#7201a8\"],[0.3333333333333333,\"#9c179e\"],[0.4444444444444444,\"#bd3786\"],[0.5555555555555556,\"#d8576b\"],[0.6666666666666666,\"#ed7953\"],[0.7777777777777778,\"#fb9f3a\"],[0.8888888888888888,\"#fdca26\"],[1.0,\"#f0f921\"]]}],\"surface\":[{\"type\":\"surface\",\"colorbar\":{\"outlinewidth\":0,\"ticks\":\"\"},\"colorscale\":[[0.0,\"#0d0887\"],[0.1111111111111111,\"#46039f\"],[0.2222222222222222,\"#7201a8\"],[0.3333333333333333,\"#9c179e\"],[0.4444444444444444,\"#bd3786\"],[0.5555555555555556,\"#d8576b\"],[0.6666666666666666,\"#ed7953\"],[0.7777777777777778,\"#fb9f3a\"],[0.8888888888888888,\"#fdca26\"],[1.0,\"#f0f921\"]]}],\"mesh3d\":[{\"type\":\"mesh3d\",\"colorbar\":{\"outlinewidth\":0,\"ticks\":\"\"}}],\"scatter\":[{\"fillpattern\":{\"fillmode\":\"overlay\",\"size\":10,\"solidity\":0.2},\"type\":\"scatter\"}],\"parcoords\":[{\"type\":\"parcoords\",\"line\":{\"colorbar\":{\"outlinewidth\":0,\"ticks\":\"\"}}}],\"scatterpolargl\":[{\"type\":\"scatterpolargl\",\"marker\":{\"colorbar\":{\"outlinewidth\":0,\"ticks\":\"\"}}}],\"bar\":[{\"error_x\":{\"color\":\"#2a3f5f\"},\"error_y\":{\"color\":\"#2a3f5f\"},\"marker\":{\"line\":{\"color\":\"#E5ECF6\",\"width\":0.5},\"pattern\":{\"fillmode\":\"overlay\",\"size\":10,\"solidity\":0.2}},\"type\":\"bar\"}],\"scattergeo\":[{\"type\":\"scattergeo\",\"marker\":{\"colorbar\":{\"outlinewidth\":0,\"ticks\":\"\"}}}],\"scatterpolar\":[{\"type\":\"scatterpolar\",\"marker\":{\"colorbar\":{\"outlinewidth\":0,\"ticks\":\"\"}}}],\"histogram\":[{\"marker\":{\"pattern\":{\"fillmode\":\"overlay\",\"size\":10,\"solidity\":0.2}},\"type\":\"histogram\"}],\"scattergl\":[{\"type\":\"scattergl\",\"marker\":{\"colorbar\":{\"outlinewidth\":0,\"ticks\":\"\"}}}],\"scatter3d\":[{\"type\":\"scatter3d\",\"line\":{\"colorbar\":{\"outlinewidth\":0,\"ticks\":\"\"}},\"marker\":{\"colorbar\":{\"outlinewidth\":0,\"ticks\":\"\"}}}],\"scattermapbox\":[{\"type\":\"scattermapbox\",\"marker\":{\"colorbar\":{\"outlinewidth\":0,\"ticks\":\"\"}}}],\"scatterternary\":[{\"type\":\"scatterternary\",\"marker\":{\"colorbar\":{\"outlinewidth\":0,\"ticks\":\"\"}}}],\"scattercarpet\":[{\"type\":\"scattercarpet\",\"marker\":{\"colorbar\":{\"outlinewidth\":0,\"ticks\":\"\"}}}],\"carpet\":[{\"aaxis\":{\"endlinecolor\":\"#2a3f5f\",\"gridcolor\":\"white\",\"linecolor\":\"white\",\"minorgridcolor\":\"white\",\"startlinecolor\":\"#2a3f5f\"},\"baxis\":{\"endlinecolor\":\"#2a3f5f\",\"gridcolor\":\"white\",\"linecolor\":\"white\",\"minorgridcolor\":\"white\",\"startlinecolor\":\"#2a3f5f\"},\"type\":\"carpet\"}],\"table\":[{\"cells\":{\"fill\":{\"color\":\"#EBF0F8\"},\"line\":{\"color\":\"white\"}},\"header\":{\"fill\":{\"color\":\"#C8D4E3\"},\"line\":{\"color\":\"white\"}},\"type\":\"table\"}],\"barpolar\":[{\"marker\":{\"line\":{\"color\":\"#E5ECF6\",\"width\":0.5},\"pattern\":{\"fillmode\":\"overlay\",\"size\":10,\"solidity\":0.2}},\"type\":\"barpolar\"}],\"pie\":[{\"automargin\":true,\"type\":\"pie\"}]},\"layout\":{\"autotypenumbers\":\"strict\",\"colorway\":[\"#636efa\",\"#EF553B\",\"#00cc96\",\"#ab63fa\",\"#FFA15A\",\"#19d3f3\",\"#FF6692\",\"#B6E880\",\"#FF97FF\",\"#FECB52\"],\"font\":{\"color\":\"#2a3f5f\"},\"hovermode\":\"closest\",\"hoverlabel\":{\"align\":\"left\"},\"paper_bgcolor\":\"white\",\"plot_bgcolor\":\"#E5ECF6\",\"polar\":{\"bgcolor\":\"#E5ECF6\",\"angularaxis\":{\"gridcolor\":\"white\",\"linecolor\":\"white\",\"ticks\":\"\"},\"radialaxis\":{\"gridcolor\":\"white\",\"linecolor\":\"white\",\"ticks\":\"\"}},\"ternary\":{\"bgcolor\":\"#E5ECF6\",\"aaxis\":{\"gridcolor\":\"white\",\"linecolor\":\"white\",\"ticks\":\"\"},\"baxis\":{\"gridcolor\":\"white\",\"linecolor\":\"white\",\"ticks\":\"\"},\"caxis\":{\"gridcolor\":\"white\",\"linecolor\":\"white\",\"ticks\":\"\"}},\"coloraxis\":{\"colorbar\":{\"outlinewidth\":0,\"ticks\":\"\"}},\"colorscale\":{\"sequential\":[[0.0,\"#0d0887\"],[0.1111111111111111,\"#46039f\"],[0.2222222222222222,\"#7201a8\"],[0.3333333333333333,\"#9c179e\"],[0.4444444444444444,\"#bd3786\"],[0.5555555555555556,\"#d8576b\"],[0.6666666666666666,\"#ed7953\"],[0.7777777777777778,\"#fb9f3a\"],[0.8888888888888888,\"#fdca26\"],[1.0,\"#f0f921\"]],\"sequentialminus\":[[0.0,\"#0d0887\"],[0.1111111111111111,\"#46039f\"],[0.2222222222222222,\"#7201a8\"],[0.3333333333333333,\"#9c179e\"],[0.4444444444444444,\"#bd3786\"],[0.5555555555555556,\"#d8576b\"],[0.6666666666666666,\"#ed7953\"],[0.7777777777777778,\"#fb9f3a\"],[0.8888888888888888,\"#fdca26\"],[1.0,\"#f0f921\"]],\"diverging\":[[0,\"#8e0152\"],[0.1,\"#c51b7d\"],[0.2,\"#de77ae\"],[0.3,\"#f1b6da\"],[0.4,\"#fde0ef\"],[0.5,\"#f7f7f7\"],[0.6,\"#e6f5d0\"],[0.7,\"#b8e186\"],[0.8,\"#7fbc41\"],[0.9,\"#4d9221\"],[1,\"#276419\"]]},\"xaxis\":{\"gridcolor\":\"white\",\"linecolor\":\"white\",\"ticks\":\"\",\"title\":{\"standoff\":15},\"zerolinecolor\":\"white\",\"automargin\":true,\"zerolinewidth\":2},\"yaxis\":{\"gridcolor\":\"white\",\"linecolor\":\"white\",\"ticks\":\"\",\"title\":{\"standoff\":15},\"zerolinecolor\":\"white\",\"automargin\":true,\"zerolinewidth\":2},\"scene\":{\"xaxis\":{\"backgroundcolor\":\"#E5ECF6\",\"gridcolor\":\"white\",\"linecolor\":\"white\",\"showbackground\":true,\"ticks\":\"\",\"zerolinecolor\":\"white\",\"gridwidth\":2},\"yaxis\":{\"backgroundcolor\":\"#E5ECF6\",\"gridcolor\":\"white\",\"linecolor\":\"white\",\"showbackground\":true,\"ticks\":\"\",\"zerolinecolor\":\"white\",\"gridwidth\":2},\"zaxis\":{\"backgroundcolor\":\"#E5ECF6\",\"gridcolor\":\"white\",\"linecolor\":\"white\",\"showbackground\":true,\"ticks\":\"\",\"zerolinecolor\":\"white\",\"gridwidth\":2}},\"shapedefaults\":{\"line\":{\"color\":\"#2a3f5f\"}},\"annotationdefaults\":{\"arrowcolor\":\"#2a3f5f\",\"arrowhead\":0,\"arrowwidth\":1},\"geo\":{\"bgcolor\":\"white\",\"landcolor\":\"#E5ECF6\",\"subunitcolor\":\"white\",\"showland\":true,\"showlakes\":true,\"lakecolor\":\"white\"},\"title\":{\"x\":0.05},\"mapbox\":{\"style\":\"light\"}}}},                        {\"responsive\": true}                    ).then(function(){\n",
       "                            \n",
       "var gd = document.getElementById('31c6cde3-04d2-4d2c-9cc4-0a3a34a265fb');\n",
       "var x = new MutationObserver(function (mutations, observer) {{\n",
       "        var display = window.getComputedStyle(gd).display;\n",
       "        if (!display || display === 'none') {{\n",
       "            console.log([gd, 'removed!']);\n",
       "            Plotly.purge(gd);\n",
       "            observer.disconnect();\n",
       "        }}\n",
       "}});\n",
       "\n",
       "// Listen for the removal of the full notebook cells\n",
       "var notebookContainer = gd.closest('#notebook-container');\n",
       "if (notebookContainer) {{\n",
       "    x.observe(notebookContainer, {childList: true});\n",
       "}}\n",
       "\n",
       "// Listen for the clearing of the current output cell\n",
       "var outputEl = gd.closest('.output');\n",
       "if (outputEl) {{\n",
       "    x.observe(outputEl, {childList: true});\n",
       "}}\n",
       "\n",
       "                        })                };                });            </script>        </div>"
      ]
     },
     "metadata": {},
     "output_type": "display_data"
    }
   ],
   "source": [
    "optuna.visualization.plot_param_importances(study_rf) # 파라미터 중요도 확인 그래프"
   ]
  },
  {
   "cell_type": "code",
   "execution_count": 34,
   "id": "867ae85d-c4cf-484a-8418-3b9a30afcbe3",
   "metadata": {},
   "outputs": [
    {
     "data": {
      "application/vnd.plotly.v1+json": {
       "config": {
        "plotlyServerURL": "https://plot.ly"
       },
       "data": [
        {
         "mode": "markers",
         "name": "Objective Value",
         "type": "scatter",
         "x": [
          0,
          1,
          2,
          3,
          4,
          5,
          6,
          7,
          8,
          9,
          10,
          11,
          12,
          13,
          14,
          15,
          16,
          17,
          18,
          19,
          20,
          21,
          22,
          23,
          24,
          25,
          26,
          27,
          28,
          29,
          30,
          31,
          32,
          33,
          34,
          35,
          36,
          37,
          38,
          39,
          40,
          41,
          42,
          43,
          44,
          45,
          46,
          47,
          48,
          49
         ],
         "y": [
          12704.593735413384,
          8114.854710316887,
          16319.886548615947,
          11124.399530434259,
          10834.613926650092,
          11659.561277038141,
          9065.015225844796,
          12715.953636528158,
          8626.210937021811,
          9599.346874258876,
          9909.082644700604,
          7689.029657881683,
          7698.567258027631,
          9091.73778308275,
          8791.312989957243,
          8337.651788928457,
          10150.65726568364,
          9529.025131375245,
          10162.431540483562,
          7690.835160279913,
          9350.367858940248,
          7688.431856078183,
          7690.561538913862,
          8624.644013926243,
          9456.448719000802,
          7698.933612358755,
          8631.873118760546,
          7692.404890896815,
          10152.14918363191,
          10123.699487102445,
          9700.812177522903,
          7692.404890896815,
          8105.57179788186,
          7698.617210591627,
          8336.71541066823,
          8112.64696001656,
          11666.597022913325,
          7691.492446426916,
          8622.347454339922,
          16331.667452858495,
          10944.978732998905,
          7691.063343079576,
          7698.558794501435,
          8118.235559148767,
          8332.134013159512,
          8105.042567744702,
          8337.417572975506,
          7698.565960065403,
          9357.110547808134,
          7698.136238119468
         ]
        },
        {
         "mode": "lines",
         "name": "Best Value",
         "type": "scatter",
         "x": [
          0,
          1,
          2,
          3,
          4,
          5,
          6,
          7,
          8,
          9,
          10,
          11,
          12,
          13,
          14,
          15,
          16,
          17,
          18,
          19,
          20,
          21,
          22,
          23,
          24,
          25,
          26,
          27,
          28,
          29,
          30,
          31,
          32,
          33,
          34,
          35,
          36,
          37,
          38,
          39,
          40,
          41,
          42,
          43,
          44,
          45,
          46,
          47,
          48,
          49
         ],
         "y": [
          12704.593735413384,
          8114.854710316887,
          8114.854710316887,
          8114.854710316887,
          8114.854710316887,
          8114.854710316887,
          8114.854710316887,
          8114.854710316887,
          8114.854710316887,
          8114.854710316887,
          8114.854710316887,
          7689.029657881683,
          7689.029657881683,
          7689.029657881683,
          7689.029657881683,
          7689.029657881683,
          7689.029657881683,
          7689.029657881683,
          7689.029657881683,
          7689.029657881683,
          7689.029657881683,
          7688.431856078183,
          7688.431856078183,
          7688.431856078183,
          7688.431856078183,
          7688.431856078183,
          7688.431856078183,
          7688.431856078183,
          7688.431856078183,
          7688.431856078183,
          7688.431856078183,
          7688.431856078183,
          7688.431856078183,
          7688.431856078183,
          7688.431856078183,
          7688.431856078183,
          7688.431856078183,
          7688.431856078183,
          7688.431856078183,
          7688.431856078183,
          7688.431856078183,
          7688.431856078183,
          7688.431856078183,
          7688.431856078183,
          7688.431856078183,
          7688.431856078183,
          7688.431856078183,
          7688.431856078183,
          7688.431856078183,
          7688.431856078183
         ]
        },
        {
         "marker": {
          "color": "#cccccc"
         },
         "mode": "markers",
         "name": "Infeasible Trial",
         "showlegend": false,
         "type": "scatter",
         "x": [],
         "y": []
        }
       ],
       "layout": {
        "autosize": true,
        "template": {
         "data": {
          "bar": [
           {
            "error_x": {
             "color": "#2a3f5f"
            },
            "error_y": {
             "color": "#2a3f5f"
            },
            "marker": {
             "line": {
              "color": "#E5ECF6",
              "width": 0.5
             },
             "pattern": {
              "fillmode": "overlay",
              "size": 10,
              "solidity": 0.2
             }
            },
            "type": "bar"
           }
          ],
          "barpolar": [
           {
            "marker": {
             "line": {
              "color": "#E5ECF6",
              "width": 0.5
             },
             "pattern": {
              "fillmode": "overlay",
              "size": 10,
              "solidity": 0.2
             }
            },
            "type": "barpolar"
           }
          ],
          "carpet": [
           {
            "aaxis": {
             "endlinecolor": "#2a3f5f",
             "gridcolor": "white",
             "linecolor": "white",
             "minorgridcolor": "white",
             "startlinecolor": "#2a3f5f"
            },
            "baxis": {
             "endlinecolor": "#2a3f5f",
             "gridcolor": "white",
             "linecolor": "white",
             "minorgridcolor": "white",
             "startlinecolor": "#2a3f5f"
            },
            "type": "carpet"
           }
          ],
          "choropleth": [
           {
            "colorbar": {
             "outlinewidth": 0,
             "ticks": ""
            },
            "type": "choropleth"
           }
          ],
          "contour": [
           {
            "colorbar": {
             "outlinewidth": 0,
             "ticks": ""
            },
            "colorscale": [
             [
              0,
              "#0d0887"
             ],
             [
              0.1111111111111111,
              "#46039f"
             ],
             [
              0.2222222222222222,
              "#7201a8"
             ],
             [
              0.3333333333333333,
              "#9c179e"
             ],
             [
              0.4444444444444444,
              "#bd3786"
             ],
             [
              0.5555555555555556,
              "#d8576b"
             ],
             [
              0.6666666666666666,
              "#ed7953"
             ],
             [
              0.7777777777777778,
              "#fb9f3a"
             ],
             [
              0.8888888888888888,
              "#fdca26"
             ],
             [
              1,
              "#f0f921"
             ]
            ],
            "type": "contour"
           }
          ],
          "contourcarpet": [
           {
            "colorbar": {
             "outlinewidth": 0,
             "ticks": ""
            },
            "type": "contourcarpet"
           }
          ],
          "heatmap": [
           {
            "colorbar": {
             "outlinewidth": 0,
             "ticks": ""
            },
            "colorscale": [
             [
              0,
              "#0d0887"
             ],
             [
              0.1111111111111111,
              "#46039f"
             ],
             [
              0.2222222222222222,
              "#7201a8"
             ],
             [
              0.3333333333333333,
              "#9c179e"
             ],
             [
              0.4444444444444444,
              "#bd3786"
             ],
             [
              0.5555555555555556,
              "#d8576b"
             ],
             [
              0.6666666666666666,
              "#ed7953"
             ],
             [
              0.7777777777777778,
              "#fb9f3a"
             ],
             [
              0.8888888888888888,
              "#fdca26"
             ],
             [
              1,
              "#f0f921"
             ]
            ],
            "type": "heatmap"
           }
          ],
          "heatmapgl": [
           {
            "colorbar": {
             "outlinewidth": 0,
             "ticks": ""
            },
            "colorscale": [
             [
              0,
              "#0d0887"
             ],
             [
              0.1111111111111111,
              "#46039f"
             ],
             [
              0.2222222222222222,
              "#7201a8"
             ],
             [
              0.3333333333333333,
              "#9c179e"
             ],
             [
              0.4444444444444444,
              "#bd3786"
             ],
             [
              0.5555555555555556,
              "#d8576b"
             ],
             [
              0.6666666666666666,
              "#ed7953"
             ],
             [
              0.7777777777777778,
              "#fb9f3a"
             ],
             [
              0.8888888888888888,
              "#fdca26"
             ],
             [
              1,
              "#f0f921"
             ]
            ],
            "type": "heatmapgl"
           }
          ],
          "histogram": [
           {
            "marker": {
             "pattern": {
              "fillmode": "overlay",
              "size": 10,
              "solidity": 0.2
             }
            },
            "type": "histogram"
           }
          ],
          "histogram2d": [
           {
            "colorbar": {
             "outlinewidth": 0,
             "ticks": ""
            },
            "colorscale": [
             [
              0,
              "#0d0887"
             ],
             [
              0.1111111111111111,
              "#46039f"
             ],
             [
              0.2222222222222222,
              "#7201a8"
             ],
             [
              0.3333333333333333,
              "#9c179e"
             ],
             [
              0.4444444444444444,
              "#bd3786"
             ],
             [
              0.5555555555555556,
              "#d8576b"
             ],
             [
              0.6666666666666666,
              "#ed7953"
             ],
             [
              0.7777777777777778,
              "#fb9f3a"
             ],
             [
              0.8888888888888888,
              "#fdca26"
             ],
             [
              1,
              "#f0f921"
             ]
            ],
            "type": "histogram2d"
           }
          ],
          "histogram2dcontour": [
           {
            "colorbar": {
             "outlinewidth": 0,
             "ticks": ""
            },
            "colorscale": [
             [
              0,
              "#0d0887"
             ],
             [
              0.1111111111111111,
              "#46039f"
             ],
             [
              0.2222222222222222,
              "#7201a8"
             ],
             [
              0.3333333333333333,
              "#9c179e"
             ],
             [
              0.4444444444444444,
              "#bd3786"
             ],
             [
              0.5555555555555556,
              "#d8576b"
             ],
             [
              0.6666666666666666,
              "#ed7953"
             ],
             [
              0.7777777777777778,
              "#fb9f3a"
             ],
             [
              0.8888888888888888,
              "#fdca26"
             ],
             [
              1,
              "#f0f921"
             ]
            ],
            "type": "histogram2dcontour"
           }
          ],
          "mesh3d": [
           {
            "colorbar": {
             "outlinewidth": 0,
             "ticks": ""
            },
            "type": "mesh3d"
           }
          ],
          "parcoords": [
           {
            "line": {
             "colorbar": {
              "outlinewidth": 0,
              "ticks": ""
             }
            },
            "type": "parcoords"
           }
          ],
          "pie": [
           {
            "automargin": true,
            "type": "pie"
           }
          ],
          "scatter": [
           {
            "fillpattern": {
             "fillmode": "overlay",
             "size": 10,
             "solidity": 0.2
            },
            "type": "scatter"
           }
          ],
          "scatter3d": [
           {
            "line": {
             "colorbar": {
              "outlinewidth": 0,
              "ticks": ""
             }
            },
            "marker": {
             "colorbar": {
              "outlinewidth": 0,
              "ticks": ""
             }
            },
            "type": "scatter3d"
           }
          ],
          "scattercarpet": [
           {
            "marker": {
             "colorbar": {
              "outlinewidth": 0,
              "ticks": ""
             }
            },
            "type": "scattercarpet"
           }
          ],
          "scattergeo": [
           {
            "marker": {
             "colorbar": {
              "outlinewidth": 0,
              "ticks": ""
             }
            },
            "type": "scattergeo"
           }
          ],
          "scattergl": [
           {
            "marker": {
             "colorbar": {
              "outlinewidth": 0,
              "ticks": ""
             }
            },
            "type": "scattergl"
           }
          ],
          "scattermapbox": [
           {
            "marker": {
             "colorbar": {
              "outlinewidth": 0,
              "ticks": ""
             }
            },
            "type": "scattermapbox"
           }
          ],
          "scatterpolar": [
           {
            "marker": {
             "colorbar": {
              "outlinewidth": 0,
              "ticks": ""
             }
            },
            "type": "scatterpolar"
           }
          ],
          "scatterpolargl": [
           {
            "marker": {
             "colorbar": {
              "outlinewidth": 0,
              "ticks": ""
             }
            },
            "type": "scatterpolargl"
           }
          ],
          "scatterternary": [
           {
            "marker": {
             "colorbar": {
              "outlinewidth": 0,
              "ticks": ""
             }
            },
            "type": "scatterternary"
           }
          ],
          "surface": [
           {
            "colorbar": {
             "outlinewidth": 0,
             "ticks": ""
            },
            "colorscale": [
             [
              0,
              "#0d0887"
             ],
             [
              0.1111111111111111,
              "#46039f"
             ],
             [
              0.2222222222222222,
              "#7201a8"
             ],
             [
              0.3333333333333333,
              "#9c179e"
             ],
             [
              0.4444444444444444,
              "#bd3786"
             ],
             [
              0.5555555555555556,
              "#d8576b"
             ],
             [
              0.6666666666666666,
              "#ed7953"
             ],
             [
              0.7777777777777778,
              "#fb9f3a"
             ],
             [
              0.8888888888888888,
              "#fdca26"
             ],
             [
              1,
              "#f0f921"
             ]
            ],
            "type": "surface"
           }
          ],
          "table": [
           {
            "cells": {
             "fill": {
              "color": "#EBF0F8"
             },
             "line": {
              "color": "white"
             }
            },
            "header": {
             "fill": {
              "color": "#C8D4E3"
             },
             "line": {
              "color": "white"
             }
            },
            "type": "table"
           }
          ]
         },
         "layout": {
          "annotationdefaults": {
           "arrowcolor": "#2a3f5f",
           "arrowhead": 0,
           "arrowwidth": 1
          },
          "autotypenumbers": "strict",
          "coloraxis": {
           "colorbar": {
            "outlinewidth": 0,
            "ticks": ""
           }
          },
          "colorscale": {
           "diverging": [
            [
             0,
             "#8e0152"
            ],
            [
             0.1,
             "#c51b7d"
            ],
            [
             0.2,
             "#de77ae"
            ],
            [
             0.3,
             "#f1b6da"
            ],
            [
             0.4,
             "#fde0ef"
            ],
            [
             0.5,
             "#f7f7f7"
            ],
            [
             0.6,
             "#e6f5d0"
            ],
            [
             0.7,
             "#b8e186"
            ],
            [
             0.8,
             "#7fbc41"
            ],
            [
             0.9,
             "#4d9221"
            ],
            [
             1,
             "#276419"
            ]
           ],
           "sequential": [
            [
             0,
             "#0d0887"
            ],
            [
             0.1111111111111111,
             "#46039f"
            ],
            [
             0.2222222222222222,
             "#7201a8"
            ],
            [
             0.3333333333333333,
             "#9c179e"
            ],
            [
             0.4444444444444444,
             "#bd3786"
            ],
            [
             0.5555555555555556,
             "#d8576b"
            ],
            [
             0.6666666666666666,
             "#ed7953"
            ],
            [
             0.7777777777777778,
             "#fb9f3a"
            ],
            [
             0.8888888888888888,
             "#fdca26"
            ],
            [
             1,
             "#f0f921"
            ]
           ],
           "sequentialminus": [
            [
             0,
             "#0d0887"
            ],
            [
             0.1111111111111111,
             "#46039f"
            ],
            [
             0.2222222222222222,
             "#7201a8"
            ],
            [
             0.3333333333333333,
             "#9c179e"
            ],
            [
             0.4444444444444444,
             "#bd3786"
            ],
            [
             0.5555555555555556,
             "#d8576b"
            ],
            [
             0.6666666666666666,
             "#ed7953"
            ],
            [
             0.7777777777777778,
             "#fb9f3a"
            ],
            [
             0.8888888888888888,
             "#fdca26"
            ],
            [
             1,
             "#f0f921"
            ]
           ]
          },
          "colorway": [
           "#636efa",
           "#EF553B",
           "#00cc96",
           "#ab63fa",
           "#FFA15A",
           "#19d3f3",
           "#FF6692",
           "#B6E880",
           "#FF97FF",
           "#FECB52"
          ],
          "font": {
           "color": "#2a3f5f"
          },
          "geo": {
           "bgcolor": "white",
           "lakecolor": "white",
           "landcolor": "#E5ECF6",
           "showlakes": true,
           "showland": true,
           "subunitcolor": "white"
          },
          "hoverlabel": {
           "align": "left"
          },
          "hovermode": "closest",
          "mapbox": {
           "style": "light"
          },
          "paper_bgcolor": "white",
          "plot_bgcolor": "#E5ECF6",
          "polar": {
           "angularaxis": {
            "gridcolor": "white",
            "linecolor": "white",
            "ticks": ""
           },
           "bgcolor": "#E5ECF6",
           "radialaxis": {
            "gridcolor": "white",
            "linecolor": "white",
            "ticks": ""
           }
          },
          "scene": {
           "xaxis": {
            "backgroundcolor": "#E5ECF6",
            "gridcolor": "white",
            "gridwidth": 2,
            "linecolor": "white",
            "showbackground": true,
            "ticks": "",
            "zerolinecolor": "white"
           },
           "yaxis": {
            "backgroundcolor": "#E5ECF6",
            "gridcolor": "white",
            "gridwidth": 2,
            "linecolor": "white",
            "showbackground": true,
            "ticks": "",
            "zerolinecolor": "white"
           },
           "zaxis": {
            "backgroundcolor": "#E5ECF6",
            "gridcolor": "white",
            "gridwidth": 2,
            "linecolor": "white",
            "showbackground": true,
            "ticks": "",
            "zerolinecolor": "white"
           }
          },
          "shapedefaults": {
           "line": {
            "color": "#2a3f5f"
           }
          },
          "ternary": {
           "aaxis": {
            "gridcolor": "white",
            "linecolor": "white",
            "ticks": ""
           },
           "baxis": {
            "gridcolor": "white",
            "linecolor": "white",
            "ticks": ""
           },
           "bgcolor": "#E5ECF6",
           "caxis": {
            "gridcolor": "white",
            "linecolor": "white",
            "ticks": ""
           }
          },
          "title": {
           "x": 0.05
          },
          "xaxis": {
           "automargin": true,
           "gridcolor": "white",
           "linecolor": "white",
           "ticks": "",
           "title": {
            "standoff": 15
           },
           "zerolinecolor": "white",
           "zerolinewidth": 2
          },
          "yaxis": {
           "automargin": true,
           "gridcolor": "white",
           "linecolor": "white",
           "ticks": "",
           "title": {
            "standoff": 15
           },
           "zerolinecolor": "white",
           "zerolinewidth": 2
          }
         }
        },
        "title": {
         "text": "Optimization History Plot"
        },
        "xaxis": {
         "autorange": true,
         "range": [
          -3.186448385629832,
          52.18644838562983
         ],
         "title": {
          "text": "Trial"
         },
         "type": "linear"
        },
        "yaxis": {
         "autorange": true,
         "range": [
          7055.328611728033,
          16964.770697208645
         ],
         "title": {
          "text": "Objective Value"
         },
         "type": "linear"
        }
       }
      },
      "text/html": [
       "<div>                            <div id=\"a04077ac-000e-4df2-9272-af93e204a1a8\" class=\"plotly-graph-div\" style=\"height:525px; width:100%;\"></div>            <script type=\"text/javascript\">                require([\"plotly\"], function(Plotly) {                    window.PLOTLYENV=window.PLOTLYENV || {};                                    if (document.getElementById(\"a04077ac-000e-4df2-9272-af93e204a1a8\")) {                    Plotly.newPlot(                        \"a04077ac-000e-4df2-9272-af93e204a1a8\",                        [{\"mode\":\"markers\",\"name\":\"Objective Value\",\"x\":[0,1,2,3,4,5,6,7,8,9,10,11,12,13,14,15,16,17,18,19,20,21,22,23,24,25,26,27,28,29,30,31,32,33,34,35,36,37,38,39,40,41,42,43,44,45,46,47,48,49],\"y\":[12704.593735413384,8114.854710316887,16319.886548615947,11124.399530434259,10834.613926650092,11659.561277038141,9065.015225844796,12715.953636528158,8626.210937021811,9599.346874258876,9909.082644700604,7689.029657881683,7698.567258027631,9091.73778308275,8791.312989957243,8337.651788928457,10150.65726568364,9529.025131375245,10162.431540483562,7690.835160279913,9350.367858940248,7688.431856078183,7690.561538913862,8624.644013926243,9456.448719000802,7698.933612358755,8631.873118760546,7692.404890896815,10152.14918363191,10123.699487102445,9700.812177522903,7692.404890896815,8105.57179788186,7698.617210591627,8336.71541066823,8112.64696001656,11666.597022913325,7691.492446426916,8622.347454339922,16331.667452858495,10944.978732998905,7691.063343079576,7698.558794501435,8118.235559148767,8332.134013159512,8105.042567744702,8337.417572975506,7698.565960065403,9357.110547808134,7698.136238119468],\"type\":\"scatter\"},{\"mode\":\"lines\",\"name\":\"Best Value\",\"x\":[0,1,2,3,4,5,6,7,8,9,10,11,12,13,14,15,16,17,18,19,20,21,22,23,24,25,26,27,28,29,30,31,32,33,34,35,36,37,38,39,40,41,42,43,44,45,46,47,48,49],\"y\":[12704.593735413384,8114.854710316887,8114.854710316887,8114.854710316887,8114.854710316887,8114.854710316887,8114.854710316887,8114.854710316887,8114.854710316887,8114.854710316887,8114.854710316887,7689.029657881683,7689.029657881683,7689.029657881683,7689.029657881683,7689.029657881683,7689.029657881683,7689.029657881683,7689.029657881683,7689.029657881683,7689.029657881683,7688.431856078183,7688.431856078183,7688.431856078183,7688.431856078183,7688.431856078183,7688.431856078183,7688.431856078183,7688.431856078183,7688.431856078183,7688.431856078183,7688.431856078183,7688.431856078183,7688.431856078183,7688.431856078183,7688.431856078183,7688.431856078183,7688.431856078183,7688.431856078183,7688.431856078183,7688.431856078183,7688.431856078183,7688.431856078183,7688.431856078183,7688.431856078183,7688.431856078183,7688.431856078183,7688.431856078183,7688.431856078183,7688.431856078183],\"type\":\"scatter\"},{\"marker\":{\"color\":\"#cccccc\"},\"mode\":\"markers\",\"name\":\"Infeasible Trial\",\"showlegend\":false,\"x\":[],\"y\":[],\"type\":\"scatter\"}],                        {\"title\":{\"text\":\"Optimization History Plot\"},\"xaxis\":{\"title\":{\"text\":\"Trial\"}},\"yaxis\":{\"title\":{\"text\":\"Objective Value\"}},\"template\":{\"data\":{\"histogram2dcontour\":[{\"type\":\"histogram2dcontour\",\"colorbar\":{\"outlinewidth\":0,\"ticks\":\"\"},\"colorscale\":[[0.0,\"#0d0887\"],[0.1111111111111111,\"#46039f\"],[0.2222222222222222,\"#7201a8\"],[0.3333333333333333,\"#9c179e\"],[0.4444444444444444,\"#bd3786\"],[0.5555555555555556,\"#d8576b\"],[0.6666666666666666,\"#ed7953\"],[0.7777777777777778,\"#fb9f3a\"],[0.8888888888888888,\"#fdca26\"],[1.0,\"#f0f921\"]]}],\"choropleth\":[{\"type\":\"choropleth\",\"colorbar\":{\"outlinewidth\":0,\"ticks\":\"\"}}],\"histogram2d\":[{\"type\":\"histogram2d\",\"colorbar\":{\"outlinewidth\":0,\"ticks\":\"\"},\"colorscale\":[[0.0,\"#0d0887\"],[0.1111111111111111,\"#46039f\"],[0.2222222222222222,\"#7201a8\"],[0.3333333333333333,\"#9c179e\"],[0.4444444444444444,\"#bd3786\"],[0.5555555555555556,\"#d8576b\"],[0.6666666666666666,\"#ed7953\"],[0.7777777777777778,\"#fb9f3a\"],[0.8888888888888888,\"#fdca26\"],[1.0,\"#f0f921\"]]}],\"heatmap\":[{\"type\":\"heatmap\",\"colorbar\":{\"outlinewidth\":0,\"ticks\":\"\"},\"colorscale\":[[0.0,\"#0d0887\"],[0.1111111111111111,\"#46039f\"],[0.2222222222222222,\"#7201a8\"],[0.3333333333333333,\"#9c179e\"],[0.4444444444444444,\"#bd3786\"],[0.5555555555555556,\"#d8576b\"],[0.6666666666666666,\"#ed7953\"],[0.7777777777777778,\"#fb9f3a\"],[0.8888888888888888,\"#fdca26\"],[1.0,\"#f0f921\"]]}],\"heatmapgl\":[{\"type\":\"heatmapgl\",\"colorbar\":{\"outlinewidth\":0,\"ticks\":\"\"},\"colorscale\":[[0.0,\"#0d0887\"],[0.1111111111111111,\"#46039f\"],[0.2222222222222222,\"#7201a8\"],[0.3333333333333333,\"#9c179e\"],[0.4444444444444444,\"#bd3786\"],[0.5555555555555556,\"#d8576b\"],[0.6666666666666666,\"#ed7953\"],[0.7777777777777778,\"#fb9f3a\"],[0.8888888888888888,\"#fdca26\"],[1.0,\"#f0f921\"]]}],\"contourcarpet\":[{\"type\":\"contourcarpet\",\"colorbar\":{\"outlinewidth\":0,\"ticks\":\"\"}}],\"contour\":[{\"type\":\"contour\",\"colorbar\":{\"outlinewidth\":0,\"ticks\":\"\"},\"colorscale\":[[0.0,\"#0d0887\"],[0.1111111111111111,\"#46039f\"],[0.2222222222222222,\"#7201a8\"],[0.3333333333333333,\"#9c179e\"],[0.4444444444444444,\"#bd3786\"],[0.5555555555555556,\"#d8576b\"],[0.6666666666666666,\"#ed7953\"],[0.7777777777777778,\"#fb9f3a\"],[0.8888888888888888,\"#fdca26\"],[1.0,\"#f0f921\"]]}],\"surface\":[{\"type\":\"surface\",\"colorbar\":{\"outlinewidth\":0,\"ticks\":\"\"},\"colorscale\":[[0.0,\"#0d0887\"],[0.1111111111111111,\"#46039f\"],[0.2222222222222222,\"#7201a8\"],[0.3333333333333333,\"#9c179e\"],[0.4444444444444444,\"#bd3786\"],[0.5555555555555556,\"#d8576b\"],[0.6666666666666666,\"#ed7953\"],[0.7777777777777778,\"#fb9f3a\"],[0.8888888888888888,\"#fdca26\"],[1.0,\"#f0f921\"]]}],\"mesh3d\":[{\"type\":\"mesh3d\",\"colorbar\":{\"outlinewidth\":0,\"ticks\":\"\"}}],\"scatter\":[{\"fillpattern\":{\"fillmode\":\"overlay\",\"size\":10,\"solidity\":0.2},\"type\":\"scatter\"}],\"parcoords\":[{\"type\":\"parcoords\",\"line\":{\"colorbar\":{\"outlinewidth\":0,\"ticks\":\"\"}}}],\"scatterpolargl\":[{\"type\":\"scatterpolargl\",\"marker\":{\"colorbar\":{\"outlinewidth\":0,\"ticks\":\"\"}}}],\"bar\":[{\"error_x\":{\"color\":\"#2a3f5f\"},\"error_y\":{\"color\":\"#2a3f5f\"},\"marker\":{\"line\":{\"color\":\"#E5ECF6\",\"width\":0.5},\"pattern\":{\"fillmode\":\"overlay\",\"size\":10,\"solidity\":0.2}},\"type\":\"bar\"}],\"scattergeo\":[{\"type\":\"scattergeo\",\"marker\":{\"colorbar\":{\"outlinewidth\":0,\"ticks\":\"\"}}}],\"scatterpolar\":[{\"type\":\"scatterpolar\",\"marker\":{\"colorbar\":{\"outlinewidth\":0,\"ticks\":\"\"}}}],\"histogram\":[{\"marker\":{\"pattern\":{\"fillmode\":\"overlay\",\"size\":10,\"solidity\":0.2}},\"type\":\"histogram\"}],\"scattergl\":[{\"type\":\"scattergl\",\"marker\":{\"colorbar\":{\"outlinewidth\":0,\"ticks\":\"\"}}}],\"scatter3d\":[{\"type\":\"scatter3d\",\"line\":{\"colorbar\":{\"outlinewidth\":0,\"ticks\":\"\"}},\"marker\":{\"colorbar\":{\"outlinewidth\":0,\"ticks\":\"\"}}}],\"scattermapbox\":[{\"type\":\"scattermapbox\",\"marker\":{\"colorbar\":{\"outlinewidth\":0,\"ticks\":\"\"}}}],\"scatterternary\":[{\"type\":\"scatterternary\",\"marker\":{\"colorbar\":{\"outlinewidth\":0,\"ticks\":\"\"}}}],\"scattercarpet\":[{\"type\":\"scattercarpet\",\"marker\":{\"colorbar\":{\"outlinewidth\":0,\"ticks\":\"\"}}}],\"carpet\":[{\"aaxis\":{\"endlinecolor\":\"#2a3f5f\",\"gridcolor\":\"white\",\"linecolor\":\"white\",\"minorgridcolor\":\"white\",\"startlinecolor\":\"#2a3f5f\"},\"baxis\":{\"endlinecolor\":\"#2a3f5f\",\"gridcolor\":\"white\",\"linecolor\":\"white\",\"minorgridcolor\":\"white\",\"startlinecolor\":\"#2a3f5f\"},\"type\":\"carpet\"}],\"table\":[{\"cells\":{\"fill\":{\"color\":\"#EBF0F8\"},\"line\":{\"color\":\"white\"}},\"header\":{\"fill\":{\"color\":\"#C8D4E3\"},\"line\":{\"color\":\"white\"}},\"type\":\"table\"}],\"barpolar\":[{\"marker\":{\"line\":{\"color\":\"#E5ECF6\",\"width\":0.5},\"pattern\":{\"fillmode\":\"overlay\",\"size\":10,\"solidity\":0.2}},\"type\":\"barpolar\"}],\"pie\":[{\"automargin\":true,\"type\":\"pie\"}]},\"layout\":{\"autotypenumbers\":\"strict\",\"colorway\":[\"#636efa\",\"#EF553B\",\"#00cc96\",\"#ab63fa\",\"#FFA15A\",\"#19d3f3\",\"#FF6692\",\"#B6E880\",\"#FF97FF\",\"#FECB52\"],\"font\":{\"color\":\"#2a3f5f\"},\"hovermode\":\"closest\",\"hoverlabel\":{\"align\":\"left\"},\"paper_bgcolor\":\"white\",\"plot_bgcolor\":\"#E5ECF6\",\"polar\":{\"bgcolor\":\"#E5ECF6\",\"angularaxis\":{\"gridcolor\":\"white\",\"linecolor\":\"white\",\"ticks\":\"\"},\"radialaxis\":{\"gridcolor\":\"white\",\"linecolor\":\"white\",\"ticks\":\"\"}},\"ternary\":{\"bgcolor\":\"#E5ECF6\",\"aaxis\":{\"gridcolor\":\"white\",\"linecolor\":\"white\",\"ticks\":\"\"},\"baxis\":{\"gridcolor\":\"white\",\"linecolor\":\"white\",\"ticks\":\"\"},\"caxis\":{\"gridcolor\":\"white\",\"linecolor\":\"white\",\"ticks\":\"\"}},\"coloraxis\":{\"colorbar\":{\"outlinewidth\":0,\"ticks\":\"\"}},\"colorscale\":{\"sequential\":[[0.0,\"#0d0887\"],[0.1111111111111111,\"#46039f\"],[0.2222222222222222,\"#7201a8\"],[0.3333333333333333,\"#9c179e\"],[0.4444444444444444,\"#bd3786\"],[0.5555555555555556,\"#d8576b\"],[0.6666666666666666,\"#ed7953\"],[0.7777777777777778,\"#fb9f3a\"],[0.8888888888888888,\"#fdca26\"],[1.0,\"#f0f921\"]],\"sequentialminus\":[[0.0,\"#0d0887\"],[0.1111111111111111,\"#46039f\"],[0.2222222222222222,\"#7201a8\"],[0.3333333333333333,\"#9c179e\"],[0.4444444444444444,\"#bd3786\"],[0.5555555555555556,\"#d8576b\"],[0.6666666666666666,\"#ed7953\"],[0.7777777777777778,\"#fb9f3a\"],[0.8888888888888888,\"#fdca26\"],[1.0,\"#f0f921\"]],\"diverging\":[[0,\"#8e0152\"],[0.1,\"#c51b7d\"],[0.2,\"#de77ae\"],[0.3,\"#f1b6da\"],[0.4,\"#fde0ef\"],[0.5,\"#f7f7f7\"],[0.6,\"#e6f5d0\"],[0.7,\"#b8e186\"],[0.8,\"#7fbc41\"],[0.9,\"#4d9221\"],[1,\"#276419\"]]},\"xaxis\":{\"gridcolor\":\"white\",\"linecolor\":\"white\",\"ticks\":\"\",\"title\":{\"standoff\":15},\"zerolinecolor\":\"white\",\"automargin\":true,\"zerolinewidth\":2},\"yaxis\":{\"gridcolor\":\"white\",\"linecolor\":\"white\",\"ticks\":\"\",\"title\":{\"standoff\":15},\"zerolinecolor\":\"white\",\"automargin\":true,\"zerolinewidth\":2},\"scene\":{\"xaxis\":{\"backgroundcolor\":\"#E5ECF6\",\"gridcolor\":\"white\",\"linecolor\":\"white\",\"showbackground\":true,\"ticks\":\"\",\"zerolinecolor\":\"white\",\"gridwidth\":2},\"yaxis\":{\"backgroundcolor\":\"#E5ECF6\",\"gridcolor\":\"white\",\"linecolor\":\"white\",\"showbackground\":true,\"ticks\":\"\",\"zerolinecolor\":\"white\",\"gridwidth\":2},\"zaxis\":{\"backgroundcolor\":\"#E5ECF6\",\"gridcolor\":\"white\",\"linecolor\":\"white\",\"showbackground\":true,\"ticks\":\"\",\"zerolinecolor\":\"white\",\"gridwidth\":2}},\"shapedefaults\":{\"line\":{\"color\":\"#2a3f5f\"}},\"annotationdefaults\":{\"arrowcolor\":\"#2a3f5f\",\"arrowhead\":0,\"arrowwidth\":1},\"geo\":{\"bgcolor\":\"white\",\"landcolor\":\"#E5ECF6\",\"subunitcolor\":\"white\",\"showland\":true,\"showlakes\":true,\"lakecolor\":\"white\"},\"title\":{\"x\":0.05},\"mapbox\":{\"style\":\"light\"}}}},                        {\"responsive\": true}                    ).then(function(){\n",
       "                            \n",
       "var gd = document.getElementById('a04077ac-000e-4df2-9272-af93e204a1a8');\n",
       "var x = new MutationObserver(function (mutations, observer) {{\n",
       "        var display = window.getComputedStyle(gd).display;\n",
       "        if (!display || display === 'none') {{\n",
       "            console.log([gd, 'removed!']);\n",
       "            Plotly.purge(gd);\n",
       "            observer.disconnect();\n",
       "        }}\n",
       "}});\n",
       "\n",
       "// Listen for the removal of the full notebook cells\n",
       "var notebookContainer = gd.closest('#notebook-container');\n",
       "if (notebookContainer) {{\n",
       "    x.observe(notebookContainer, {childList: true});\n",
       "}}\n",
       "\n",
       "// Listen for the clearing of the current output cell\n",
       "var outputEl = gd.closest('.output');\n",
       "if (outputEl) {{\n",
       "    x.observe(outputEl, {childList: true});\n",
       "}}\n",
       "\n",
       "                        })                };                });            </script>        </div>"
      ]
     },
     "metadata": {},
     "output_type": "display_data"
    }
   ],
   "source": [
    "optuna.visualization.plot_optimization_history(study_rf) # 최적화 과정 시각화"
   ]
  },
  {
   "cell_type": "code",
   "execution_count": 35,
   "id": "3d01ee51-2316-4576-a599-226d6fd7e87d",
   "metadata": {},
   "outputs": [
    {
     "name": "stdout",
     "output_type": "stream",
     "text": [
      "Best parameters {'n_estimators': 810, 'max_depth': 10, 'min_samples_split': 5, 'min_samples_leaf': 3}\n",
      "Best value 7688.431856078183\n"
     ]
    }
   ],
   "source": [
    "print('Best parameters', study_rf.best_params)\n",
    "print('Best value', study_rf.best_value)"
   ]
  },
  {
   "cell_type": "code",
   "execution_count": 36,
   "id": "fc68227f-4828-43f9-a8bf-a482d74c13d6",
   "metadata": {},
   "outputs": [
    {
     "name": "stdout",
     "output_type": "stream",
     "text": [
      "7688.431856078183\n"
     ]
    }
   ],
   "source": [
    "# 최적의 하이퍼파라미터로 모델 재학습\n",
    "rf = RandomForestRegressor(**study_rf.best_params,\n",
    "                   random_state = 42)\n",
    "rf.fit(train_x, train_y)\n",
    "\n",
    "# 예측\n",
    "pred_val_ls = rf.predict(val_x)\n",
    "\n",
    "mae = mean_absolute_error(val_y, pred_val_ls)\n",
    "print(mae)"
   ]
  },
  {
   "cell_type": "markdown",
   "id": "4c1f358e-c006-491d-a9e4-d27fc6574d5e",
   "metadata": {
    "tags": []
   },
   "source": [
    "# 제출 파일 생성"
   ]
  },
  {
   "cell_type": "code",
   "execution_count": 72,
   "id": "3f84b18a-af8b-417a-8f7c-7df51e3cd9ae",
   "metadata": {},
   "outputs": [],
   "source": [
    "train_x = data.loc[data['train_test'] == 'train' ,columns]\n",
    "train_y = data.loc[data['train_test'] == 'train','transaction_real_price' ]"
   ]
  },
  {
   "cell_type": "code",
   "execution_count": 73,
   "id": "f5bd9178-9b5f-484c-a32e-d7df6d9eaaca",
   "metadata": {},
   "outputs": [],
   "source": [
    "test_x = data.loc[data['train_test'] == 'test' ,columns]"
   ]
  },
  {
   "cell_type": "code",
   "execution_count": 74,
   "id": "66729851-2c30-405e-a7fe-36359218bdc6",
   "metadata": {
    "tags": []
   },
   "outputs": [],
   "source": [
    "model = RandomForestRegressor(**study_rf.best_params,\n",
    "                   random_state = 42)\n",
    "\n",
    "model.fit(train_x, train_y)\n",
    "pred = model.predict(test_x)"
   ]
  },
  {
   "cell_type": "code",
   "execution_count": 75,
   "id": "81f739b4-2f77-442e-aa4a-d40a6a4e2544",
   "metadata": {
    "tags": []
   },
   "outputs": [],
   "source": [
    "submission = pd.read_csv('../data/sample_submission.csv')"
   ]
  },
  {
   "cell_type": "code",
   "execution_count": 76,
   "id": "c73632a3-a8d5-4b80-a976-8ccb153b50f6",
   "metadata": {},
   "outputs": [],
   "source": [
    "submission['transaction_real_price'] = pred"
   ]
  },
  {
   "cell_type": "code",
   "execution_count": 77,
   "id": "4a1ffeb9-e7cf-4221-b44f-7f7dc6a93837",
   "metadata": {},
   "outputs": [
    {
     "data": {
      "text/html": [
       "<div>\n",
       "<style scoped>\n",
       "    .dataframe tbody tr th:only-of-type {\n",
       "        vertical-align: middle;\n",
       "    }\n",
       "\n",
       "    .dataframe tbody tr th {\n",
       "        vertical-align: top;\n",
       "    }\n",
       "\n",
       "    .dataframe thead th {\n",
       "        text-align: right;\n",
       "    }\n",
       "</style>\n",
       "<table border=\"1\" class=\"dataframe\">\n",
       "  <thead>\n",
       "    <tr style=\"text-align: right;\">\n",
       "      <th></th>\n",
       "      <th>id</th>\n",
       "      <th>transaction_real_price</th>\n",
       "    </tr>\n",
       "  </thead>\n",
       "  <tbody>\n",
       "    <tr>\n",
       "      <th>0</th>\n",
       "      <td>TEST_0000</td>\n",
       "      <td>188260.694633</td>\n",
       "    </tr>\n",
       "    <tr>\n",
       "      <th>1</th>\n",
       "      <td>TEST_0001</td>\n",
       "      <td>399925.204638</td>\n",
       "    </tr>\n",
       "    <tr>\n",
       "      <th>2</th>\n",
       "      <td>TEST_0002</td>\n",
       "      <td>185271.277330</td>\n",
       "    </tr>\n",
       "    <tr>\n",
       "      <th>3</th>\n",
       "      <td>TEST_0003</td>\n",
       "      <td>276300.387755</td>\n",
       "    </tr>\n",
       "    <tr>\n",
       "      <th>4</th>\n",
       "      <td>TEST_0004</td>\n",
       "      <td>184092.704436</td>\n",
       "    </tr>\n",
       "  </tbody>\n",
       "</table>\n",
       "</div>"
      ],
      "text/plain": [
       "          id  transaction_real_price\n",
       "0  TEST_0000           188260.694633\n",
       "1  TEST_0001           399925.204638\n",
       "2  TEST_0002           185271.277330\n",
       "3  TEST_0003           276300.387755\n",
       "4  TEST_0004           184092.704436"
      ]
     },
     "execution_count": 77,
     "metadata": {},
     "output_type": "execute_result"
    }
   ],
   "source": [
    "submission.head()"
   ]
  },
  {
   "cell_type": "code",
   "execution_count": 78,
   "id": "ceba5866-5926-4803-a71e-95e489d38907",
   "metadata": {},
   "outputs": [],
   "source": [
    "submission.to_csv('../result/submission_log.csv',index = False)"
   ]
  },
  {
   "cell_type": "markdown",
   "id": "dc81c569-8dd6-4c5c-a984-159c10ad4066",
   "metadata": {
    "tags": []
   },
   "source": [
    "### 시계열"
   ]
  },
  {
   "cell_type": "markdown",
   "id": "f12a6346-3aef-4ea8-8b7d-deae96d85222",
   "metadata": {},
   "source": [
    "#### RandomForest"
   ]
  },
  {
   "cell_type": "code",
   "execution_count": 79,
   "id": "4e416d12-a3c9-4a75-805a-8e5c51a860a8",
   "metadata": {
    "tags": []
   },
   "outputs": [],
   "source": [
    "validation_year = 2022\n",
    "\n",
    "lst= []\n",
    "for validation_year in [2016,2017,2018, 2019, 2020, 2021, 2022]:\n",
    "\n",
    "    train_x = data.loc[(data['train_test'] == 'train') & (data['transaction_year'] < validation_year), columns]\n",
    "    train_y = data.loc[(data['train_test'] == 'train') & (data['transaction_year'] < validation_year), 'transaction_real_price']\n",
    "    \n",
    "    val_x = data.loc[(data['train_test'] == 'train') & (data['transaction_year'] == validation_year), columns]\n",
    "    val_y = data.loc[(data['train_test'] == 'train') & (data['transaction_year'] == validation_year), 'transaction_real_price']\n",
    "    \n",
    "    #train_x = train_x[train_x.columns[indices[:8]]]\n",
    "    #val_x = val_x[val_x.columns[indices[:8]]]\n",
    "    \n",
    "    model_trial = RandomForestRegressor(**study_rf.best_params,random_state = 42)\n",
    "    \n",
    "    model_trial.fit(train_x, train_y)\n",
    "\n",
    "    # 예측\n",
    "    pred_val_ls = model_trial.predict(val_x)\n",
    "    mae = mean_absolute_error(val_y, pred_val_ls)\n",
    "\n",
    "\n",
    "    lst.append([validation_year, mae,np.mean(pred_val_ls)])"
   ]
  },
  {
   "cell_type": "code",
   "execution_count": 80,
   "id": "9bed8bc6-2aa2-4f38-b95b-1fe3a389f62a",
   "metadata": {},
   "outputs": [
    {
     "data": {
      "text/html": [
       "<div>\n",
       "<style scoped>\n",
       "    .dataframe tbody tr th:only-of-type {\n",
       "        vertical-align: middle;\n",
       "    }\n",
       "\n",
       "    .dataframe tbody tr th {\n",
       "        vertical-align: top;\n",
       "    }\n",
       "\n",
       "    .dataframe thead th {\n",
       "        text-align: right;\n",
       "    }\n",
       "</style>\n",
       "<table border=\"1\" class=\"dataframe\">\n",
       "  <thead>\n",
       "    <tr style=\"text-align: right;\">\n",
       "      <th></th>\n",
       "      <th>transaction_real_price</th>\n",
       "    </tr>\n",
       "    <tr>\n",
       "      <th>transaction_year</th>\n",
       "      <th></th>\n",
       "    </tr>\n",
       "  </thead>\n",
       "  <tbody>\n",
       "    <tr>\n",
       "      <th>2014</th>\n",
       "      <td>106185.711250</td>\n",
       "    </tr>\n",
       "    <tr>\n",
       "      <th>2015</th>\n",
       "      <td>110309.440252</td>\n",
       "    </tr>\n",
       "    <tr>\n",
       "      <th>2016</th>\n",
       "      <td>130000.371859</td>\n",
       "    </tr>\n",
       "    <tr>\n",
       "      <th>2017</th>\n",
       "      <td>151252.261374</td>\n",
       "    </tr>\n",
       "    <tr>\n",
       "      <th>2018</th>\n",
       "      <td>189034.729128</td>\n",
       "    </tr>\n",
       "    <tr>\n",
       "      <th>2019</th>\n",
       "      <td>215164.816901</td>\n",
       "    </tr>\n",
       "    <tr>\n",
       "      <th>2020</th>\n",
       "      <td>223746.014925</td>\n",
       "    </tr>\n",
       "    <tr>\n",
       "      <th>2021</th>\n",
       "      <td>235667.377432</td>\n",
       "    </tr>\n",
       "    <tr>\n",
       "      <th>2022</th>\n",
       "      <td>217700.000000</td>\n",
       "    </tr>\n",
       "    <tr>\n",
       "      <th>2023</th>\n",
       "      <td>NaN</td>\n",
       "    </tr>\n",
       "  </tbody>\n",
       "</table>\n",
       "</div>"
      ],
      "text/plain": [
       "                  transaction_real_price\n",
       "transaction_year                        \n",
       "2014                       106185.711250\n",
       "2015                       110309.440252\n",
       "2016                       130000.371859\n",
       "2017                       151252.261374\n",
       "2018                       189034.729128\n",
       "2019                       215164.816901\n",
       "2020                       223746.014925\n",
       "2021                       235667.377432\n",
       "2022                       217700.000000\n",
       "2023                                 NaN"
      ]
     },
     "execution_count": 80,
     "metadata": {},
     "output_type": "execute_result"
    }
   ],
   "source": [
    "df1 = data.groupby(['transaction_year'])['transaction_real_price'].mean().to_frame()\n",
    "df1"
   ]
  },
  {
   "cell_type": "code",
   "execution_count": 81,
   "id": "da18e752-bc0f-4a28-a313-6a61463972aa",
   "metadata": {},
   "outputs": [],
   "source": [
    "df1.reset_index(inplace = True)"
   ]
  },
  {
   "cell_type": "code",
   "execution_count": 82,
   "id": "25922fa3-948f-4997-ad3b-d91e1f801258",
   "metadata": {},
   "outputs": [],
   "source": [
    "df2 = pd.DataFrame(lst, columns = ['transaction_year','mae','transaction_predict_price'])"
   ]
  },
  {
   "cell_type": "code",
   "execution_count": 83,
   "id": "11bed9ef-b827-44bc-8d1c-fda2913a6dd6",
   "metadata": {},
   "outputs": [
    {
     "data": {
      "text/html": [
       "<div>\n",
       "<style scoped>\n",
       "    .dataframe tbody tr th:only-of-type {\n",
       "        vertical-align: middle;\n",
       "    }\n",
       "\n",
       "    .dataframe tbody tr th {\n",
       "        vertical-align: top;\n",
       "    }\n",
       "\n",
       "    .dataframe thead th {\n",
       "        text-align: right;\n",
       "    }\n",
       "</style>\n",
       "<table border=\"1\" class=\"dataframe\">\n",
       "  <thead>\n",
       "    <tr style=\"text-align: right;\">\n",
       "      <th></th>\n",
       "      <th>transaction_year</th>\n",
       "      <th>transaction_real_price</th>\n",
       "      <th>mae</th>\n",
       "      <th>transaction_predict_price</th>\n",
       "    </tr>\n",
       "  </thead>\n",
       "  <tbody>\n",
       "    <tr>\n",
       "      <th>0</th>\n",
       "      <td>2014</td>\n",
       "      <td>106185.711250</td>\n",
       "      <td>NaN</td>\n",
       "      <td>NaN</td>\n",
       "    </tr>\n",
       "    <tr>\n",
       "      <th>1</th>\n",
       "      <td>2015</td>\n",
       "      <td>110309.440252</td>\n",
       "      <td>NaN</td>\n",
       "      <td>NaN</td>\n",
       "    </tr>\n",
       "    <tr>\n",
       "      <th>2</th>\n",
       "      <td>2016</td>\n",
       "      <td>130000.371859</td>\n",
       "      <td>5979.893091</td>\n",
       "      <td>127627.382381</td>\n",
       "    </tr>\n",
       "    <tr>\n",
       "      <th>3</th>\n",
       "      <td>2017</td>\n",
       "      <td>151252.261374</td>\n",
       "      <td>8524.146734</td>\n",
       "      <td>146419.197129</td>\n",
       "    </tr>\n",
       "    <tr>\n",
       "      <th>4</th>\n",
       "      <td>2018</td>\n",
       "      <td>189034.729128</td>\n",
       "      <td>13935.109830</td>\n",
       "      <td>179710.999349</td>\n",
       "    </tr>\n",
       "    <tr>\n",
       "      <th>5</th>\n",
       "      <td>2019</td>\n",
       "      <td>215164.816901</td>\n",
       "      <td>14249.135869</td>\n",
       "      <td>207979.708601</td>\n",
       "    </tr>\n",
       "    <tr>\n",
       "      <th>6</th>\n",
       "      <td>2020</td>\n",
       "      <td>223746.014925</td>\n",
       "      <td>13960.052803</td>\n",
       "      <td>219297.820659</td>\n",
       "    </tr>\n",
       "    <tr>\n",
       "      <th>7</th>\n",
       "      <td>2021</td>\n",
       "      <td>235667.377432</td>\n",
       "      <td>17079.540454</td>\n",
       "      <td>223567.262529</td>\n",
       "    </tr>\n",
       "    <tr>\n",
       "      <th>8</th>\n",
       "      <td>2022</td>\n",
       "      <td>217700.000000</td>\n",
       "      <td>19301.982314</td>\n",
       "      <td>207020.087466</td>\n",
       "    </tr>\n",
       "    <tr>\n",
       "      <th>9</th>\n",
       "      <td>2023</td>\n",
       "      <td>NaN</td>\n",
       "      <td>NaN</td>\n",
       "      <td>NaN</td>\n",
       "    </tr>\n",
       "  </tbody>\n",
       "</table>\n",
       "</div>"
      ],
      "text/plain": [
       "   transaction_year  transaction_real_price           mae  \\\n",
       "0              2014           106185.711250           NaN   \n",
       "1              2015           110309.440252           NaN   \n",
       "2              2016           130000.371859   5979.893091   \n",
       "3              2017           151252.261374   8524.146734   \n",
       "4              2018           189034.729128  13935.109830   \n",
       "5              2019           215164.816901  14249.135869   \n",
       "6              2020           223746.014925  13960.052803   \n",
       "7              2021           235667.377432  17079.540454   \n",
       "8              2022           217700.000000  19301.982314   \n",
       "9              2023                     NaN           NaN   \n",
       "\n",
       "   transaction_predict_price  \n",
       "0                        NaN  \n",
       "1                        NaN  \n",
       "2              127627.382381  \n",
       "3              146419.197129  \n",
       "4              179710.999349  \n",
       "5              207979.708601  \n",
       "6              219297.820659  \n",
       "7              223567.262529  \n",
       "8              207020.087466  \n",
       "9                        NaN  "
      ]
     },
     "execution_count": 83,
     "metadata": {},
     "output_type": "execute_result"
    }
   ],
   "source": [
    "df3 = pd.merge(df1, df2, how = 'left', on = 'transaction_year')\n",
    "df3"
   ]
  },
  {
   "cell_type": "markdown",
   "id": "b387489f-8096-4561-a123-b7a1044e5863",
   "metadata": {},
   "source": [
    "- 과거 데이터에 대해 더 잘 예측하는 것으로 보임"
   ]
  },
  {
   "cell_type": "code",
   "execution_count": 103,
   "id": "fbf4cd11-7503-4921-b9a9-db8570c50574",
   "metadata": {},
   "outputs": [
    {
     "data": {
      "image/png": "[encoded data removed]",
      "text/plain": [
       "<Figure size 432x288 with 1 Axes>"
      ]
     },
     "metadata": {
      "needs_background": "light"
     },
     "output_type": "display_data"
    }
   ],
   "source": [
    "sns.lineplot( data = df3,  x = 'transaction_year', y = 'transaction_real_price', label = 'real_price')\n",
    "sns.lineplot( data = df3,  x = 'transaction_year', y = 'transaction_predict_price', label = 'predict_price')\n",
    "\n",
    "plt.title('년도별 실제/예측 가격 비교')\n",
    "plt.show()"
   ]
  },
  {
   "cell_type": "code",
   "execution_count": 106,
   "id": "ffc30d29-64cc-4bc5-befe-51b00743dd5b",
   "metadata": {},
   "outputs": [
    {
     "data": {
      "image/png": "[encoded data removed]",
      "text/plain": [
       "<Figure size 432x288 with 1 Axes>"
      ]
     },
     "metadata": {
      "needs_background": "light"
     },
     "output_type": "display_data"
    }
   ],
   "source": [
    "sns.lineplot( data = df3,  x = 'transaction_year', y = 'mae')\n",
    "plt.title('년도별 MAE 그래프')\n",
    "plt.show()"
   ]
  },
  {
   "cell_type": "code",
   "execution_count": null,
   "id": "b05f96f8-0842-4250-80e3-175406e4e3cf",
   "metadata": {},
   "outputs": [],
   "source": []
  }
 ],
 "metadata": {
  "kernelspec": {
   "display_name": "Python 3",
   "language": "python",
   "name": "python3"
  },
  "language_info": {
   "codemirror_mode": {
    "name": "ipython",
    "version": 3
   },
   "file_extension": ".py",
   "mimetype": "text/x-python",
   "name": "python",
   "nbconvert_exporter": "python",
   "pygments_lexer": "ipython3",
   "version": "3.8.5"
  }
 },
 "nbformat": 4,
 "nbformat_minor": 5
}
