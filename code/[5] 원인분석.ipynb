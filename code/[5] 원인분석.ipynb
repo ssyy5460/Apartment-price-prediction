{
 "cells": [
  {
   "cell_type": "code",
   "execution_count": 36,
   "id": "4666b0ea-1427-44d9-a2fa-f84462750b8d",
   "metadata": {},
   "outputs": [],
   "source": [
    "import pandas as pd\n",
    "import matplotlib.pyplot as plt\n",
    "import numpy as np\n",
    "import seaborn as sns\n",
    "\n",
    "pd.set_option('display.float_format', lambda x: '%.2f' % x)  # 소수점 아래 둘째 자리까지 표시\n",
    "import warnings\n",
    "warnings.filterwarnings(\"ignore\")\n",
    "plt.rcParams['font.family'] = 'Malgun Gothic'\n",
    "\n",
    "\n",
    "import statsmodels.api as sm # 통계\n",
    "from statsmodels.formula.api import ols # 통계 , 고수준 인터페이스 제공\n",
    "from sklearn.metrics import confusion_matrix, f1_score \n",
    "from sklearn.tree import DecisionTreeClassifier, export_graphviz # 의사결정나무\n",
    "\n",
    "\n",
    "from sklearn.model_selection import train_test_split \n",
    "from collections import Counter "
   ]
  },
  {
   "cell_type": "markdown",
   "id": "a33a47df-b540-4de0-a88e-f50488fcce6f",
   "metadata": {},
   "source": [
    "### 데이터 불러오기"
   ]
  },
  {
   "cell_type": "code",
   "execution_count": 2,
   "id": "8d6b737d-9ca7-43d9-be5f-82f62e1bfd66",
   "metadata": {},
   "outputs": [
    {
     "data": {
      "text/html": [
       "<div>\n",
       "<style scoped>\n",
       "    .dataframe tbody tr th:only-of-type {\n",
       "        vertical-align: middle;\n",
       "    }\n",
       "\n",
       "    .dataframe tbody tr th {\n",
       "        vertical-align: top;\n",
       "    }\n",
       "\n",
       "    .dataframe thead th {\n",
       "        text-align: right;\n",
       "    }\n",
       "</style>\n",
       "<table border=\"1\" class=\"dataframe\">\n",
       "  <thead>\n",
       "    <tr style=\"text-align: right;\">\n",
       "      <th></th>\n",
       "      <th>id</th>\n",
       "      <th>sigungu</th>\n",
       "      <th>jibun</th>\n",
       "      <th>apt_name</th>\n",
       "      <th>exclusive_use_area</th>\n",
       "      <th>transaction_year_month</th>\n",
       "      <th>transaction_day</th>\n",
       "      <th>transaction_real_price</th>\n",
       "      <th>floor</th>\n",
       "      <th>year_of_completion</th>\n",
       "      <th>...</th>\n",
       "      <th>transaction_cnt</th>\n",
       "      <th>age</th>\n",
       "      <th>year</th>\n",
       "      <th>cluster_0.0</th>\n",
       "      <th>cluster_1.0</th>\n",
       "      <th>cluster_2.0</th>\n",
       "      <th>cluster_3.0</th>\n",
       "      <th>cluster_4.0</th>\n",
       "      <th>use_area</th>\n",
       "      <th>transaction_year</th>\n",
       "    </tr>\n",
       "  </thead>\n",
       "  <tbody>\n",
       "    <tr>\n",
       "      <th>0</th>\n",
       "      <td>TRAIN_0320</td>\n",
       "      <td>서울특별시 강남구 대치동</td>\n",
       "      <td>670</td>\n",
       "      <td>동부센트레빌</td>\n",
       "      <td>1.55</td>\n",
       "      <td>201401</td>\n",
       "      <td>2</td>\n",
       "      <td>180000.00</td>\n",
       "      <td>1.08</td>\n",
       "      <td>2005</td>\n",
       "      <td>...</td>\n",
       "      <td>0.66</td>\n",
       "      <td>-1.21</td>\n",
       "      <td>2014</td>\n",
       "      <td>0</td>\n",
       "      <td>0</td>\n",
       "      <td>0</td>\n",
       "      <td>1</td>\n",
       "      <td>0</td>\n",
       "      <td>145.83</td>\n",
       "      <td>-1.39</td>\n",
       "    </tr>\n",
       "    <tr>\n",
       "      <th>1</th>\n",
       "      <td>TRAIN_0699</td>\n",
       "      <td>서울특별시 강남구 대치동</td>\n",
       "      <td>986-14</td>\n",
       "      <td>하이캐슬</td>\n",
       "      <td>-0.37</td>\n",
       "      <td>201401</td>\n",
       "      <td>2</td>\n",
       "      <td>68000.00</td>\n",
       "      <td>-0.54</td>\n",
       "      <td>2008</td>\n",
       "      <td>...</td>\n",
       "      <td>-1.36</td>\n",
       "      <td>-1.45</td>\n",
       "      <td>2014</td>\n",
       "      <td>0</td>\n",
       "      <td>1</td>\n",
       "      <td>0</td>\n",
       "      <td>0</td>\n",
       "      <td>0</td>\n",
       "      <td>84.06</td>\n",
       "      <td>-1.39</td>\n",
       "    </tr>\n",
       "    <tr>\n",
       "      <th>2</th>\n",
       "      <td>TRAIN_0705</td>\n",
       "      <td>서울특별시 강남구 대치동</td>\n",
       "      <td>511</td>\n",
       "      <td>한보미도맨션1</td>\n",
       "      <td>2.03</td>\n",
       "      <td>201401</td>\n",
       "      <td>4</td>\n",
       "      <td>155000.00</td>\n",
       "      <td>-0.54</td>\n",
       "      <td>1983</td>\n",
       "      <td>...</td>\n",
       "      <td>0.63</td>\n",
       "      <td>0.54</td>\n",
       "      <td>2014</td>\n",
       "      <td>0</td>\n",
       "      <td>0</td>\n",
       "      <td>0</td>\n",
       "      <td>1</td>\n",
       "      <td>0</td>\n",
       "      <td>161.36</td>\n",
       "      <td>-1.39</td>\n",
       "    </tr>\n",
       "    <tr>\n",
       "      <th>3</th>\n",
       "      <td>TRAIN_0660</td>\n",
       "      <td>서울특별시 강남구 대치동</td>\n",
       "      <td>891-6</td>\n",
       "      <td>테헤란로대우아이빌(891-6)</td>\n",
       "      <td>-1.96</td>\n",
       "      <td>201401</td>\n",
       "      <td>4</td>\n",
       "      <td>27000.00</td>\n",
       "      <td>1.40</td>\n",
       "      <td>2004</td>\n",
       "      <td>...</td>\n",
       "      <td>-0.38</td>\n",
       "      <td>-1.13</td>\n",
       "      <td>2014</td>\n",
       "      <td>1</td>\n",
       "      <td>0</td>\n",
       "      <td>0</td>\n",
       "      <td>0</td>\n",
       "      <td>0</td>\n",
       "      <td>33.11</td>\n",
       "      <td>-1.39</td>\n",
       "    </tr>\n",
       "    <tr>\n",
       "      <th>4</th>\n",
       "      <td>TRAIN_0102</td>\n",
       "      <td>서울특별시 강남구 대치동</td>\n",
       "      <td>891-28</td>\n",
       "      <td>대치동우정에쉐르1</td>\n",
       "      <td>-1.12</td>\n",
       "      <td>201401</td>\n",
       "      <td>4</td>\n",
       "      <td>37400.00</td>\n",
       "      <td>-0.30</td>\n",
       "      <td>2004</td>\n",
       "      <td>...</td>\n",
       "      <td>-0.64</td>\n",
       "      <td>-1.13</td>\n",
       "      <td>2014</td>\n",
       "      <td>1</td>\n",
       "      <td>0</td>\n",
       "      <td>0</td>\n",
       "      <td>0</td>\n",
       "      <td>0</td>\n",
       "      <td>59.98</td>\n",
       "      <td>-1.39</td>\n",
       "    </tr>\n",
       "  </tbody>\n",
       "</table>\n",
       "<p>5 rows × 29 columns</p>\n",
       "</div>"
      ],
      "text/plain": [
       "           id        sigungu   jibun          apt_name  exclusive_use_area  \\\n",
       "0  TRAIN_0320  서울특별시 강남구 대치동     670            동부센트레빌                1.55   \n",
       "1  TRAIN_0699  서울특별시 강남구 대치동  986-14              하이캐슬               -0.37   \n",
       "2  TRAIN_0705  서울특별시 강남구 대치동     511           한보미도맨션1                2.03   \n",
       "3  TRAIN_0660  서울특별시 강남구 대치동   891-6  테헤란로대우아이빌(891-6)               -1.96   \n",
       "4  TRAIN_0102  서울특별시 강남구 대치동  891-28         대치동우정에쉐르1               -1.12   \n",
       "\n",
       "   transaction_year_month  transaction_day  transaction_real_price  floor  \\\n",
       "0                  201401                2               180000.00   1.08   \n",
       "1                  201401                2                68000.00  -0.54   \n",
       "2                  201401                4               155000.00  -0.54   \n",
       "3                  201401                4                27000.00   1.40   \n",
       "4                  201401                4                37400.00  -0.30   \n",
       "\n",
       "   year_of_completion  ... transaction_cnt   age  year  cluster_0.0  \\\n",
       "0                2005  ...            0.66 -1.21  2014            0   \n",
       "1                2008  ...           -1.36 -1.45  2014            0   \n",
       "2                1983  ...            0.63  0.54  2014            0   \n",
       "3                2004  ...           -0.38 -1.13  2014            1   \n",
       "4                2004  ...           -0.64 -1.13  2014            1   \n",
       "\n",
       "   cluster_1.0  cluster_2.0  cluster_3.0  cluster_4.0  use_area  \\\n",
       "0            0            0            1            0    145.83   \n",
       "1            1            0            0            0     84.06   \n",
       "2            0            0            1            0    161.36   \n",
       "3            0            0            0            0     33.11   \n",
       "4            0            0            0            0     59.98   \n",
       "\n",
       "   transaction_year  \n",
       "0             -1.39  \n",
       "1             -1.39  \n",
       "2             -1.39  \n",
       "3             -1.39  \n",
       "4             -1.39  \n",
       "\n",
       "[5 rows x 29 columns]"
      ]
     },
     "execution_count": 2,
     "metadata": {},
     "output_type": "execute_result"
    }
   ],
   "source": [
    "data = pd.read_csv('../data/log_std_data.csv')\n",
    "data.head()"
   ]
  },
  {
   "cell_type": "code",
   "execution_count": 3,
   "id": "7176f28f-2bbb-4e93-a664-8e91e3d2a949",
   "metadata": {},
   "outputs": [
    {
     "name": "stdout",
     "output_type": "stream",
     "text": [
      "<class 'pandas.core.frame.DataFrame'>\n",
      "RangeIndex: 6089 entries, 0 to 6088\n",
      "Data columns (total 29 columns):\n",
      " #   Column                  Non-Null Count  Dtype  \n",
      "---  ------                  --------------  -----  \n",
      " 0   id                      6089 non-null   object \n",
      " 1   sigungu                 6089 non-null   object \n",
      " 2   jibun                   6089 non-null   object \n",
      " 3   apt_name                6089 non-null   object \n",
      " 4   exclusive_use_area      6089 non-null   float64\n",
      " 5   transaction_year_month  6089 non-null   int64  \n",
      " 6   transaction_day         6089 non-null   int64  \n",
      " 7   transaction_real_price  5893 non-null   float64\n",
      " 8   floor                   6089 non-null   float64\n",
      " 9   year_of_completion      6089 non-null   int64  \n",
      " 10  train_test              6089 non-null   object \n",
      " 11  transaction_date        6089 non-null   object \n",
      " 12  소비심리지수                  6089 non-null   float64\n",
      " 13  아파트 매매 실거래 가격 지수        6089 non-null   float64\n",
      " 14  기준금리                    6089 non-null   float64\n",
      " 15  GDP 성장률                 6089 non-null   float64\n",
      " 16  apartment_id            6089 non-null   int64  \n",
      " 17  recent_price            6089 non-null   float64\n",
      " 18  recent_jeonse           6089 non-null   float64\n",
      " 19  transaction_cnt         6089 non-null   float64\n",
      " 20  age                     6089 non-null   float64\n",
      " 21  year                    6089 non-null   int64  \n",
      " 22  cluster_0.0             6089 non-null   int64  \n",
      " 23  cluster_1.0             6089 non-null   int64  \n",
      " 24  cluster_2.0             6089 non-null   int64  \n",
      " 25  cluster_3.0             6089 non-null   int64  \n",
      " 26  cluster_4.0             6089 non-null   int64  \n",
      " 27  use_area                6089 non-null   float64\n",
      " 28  transaction_year        6089 non-null   float64\n",
      "dtypes: float64(13), int64(10), object(6)\n",
      "memory usage: 1.3+ MB\n"
     ]
    }
   ],
   "source": [
    "data.info()"
   ]
  },
  {
   "cell_type": "code",
   "execution_count": 4,
   "id": "31c4f2a7-229e-4f34-8bff-39b57536c592",
   "metadata": {},
   "outputs": [
    {
     "data": {
      "text/plain": [
       "Index(['id', 'sigungu', 'jibun', 'apt_name', 'exclusive_use_area',\n",
       "       'transaction_year_month', 'transaction_day', 'transaction_real_price',\n",
       "       'floor', 'year_of_completion', 'train_test', 'transaction_date',\n",
       "       '소비심리지수', '아파트 매매 실거래 가격 지수', '기준금리', 'GDP 성장률', 'apartment_id',\n",
       "       'recent_price', 'recent_jeonse', 'transaction_cnt', 'age', 'year',\n",
       "       'cluster_0.0', 'cluster_1.0', 'cluster_2.0', 'cluster_3.0',\n",
       "       'cluster_4.0', 'use_area', 'transaction_year'],\n",
       "      dtype='object')"
      ]
     },
     "execution_count": 4,
     "metadata": {},
     "output_type": "execute_result"
    }
   ],
   "source": [
    "data.columns"
   ]
  },
  {
   "cell_type": "code",
   "execution_count": 5,
   "id": "cc68f176-5df9-4b45-b7cc-ec95486aec48",
   "metadata": {},
   "outputs": [],
   "source": [
    "columns = [ 'exclusive_use_area','floor', 'year_of_completion','소비심리지수', '아파트 매매 실거래 가격 지수', \n",
    "           '기준금리', 'GDP 성장률', 'apartment_id','recent_price', 'recent_jeonse', 'age', \n",
    "           'transaction_cnt',  'cluster_0.0', 'cluster_1.0', 'cluster_2.0', 'cluster_3.0','cluster_4.0']"
   ]
  },
  {
   "cell_type": "markdown",
   "id": "de8ab657-b2d6-4429-a228-bba40a284c81",
   "metadata": {},
   "source": [
    "# 모델링"
   ]
  },
  {
   "cell_type": "code",
   "execution_count": 6,
   "id": "2e8af0a0-6cb3-492f-a2f8-239cd7ee8eac",
   "metadata": {},
   "outputs": [],
   "source": [
    "from sklearn.model_selection import train_test_split\n",
    "\n",
    "train_x, val_x, train_y, val_y = train_test_split(data.loc[(data['train_test'] == 'train'), columns], data.loc[(data['train_test'] == 'train'), \n",
    "                                                                                                               'transaction_real_price'], shuffle = False, random_state = 42)"
   ]
  },
  {
   "cell_type": "code",
   "execution_count": 7,
   "id": "7c7fa165-ec8e-4632-84d8-1e8b00014d56",
   "metadata": {},
   "outputs": [],
   "source": [
    "# Linear Regression 구축\n",
    "model = sm.OLS(train_y,train_x, random_state = 42)\n",
    "model_trained = model.fit(random_state = 42)"
   ]
  },
  {
   "cell_type": "code",
   "execution_count": 8,
   "id": "ce0b6c25-4f6d-4aeb-b8d6-f8d8aca239ed",
   "metadata": {},
   "outputs": [
    {
     "data": {
      "text/plain": [
       "exclusive_use_area      1.55\n",
       "floor                   1.08\n",
       "year_of_completion   2005.00\n",
       "소비심리지수                 -0.75\n",
       "아파트 매매 실거래 가격 지수       -1.45\n",
       "기준금리                    1.73\n",
       "GDP 성장률                 0.37\n",
       "apartment_id           20.00\n",
       "recent_price            0.34\n",
       "recent_jeonse           0.60\n",
       "age                    -1.21\n",
       "transaction_cnt         0.66\n",
       "cluster_0.0             0.00\n",
       "cluster_1.0             0.00\n",
       "cluster_2.0             0.00\n",
       "cluster_3.0             1.00\n",
       "cluster_4.0             0.00\n",
       "Name: 0, dtype: float64"
      ]
     },
     "execution_count": 8,
     "metadata": {},
     "output_type": "execute_result"
    }
   ],
   "source": [
    "train_x.iloc[0]"
   ]
  },
  {
   "cell_type": "code",
   "execution_count": 9,
   "id": "24ff5cda-c192-4556-823c-303a241cfb39",
   "metadata": {},
   "outputs": [
    {
     "name": "stdout",
     "output_type": "stream",
     "text": [
      "                              OLS Regression Results                              \n",
      "==================================================================================\n",
      "Dep. Variable:     transaction_real_price   R-squared:                       0.957\n",
      "Model:                                OLS   Adj. R-squared:                  0.957\n",
      "Method:                     Least Squares   F-statistic:                     6084.\n",
      "Date:                    Mon, 08 Apr 2024   Prob (F-statistic):               0.00\n",
      "Time:                            16:05:55   Log-Likelihood:                -47838.\n",
      "No. Observations:                    4419   AIC:                         9.571e+04\n",
      "Df Residuals:                        4402   BIC:                         9.582e+04\n",
      "Df Model:                              16                                         \n",
      "Covariance Type:                nonrobust                                         \n",
      "======================================================================================\n",
      "                         coef    std err          t      P>|t|      [0.025      0.975]\n",
      "--------------------------------------------------------------------------------------\n",
      "exclusive_use_area  1.098e+04    421.409     26.055      0.000    1.02e+04    1.18e+04\n",
      "floor               2789.5189    193.929     14.384      0.000    2409.320    3169.718\n",
      "year_of_completion  -702.7014    666.791     -1.054      0.292   -2009.947     604.544\n",
      "소비심리지수              1400.9526    274.343      5.107      0.000     863.102    1938.803\n",
      "아파트 매매 실거래 가격 지수    2.147e+04   1101.438     19.494      0.000    1.93e+04    2.36e+04\n",
      "기준금리                4605.1859    468.367      9.832      0.000    3686.950    5523.422\n",
      "GDP 성장률             -580.8741    335.619     -1.731      0.084   -1238.855      77.107\n",
      "apartment_id        -225.0071     12.233    -18.393      0.000    -248.990    -201.024\n",
      "recent_price        4.129e+04    799.523     51.649      0.000    3.97e+04    4.29e+04\n",
      "recent_jeonse       2895.2984    515.272      5.619      0.000    1885.107    3905.490\n",
      "age                -7969.6926   8349.226     -0.955      0.340   -2.43e+04    8398.990\n",
      "transaction_cnt     3613.1138    256.919     14.063      0.000    3109.423    4116.805\n",
      "cluster_0.0         1.541e+06   1.33e+06      1.160      0.246   -1.06e+06    4.15e+06\n",
      "cluster_1.0         1.545e+06   1.33e+06      1.163      0.245   -1.06e+06    4.15e+06\n",
      "cluster_2.0         1.558e+06   1.33e+06      1.172      0.241   -1.05e+06    4.16e+06\n",
      "cluster_3.0         1.575e+06   1.33e+06      1.186      0.236   -1.03e+06    4.18e+06\n",
      "cluster_4.0         1.629e+06   1.33e+06      1.226      0.220   -9.75e+05    4.23e+06\n",
      "==============================================================================\n",
      "Omnibus:                     2449.062   Durbin-Watson:                   1.646\n",
      "Prob(Omnibus):                  0.000   Jarque-Bera (JB):           169367.129\n",
      "Skew:                          -1.826   Prob(JB):                         0.00\n",
      "Kurtosis:                      33.108   Cond. No.                     3.23e+07\n",
      "==============================================================================\n",
      "\n",
      "Notes:\n",
      "[1] Standard Errors assume that the covariance matrix of the errors is correctly specified.\n",
      "[2] The condition number is large, 3.23e+07. This might indicate that there are\n",
      "strong multicollinearity or other numerical problems.\n"
     ]
    }
   ],
   "source": [
    "print(model_trained.summary())"
   ]
  },
  {
   "cell_type": "code",
   "execution_count": 10,
   "id": "4d678d44-233e-4b61-8f4d-501bcb677fc6",
   "metadata": {},
   "outputs": [
    {
     "data": {
      "text/html": [
       "<div>\n",
       "<style scoped>\n",
       "    .dataframe tbody tr th:only-of-type {\n",
       "        vertical-align: middle;\n",
       "    }\n",
       "\n",
       "    .dataframe tbody tr th {\n",
       "        vertical-align: top;\n",
       "    }\n",
       "\n",
       "    .dataframe thead th {\n",
       "        text-align: right;\n",
       "    }\n",
       "</style>\n",
       "<table border=\"1\" class=\"dataframe\">\n",
       "  <thead>\n",
       "    <tr style=\"text-align: right;\">\n",
       "      <th></th>\n",
       "      <th>exclusive_use_area</th>\n",
       "      <th>floor</th>\n",
       "      <th>year_of_completion</th>\n",
       "      <th>소비심리지수</th>\n",
       "      <th>아파트 매매 실거래 가격 지수</th>\n",
       "      <th>기준금리</th>\n",
       "      <th>GDP 성장률</th>\n",
       "      <th>apartment_id</th>\n",
       "      <th>recent_price</th>\n",
       "      <th>recent_jeonse</th>\n",
       "      <th>age</th>\n",
       "      <th>transaction_cnt</th>\n",
       "      <th>cluster_0.0</th>\n",
       "      <th>cluster_1.0</th>\n",
       "      <th>cluster_2.0</th>\n",
       "      <th>cluster_3.0</th>\n",
       "      <th>cluster_4.0</th>\n",
       "    </tr>\n",
       "  </thead>\n",
       "  <tbody>\n",
       "    <tr>\n",
       "      <th>exclusive_use_area</th>\n",
       "      <td>1.00</td>\n",
       "      <td>0.01</td>\n",
       "      <td>0.08</td>\n",
       "      <td>-0.03</td>\n",
       "      <td>0.05</td>\n",
       "      <td>-0.01</td>\n",
       "      <td>-0.01</td>\n",
       "      <td>-0.01</td>\n",
       "      <td>0.75</td>\n",
       "      <td>0.77</td>\n",
       "      <td>-0.07</td>\n",
       "      <td>-0.15</td>\n",
       "      <td>-0.43</td>\n",
       "      <td>-0.12</td>\n",
       "      <td>-0.16</td>\n",
       "      <td>0.49</td>\n",
       "      <td>0.11</td>\n",
       "    </tr>\n",
       "    <tr>\n",
       "      <th>floor</th>\n",
       "      <td>0.01</td>\n",
       "      <td>1.00</td>\n",
       "      <td>0.24</td>\n",
       "      <td>-0.01</td>\n",
       "      <td>-0.02</td>\n",
       "      <td>-0.01</td>\n",
       "      <td>0.00</td>\n",
       "      <td>-0.16</td>\n",
       "      <td>0.09</td>\n",
       "      <td>0.10</td>\n",
       "      <td>-0.24</td>\n",
       "      <td>0.05</td>\n",
       "      <td>0.08</td>\n",
       "      <td>-0.08</td>\n",
       "      <td>-0.05</td>\n",
       "      <td>0.08</td>\n",
       "      <td>0.01</td>\n",
       "    </tr>\n",
       "    <tr>\n",
       "      <th>year_of_completion</th>\n",
       "      <td>0.08</td>\n",
       "      <td>0.24</td>\n",
       "      <td>1.00</td>\n",
       "      <td>-0.00</td>\n",
       "      <td>0.03</td>\n",
       "      <td>-0.02</td>\n",
       "      <td>-0.00</td>\n",
       "      <td>-0.49</td>\n",
       "      <td>0.02</td>\n",
       "      <td>0.27</td>\n",
       "      <td>-0.99</td>\n",
       "      <td>-0.42</td>\n",
       "      <td>0.25</td>\n",
       "      <td>0.32</td>\n",
       "      <td>-0.43</td>\n",
       "      <td>0.03</td>\n",
       "      <td>0.06</td>\n",
       "    </tr>\n",
       "    <tr>\n",
       "      <th>소비심리지수</th>\n",
       "      <td>-0.03</td>\n",
       "      <td>-0.01</td>\n",
       "      <td>-0.00</td>\n",
       "      <td>1.00</td>\n",
       "      <td>-0.38</td>\n",
       "      <td>0.03</td>\n",
       "      <td>0.01</td>\n",
       "      <td>-0.01</td>\n",
       "      <td>-0.19</td>\n",
       "      <td>-0.06</td>\n",
       "      <td>-0.04</td>\n",
       "      <td>0.15</td>\n",
       "      <td>-0.01</td>\n",
       "      <td>0.06</td>\n",
       "      <td>0.01</td>\n",
       "      <td>-0.06</td>\n",
       "      <td>-0.01</td>\n",
       "    </tr>\n",
       "    <tr>\n",
       "      <th>아파트 매매 실거래 가격 지수</th>\n",
       "      <td>0.05</td>\n",
       "      <td>-0.02</td>\n",
       "      <td>0.03</td>\n",
       "      <td>-0.38</td>\n",
       "      <td>1.00</td>\n",
       "      <td>-0.68</td>\n",
       "      <td>-0.05</td>\n",
       "      <td>0.05</td>\n",
       "      <td>0.44</td>\n",
       "      <td>0.22</td>\n",
       "      <td>0.07</td>\n",
       "      <td>-0.02</td>\n",
       "      <td>-0.02</td>\n",
       "      <td>-0.08</td>\n",
       "      <td>0.03</td>\n",
       "      <td>0.05</td>\n",
       "      <td>-0.01</td>\n",
       "    </tr>\n",
       "    <tr>\n",
       "      <th>기준금리</th>\n",
       "      <td>-0.01</td>\n",
       "      <td>-0.01</td>\n",
       "      <td>-0.02</td>\n",
       "      <td>0.03</td>\n",
       "      <td>-0.68</td>\n",
       "      <td>1.00</td>\n",
       "      <td>-0.05</td>\n",
       "      <td>-0.03</td>\n",
       "      <td>-0.25</td>\n",
       "      <td>-0.19</td>\n",
       "      <td>-0.06</td>\n",
       "      <td>-0.09</td>\n",
       "      <td>0.04</td>\n",
       "      <td>0.05</td>\n",
       "      <td>-0.03</td>\n",
       "      <td>-0.03</td>\n",
       "      <td>0.00</td>\n",
       "    </tr>\n",
       "    <tr>\n",
       "      <th>GDP 성장률</th>\n",
       "      <td>-0.01</td>\n",
       "      <td>0.00</td>\n",
       "      <td>-0.00</td>\n",
       "      <td>0.01</td>\n",
       "      <td>-0.05</td>\n",
       "      <td>-0.05</td>\n",
       "      <td>1.00</td>\n",
       "      <td>-0.03</td>\n",
       "      <td>-0.03</td>\n",
       "      <td>-0.01</td>\n",
       "      <td>-0.01</td>\n",
       "      <td>0.02</td>\n",
       "      <td>-0.02</td>\n",
       "      <td>0.03</td>\n",
       "      <td>0.01</td>\n",
       "      <td>-0.03</td>\n",
       "      <td>-0.01</td>\n",
       "    </tr>\n",
       "    <tr>\n",
       "      <th>apartment_id</th>\n",
       "      <td>-0.01</td>\n",
       "      <td>-0.16</td>\n",
       "      <td>-0.49</td>\n",
       "      <td>-0.01</td>\n",
       "      <td>0.05</td>\n",
       "      <td>-0.03</td>\n",
       "      <td>-0.03</td>\n",
       "      <td>1.00</td>\n",
       "      <td>-0.06</td>\n",
       "      <td>-0.25</td>\n",
       "      <td>0.49</td>\n",
       "      <td>0.18</td>\n",
       "      <td>-0.07</td>\n",
       "      <td>-0.23</td>\n",
       "      <td>0.25</td>\n",
       "      <td>-0.03</td>\n",
       "      <td>-0.00</td>\n",
       "    </tr>\n",
       "    <tr>\n",
       "      <th>recent_price</th>\n",
       "      <td>0.75</td>\n",
       "      <td>0.09</td>\n",
       "      <td>0.02</td>\n",
       "      <td>-0.19</td>\n",
       "      <td>0.44</td>\n",
       "      <td>-0.25</td>\n",
       "      <td>-0.03</td>\n",
       "      <td>-0.06</td>\n",
       "      <td>1.00</td>\n",
       "      <td>0.79</td>\n",
       "      <td>0.02</td>\n",
       "      <td>0.07</td>\n",
       "      <td>-0.45</td>\n",
       "      <td>-0.33</td>\n",
       "      <td>-0.11</td>\n",
       "      <td>0.63</td>\n",
       "      <td>0.15</td>\n",
       "    </tr>\n",
       "    <tr>\n",
       "      <th>recent_jeonse</th>\n",
       "      <td>0.77</td>\n",
       "      <td>0.10</td>\n",
       "      <td>0.27</td>\n",
       "      <td>-0.06</td>\n",
       "      <td>0.22</td>\n",
       "      <td>-0.19</td>\n",
       "      <td>-0.01</td>\n",
       "      <td>-0.25</td>\n",
       "      <td>0.79</td>\n",
       "      <td>1.00</td>\n",
       "      <td>-0.24</td>\n",
       "      <td>-0.06</td>\n",
       "      <td>-0.57</td>\n",
       "      <td>-0.02</td>\n",
       "      <td>-0.21</td>\n",
       "      <td>0.53</td>\n",
       "      <td>0.08</td>\n",
       "    </tr>\n",
       "    <tr>\n",
       "      <th>age</th>\n",
       "      <td>-0.07</td>\n",
       "      <td>-0.24</td>\n",
       "      <td>-0.99</td>\n",
       "      <td>-0.04</td>\n",
       "      <td>0.07</td>\n",
       "      <td>-0.06</td>\n",
       "      <td>-0.01</td>\n",
       "      <td>0.49</td>\n",
       "      <td>0.02</td>\n",
       "      <td>-0.24</td>\n",
       "      <td>1.00</td>\n",
       "      <td>0.42</td>\n",
       "      <td>-0.25</td>\n",
       "      <td>-0.33</td>\n",
       "      <td>0.43</td>\n",
       "      <td>-0.03</td>\n",
       "      <td>-0.06</td>\n",
       "    </tr>\n",
       "    <tr>\n",
       "      <th>transaction_cnt</th>\n",
       "      <td>-0.15</td>\n",
       "      <td>0.05</td>\n",
       "      <td>-0.42</td>\n",
       "      <td>0.15</td>\n",
       "      <td>-0.02</td>\n",
       "      <td>-0.09</td>\n",
       "      <td>0.02</td>\n",
       "      <td>0.18</td>\n",
       "      <td>0.07</td>\n",
       "      <td>-0.06</td>\n",
       "      <td>0.42</td>\n",
       "      <td>1.00</td>\n",
       "      <td>-0.32</td>\n",
       "      <td>-0.28</td>\n",
       "      <td>0.46</td>\n",
       "      <td>-0.06</td>\n",
       "      <td>-0.08</td>\n",
       "    </tr>\n",
       "    <tr>\n",
       "      <th>cluster_0.0</th>\n",
       "      <td>-0.43</td>\n",
       "      <td>0.08</td>\n",
       "      <td>0.25</td>\n",
       "      <td>-0.01</td>\n",
       "      <td>-0.02</td>\n",
       "      <td>0.04</td>\n",
       "      <td>-0.02</td>\n",
       "      <td>-0.07</td>\n",
       "      <td>-0.45</td>\n",
       "      <td>-0.57</td>\n",
       "      <td>-0.25</td>\n",
       "      <td>-0.32</td>\n",
       "      <td>1.00</td>\n",
       "      <td>-0.13</td>\n",
       "      <td>-0.22</td>\n",
       "      <td>-0.18</td>\n",
       "      <td>-0.01</td>\n",
       "    </tr>\n",
       "    <tr>\n",
       "      <th>cluster_1.0</th>\n",
       "      <td>-0.12</td>\n",
       "      <td>-0.08</td>\n",
       "      <td>0.32</td>\n",
       "      <td>0.06</td>\n",
       "      <td>-0.08</td>\n",
       "      <td>0.05</td>\n",
       "      <td>0.03</td>\n",
       "      <td>-0.23</td>\n",
       "      <td>-0.33</td>\n",
       "      <td>-0.02</td>\n",
       "      <td>-0.33</td>\n",
       "      <td>-0.28</td>\n",
       "      <td>-0.13</td>\n",
       "      <td>1.00</td>\n",
       "      <td>-0.42</td>\n",
       "      <td>-0.35</td>\n",
       "      <td>-0.02</td>\n",
       "    </tr>\n",
       "    <tr>\n",
       "      <th>cluster_2.0</th>\n",
       "      <td>-0.16</td>\n",
       "      <td>-0.05</td>\n",
       "      <td>-0.43</td>\n",
       "      <td>0.01</td>\n",
       "      <td>0.03</td>\n",
       "      <td>-0.03</td>\n",
       "      <td>0.01</td>\n",
       "      <td>0.25</td>\n",
       "      <td>-0.11</td>\n",
       "      <td>-0.21</td>\n",
       "      <td>0.43</td>\n",
       "      <td>0.46</td>\n",
       "      <td>-0.22</td>\n",
       "      <td>-0.42</td>\n",
       "      <td>1.00</td>\n",
       "      <td>-0.57</td>\n",
       "      <td>-0.04</td>\n",
       "    </tr>\n",
       "    <tr>\n",
       "      <th>cluster_3.0</th>\n",
       "      <td>0.49</td>\n",
       "      <td>0.08</td>\n",
       "      <td>0.03</td>\n",
       "      <td>-0.06</td>\n",
       "      <td>0.05</td>\n",
       "      <td>-0.03</td>\n",
       "      <td>-0.03</td>\n",
       "      <td>-0.03</td>\n",
       "      <td>0.63</td>\n",
       "      <td>0.53</td>\n",
       "      <td>-0.03</td>\n",
       "      <td>-0.06</td>\n",
       "      <td>-0.18</td>\n",
       "      <td>-0.35</td>\n",
       "      <td>-0.57</td>\n",
       "      <td>1.00</td>\n",
       "      <td>-0.03</td>\n",
       "    </tr>\n",
       "    <tr>\n",
       "      <th>cluster_4.0</th>\n",
       "      <td>0.11</td>\n",
       "      <td>0.01</td>\n",
       "      <td>0.06</td>\n",
       "      <td>-0.01</td>\n",
       "      <td>-0.01</td>\n",
       "      <td>0.00</td>\n",
       "      <td>-0.01</td>\n",
       "      <td>-0.00</td>\n",
       "      <td>0.15</td>\n",
       "      <td>0.08</td>\n",
       "      <td>-0.06</td>\n",
       "      <td>-0.08</td>\n",
       "      <td>-0.01</td>\n",
       "      <td>-0.02</td>\n",
       "      <td>-0.04</td>\n",
       "      <td>-0.03</td>\n",
       "      <td>1.00</td>\n",
       "    </tr>\n",
       "  </tbody>\n",
       "</table>\n",
       "</div>"
      ],
      "text/plain": [
       "                    exclusive_use_area  floor  year_of_completion  소비심리지수  \\\n",
       "exclusive_use_area                1.00   0.01                0.08   -0.03   \n",
       "floor                             0.01   1.00                0.24   -0.01   \n",
       "year_of_completion                0.08   0.24                1.00   -0.00   \n",
       "소비심리지수                           -0.03  -0.01               -0.00    1.00   \n",
       "아파트 매매 실거래 가격 지수                  0.05  -0.02                0.03   -0.38   \n",
       "기준금리                             -0.01  -0.01               -0.02    0.03   \n",
       "GDP 성장률                          -0.01   0.00               -0.00    0.01   \n",
       "apartment_id                     -0.01  -0.16               -0.49   -0.01   \n",
       "recent_price                      0.75   0.09                0.02   -0.19   \n",
       "recent_jeonse                     0.77   0.10                0.27   -0.06   \n",
       "age                              -0.07  -0.24               -0.99   -0.04   \n",
       "transaction_cnt                  -0.15   0.05               -0.42    0.15   \n",
       "cluster_0.0                      -0.43   0.08                0.25   -0.01   \n",
       "cluster_1.0                      -0.12  -0.08                0.32    0.06   \n",
       "cluster_2.0                      -0.16  -0.05               -0.43    0.01   \n",
       "cluster_3.0                       0.49   0.08                0.03   -0.06   \n",
       "cluster_4.0                       0.11   0.01                0.06   -0.01   \n",
       "\n",
       "                    아파트 매매 실거래 가격 지수  기준금리  GDP 성장률  apartment_id  \\\n",
       "exclusive_use_area              0.05 -0.01    -0.01         -0.01   \n",
       "floor                          -0.02 -0.01     0.00         -0.16   \n",
       "year_of_completion              0.03 -0.02    -0.00         -0.49   \n",
       "소비심리지수                         -0.38  0.03     0.01         -0.01   \n",
       "아파트 매매 실거래 가격 지수                1.00 -0.68    -0.05          0.05   \n",
       "기준금리                           -0.68  1.00    -0.05         -0.03   \n",
       "GDP 성장률                        -0.05 -0.05     1.00         -0.03   \n",
       "apartment_id                    0.05 -0.03    -0.03          1.00   \n",
       "recent_price                    0.44 -0.25    -0.03         -0.06   \n",
       "recent_jeonse                   0.22 -0.19    -0.01         -0.25   \n",
       "age                             0.07 -0.06    -0.01          0.49   \n",
       "transaction_cnt                -0.02 -0.09     0.02          0.18   \n",
       "cluster_0.0                    -0.02  0.04    -0.02         -0.07   \n",
       "cluster_1.0                    -0.08  0.05     0.03         -0.23   \n",
       "cluster_2.0                     0.03 -0.03     0.01          0.25   \n",
       "cluster_3.0                     0.05 -0.03    -0.03         -0.03   \n",
       "cluster_4.0                    -0.01  0.00    -0.01         -0.00   \n",
       "\n",
       "                    recent_price  recent_jeonse   age  transaction_cnt  \\\n",
       "exclusive_use_area          0.75           0.77 -0.07            -0.15   \n",
       "floor                       0.09           0.10 -0.24             0.05   \n",
       "year_of_completion          0.02           0.27 -0.99            -0.42   \n",
       "소비심리지수                     -0.19          -0.06 -0.04             0.15   \n",
       "아파트 매매 실거래 가격 지수            0.44           0.22  0.07            -0.02   \n",
       "기준금리                       -0.25          -0.19 -0.06            -0.09   \n",
       "GDP 성장률                    -0.03          -0.01 -0.01             0.02   \n",
       "apartment_id               -0.06          -0.25  0.49             0.18   \n",
       "recent_price                1.00           0.79  0.02             0.07   \n",
       "recent_jeonse               0.79           1.00 -0.24            -0.06   \n",
       "age                         0.02          -0.24  1.00             0.42   \n",
       "transaction_cnt             0.07          -0.06  0.42             1.00   \n",
       "cluster_0.0                -0.45          -0.57 -0.25            -0.32   \n",
       "cluster_1.0                -0.33          -0.02 -0.33            -0.28   \n",
       "cluster_2.0                -0.11          -0.21  0.43             0.46   \n",
       "cluster_3.0                 0.63           0.53 -0.03            -0.06   \n",
       "cluster_4.0                 0.15           0.08 -0.06            -0.08   \n",
       "\n",
       "                    cluster_0.0  cluster_1.0  cluster_2.0  cluster_3.0  \\\n",
       "exclusive_use_area        -0.43        -0.12        -0.16         0.49   \n",
       "floor                      0.08        -0.08        -0.05         0.08   \n",
       "year_of_completion         0.25         0.32        -0.43         0.03   \n",
       "소비심리지수                    -0.01         0.06         0.01        -0.06   \n",
       "아파트 매매 실거래 가격 지수          -0.02        -0.08         0.03         0.05   \n",
       "기준금리                       0.04         0.05        -0.03        -0.03   \n",
       "GDP 성장률                   -0.02         0.03         0.01        -0.03   \n",
       "apartment_id              -0.07        -0.23         0.25        -0.03   \n",
       "recent_price              -0.45        -0.33        -0.11         0.63   \n",
       "recent_jeonse             -0.57        -0.02        -0.21         0.53   \n",
       "age                       -0.25        -0.33         0.43        -0.03   \n",
       "transaction_cnt           -0.32        -0.28         0.46        -0.06   \n",
       "cluster_0.0                1.00        -0.13        -0.22        -0.18   \n",
       "cluster_1.0               -0.13         1.00        -0.42        -0.35   \n",
       "cluster_2.0               -0.22        -0.42         1.00        -0.57   \n",
       "cluster_3.0               -0.18        -0.35        -0.57         1.00   \n",
       "cluster_4.0               -0.01        -0.02        -0.04        -0.03   \n",
       "\n",
       "                    cluster_4.0  \n",
       "exclusive_use_area         0.11  \n",
       "floor                      0.01  \n",
       "year_of_completion         0.06  \n",
       "소비심리지수                    -0.01  \n",
       "아파트 매매 실거래 가격 지수          -0.01  \n",
       "기준금리                       0.00  \n",
       "GDP 성장률                   -0.01  \n",
       "apartment_id              -0.00  \n",
       "recent_price               0.15  \n",
       "recent_jeonse              0.08  \n",
       "age                       -0.06  \n",
       "transaction_cnt           -0.08  \n",
       "cluster_0.0               -0.01  \n",
       "cluster_1.0               -0.02  \n",
       "cluster_2.0               -0.04  \n",
       "cluster_3.0               -0.03  \n",
       "cluster_4.0                1.00  "
      ]
     },
     "execution_count": 10,
     "metadata": {},
     "output_type": "execute_result"
    }
   ],
   "source": [
    "# 다중공선성 이슈 => 상관관계 확인\n",
    "train_x.corr() "
   ]
  },
  {
   "cell_type": "markdown",
   "id": "faf1add6-6593-4d68-957f-e94bd86a8692",
   "metadata": {},
   "source": [
    "- 완공년도 변수와 age 변수의 상관성이 매우 높아 완공년도 변수를 제외함"
   ]
  },
  {
   "cell_type": "code",
   "execution_count": 11,
   "id": "dd3c7b00-6961-47df-87fa-c6e2a4f7d985",
   "metadata": {},
   "outputs": [],
   "source": [
    "columns = [ 'exclusive_use_area','floor', 'age','소비심리지수', '아파트 매매 실거래 가격 지수', \n",
    "           '기준금리', 'GDP 성장률', 'recent_price', 'recent_jeonse',\n",
    "           'transaction_cnt', 'cluster_0.0', 'cluster_1.0', 'cluster_2.0', 'cluster_3.0','cluster_4.0']"
   ]
  },
  {
   "cell_type": "code",
   "execution_count": 12,
   "id": "85df4234-abc2-4657-b103-20e9ec69669a",
   "metadata": {},
   "outputs": [],
   "source": [
    "# data split\n",
    "train_x, val_x, train_y, val_y = train_test_split(data.loc[(data['train_test'] == 'train'), columns], data.loc[(data['train_test'] == 'train'), \n",
    "                                                                                                               'transaction_real_price'], shuffle = False, random_state = 42)"
   ]
  },
  {
   "cell_type": "code",
   "execution_count": 13,
   "id": "bd57fe29-05a6-4a5c-88da-148169b78f74",
   "metadata": {},
   "outputs": [],
   "source": [
    "# Linear Regression 구축\n",
    "model = sm.OLS(train_y,train_x, random_state = 42)\n",
    "model_trained = model.fit(random_state = 42)"
   ]
  },
  {
   "cell_type": "markdown",
   "id": "9bb518e0-a24f-4713-a9b8-6fd349ef556a",
   "metadata": {
    "tags": []
   },
   "source": [
    "# 회귀분석\n",
    "1. 모델 개요\n",
    "- 아파트의 실 거래가을 종속변수로 하여, 아파트의 특성 및 경제 지표가 실거래가에 미치는 영향을 파악하기 위해 선형 회귀 모델을 구축함\n",
    "- 4419개의 관측치 사용, 15개의 독립변수 포함\n",
    "\n",
    "2. 모델 요약\n",
    "- 결정계수(R-squared): 0.953\n",
    "- 조정 결정계수(Adj. R-squared): 0.953\n",
    "- F-통계량: 6568, Prob(F-statistic): 0.00\n",
    "- 모델의 결정계수와 수정된 결정계수 모두 매우 높은 편. 모델이 데이터의 변동성을 잘 표현하고 있다고 할 수 있지만, 과적합이 의심됨 \n",
    "- F-통계량의 p-value가 0.00으로 보아 모델은 통계적으로 유의미함\n",
    "\n",
    "3. 변수별 분석\n",
    "- 대부분의 변수들이 p-value < 0.05를 만족하여 통계적으로 유의미함을 확인함\n",
    "- 특히, 아파트 매매 실거래 가격 지수,최근 거래와 관련된 변수, 클러스터 등의 변수가 높은 계수를 보이며, 아파트 가격에 큰 영향을 미치고 있음\n",
    "- 반면, 건령(age)과 GDP 성장률은 통계적으로 유의미하지 않은 것으로 나타남."
   ]
  },
  {
   "cell_type": "code",
   "execution_count": 14,
   "id": "ccda51a5-e3a3-4868-a7af-3d87e95d073e",
   "metadata": {},
   "outputs": [
    {
     "name": "stdout",
     "output_type": "stream",
     "text": [
      "                              OLS Regression Results                              \n",
      "==================================================================================\n",
      "Dep. Variable:     transaction_real_price   R-squared:                       0.953\n",
      "Model:                                OLS   Adj. R-squared:                  0.953\n",
      "Method:                     Least Squares   F-statistic:                     6434.\n",
      "Date:                    Mon, 08 Apr 2024   Prob (F-statistic):               0.00\n",
      "Time:                            16:06:15   Log-Likelihood:                -48002.\n",
      "No. Observations:                    4419   AIC:                         9.603e+04\n",
      "Df Residuals:                        4404   BIC:                         9.613e+04\n",
      "Df Model:                              14                                         \n",
      "Covariance Type:                nonrobust                                         \n",
      "======================================================================================\n",
      "                         coef    std err          t      P>|t|      [0.025      0.975]\n",
      "--------------------------------------------------------------------------------------\n",
      "exclusive_use_area  8416.8567    412.254     20.417      0.000    7608.632    9225.081\n",
      "floor               2858.7837    201.201     14.209      0.000    2464.329    3253.238\n",
      "age                 -159.0537    293.180     -0.543      0.587    -733.834     415.726\n",
      "소비심리지수              1275.8321    271.627      4.697      0.000     743.306    1808.358\n",
      "아파트 매매 실거래 가격 지수    1.817e+04    569.667     31.889      0.000     1.7e+04    1.93e+04\n",
      "기준금리                4664.8525    400.696     11.642      0.000    3879.286    5450.419\n",
      "GDP 성장률             -295.7624    321.759     -0.919      0.358    -926.572     335.047\n",
      "recent_price         4.45e+04    809.841     54.955      0.000    4.29e+04    4.61e+04\n",
      "recent_jeonse       5425.3216    514.814     10.538      0.000    4416.027    6434.616\n",
      "transaction_cnt     3320.4661    265.944     12.486      0.000    2799.082    3841.851\n",
      "cluster_0.0         1.387e+05   1290.526    107.497      0.000    1.36e+05    1.41e+05\n",
      "cluster_1.0         1.398e+05    616.066    226.915      0.000    1.39e+05    1.41e+05\n",
      "cluster_2.0         1.504e+05    381.093    394.644      0.000     1.5e+05    1.51e+05\n",
      "cluster_3.0         1.661e+05    474.814    349.795      0.000    1.65e+05    1.67e+05\n",
      "cluster_4.0         2.134e+05   4749.641     44.937      0.000    2.04e+05    2.23e+05\n",
      "==============================================================================\n",
      "Omnibus:                     2763.404   Durbin-Watson:                   1.660\n",
      "Prob(Omnibus):                  0.000   Jarque-Bera (JB):           231219.656\n",
      "Skew:                          -2.158   Prob(JB):                         0.00\n",
      "Kurtosis:                      38.173   Cond. No.                         38.7\n",
      "==============================================================================\n",
      "\n",
      "Notes:\n",
      "[1] Standard Errors assume that the covariance matrix of the errors is correctly specified.\n"
     ]
    }
   ],
   "source": [
    "print(model_trained.summary())"
   ]
  },
  {
   "cell_type": "code",
   "execution_count": 70,
   "id": "bfe40411-63b8-4cfb-af85-8ca4c80ee278",
   "metadata": {
    "id": "IlLBCrSBfVEN"
   },
   "outputs": [],
   "source": [
    "from sklearn.metrics import mean_squared_error, r2_score, mean_absolute_error"
   ]
  },
  {
   "cell_type": "code",
   "execution_count": 71,
   "id": "b5f87424-de3b-4f57-a70c-374500b39985",
   "metadata": {
    "id": "mmwXAKvYfxwM"
   },
   "outputs": [
    {
     "data": {
      "text/plain": [
       "4419   156964.41\n",
       "4420   150116.57\n",
       "4421   260462.24\n",
       "4422   206664.76\n",
       "4423   202507.22\n",
       "dtype: float64"
      ]
     },
     "execution_count": 71,
     "metadata": {},
     "output_type": "execute_result"
    }
   ],
   "source": [
    "pred_y = model_trained.predict(val_x)\n",
    "pred_y[:5]"
   ]
  },
  {
   "cell_type": "code",
   "execution_count": 72,
   "id": "6816ed7e-3331-4b51-bdf5-6620c04b57e3",
   "metadata": {},
   "outputs": [
    {
     "data": {
      "text/plain": [
       "4419   140000.00\n",
       "4420   151200.00\n",
       "4421   256000.00\n",
       "4422   191000.00\n",
       "4423   191000.00\n",
       "Name: transaction_real_price, dtype: float64"
      ]
     },
     "execution_count": 72,
     "metadata": {},
     "output_type": "execute_result"
    }
   ],
   "source": [
    "val_y[:5]"
   ]
  },
  {
   "cell_type": "code",
   "execution_count": 73,
   "id": "5dcdd416-f92c-4750-9d8f-bc1c744cab52",
   "metadata": {
    "colab": {
     "base_uri": "https://localhost:8080/"
    },
    "executionInfo": {
     "elapsed": 2,
     "status": "ok",
     "timestamp": 1682428828154,
     "user": {
      "displayName": "안건이",
      "userId": "00323974519415085515"
     },
     "user_tz": -540
    },
    "id": "15JBOBT1fbDC",
    "outputId": "9c653640-a2b5-4d6f-bedb-ce60d51fffed"
   },
   "outputs": [
    {
     "name": "stdout",
     "output_type": "stream",
     "text": [
      "Training RMSE: 29397.007\n",
      "Training MAE: 21945.467\n",
      "Training R2: 0.902\n"
     ]
    }
   ],
   "source": [
    "print('Training RMSE: {:.3f}'.format(np.sqrt(mean_squared_error(val_y, pred_y))))\n",
    "print('Training MAE: {:.3f}'.format(mean_absolute_error(val_y, pred_y)))\n",
    "print('Training R2: {:.3f}'.format(r2_score(val_y, pred_y)))"
   ]
  },
  {
   "cell_type": "markdown",
   "id": "a9a5c9bb-6c32-485b-9010-682d888bbc0b",
   "metadata": {
    "tags": []
   },
   "source": [
    "### 상위 30% 와 하위 30% 아파트 실거래가 비교\n",
    "- 상위 30%와 하위 30%로 나눠 실거래가의 중요 변수를 알아보기"
   ]
  },
  {
   "cell_type": "code",
   "execution_count": 15,
   "id": "1fe5fac0-b9cf-4e54-a2e4-08e9157c7eb9",
   "metadata": {},
   "outputs": [],
   "source": [
    "train = data[data['train_test'] == 'train']"
   ]
  },
  {
   "cell_type": "code",
   "execution_count": 16,
   "id": "30789b16-3032-46ad-80c6-172f5758473b",
   "metadata": {},
   "outputs": [
    {
     "data": {
      "text/plain": [
       "(5893, 29)"
      ]
     },
     "execution_count": 16,
     "metadata": {},
     "output_type": "execute_result"
    }
   ],
   "source": [
    "train.shape"
   ]
  },
  {
   "cell_type": "code",
   "execution_count": 22,
   "id": "1e2055ce-3af7-434d-a602-ac500f986841",
   "metadata": {},
   "outputs": [],
   "source": [
    "sns.set(font_scale = 1)"
   ]
  },
  {
   "cell_type": "code",
   "execution_count": 23,
   "id": "87757740-6700-45ec-8a0b-200da5836233",
   "metadata": {},
   "outputs": [
    {
     "name": "stdout",
     "output_type": "stream",
     "text": [
      ">>>> 30 Percentile : 108259.99999999999\n",
      ">>>> mean : 155997.0\n",
      ">>>> 70 Percentile : 188000.0\n"
     ]
    }
   ],
   "source": [
    "# Problem Convert\n",
    "# Regression to Classifcation\n",
    "\n",
    "per_70 = np.percentile(train['transaction_real_price'],70)\n",
    "per_30 = np.percentile(train['transaction_real_price'],30)\n",
    "mean = round(np.mean(train['transaction_real_price']),0)\n",
    "\n",
    "print(\">>>> 30 Percentile : {}\".format(per_30))\n",
    "print(\">>>> mean : {}\".format(mean))\n",
    "print(\">>>> 70 Percentile : {}\".format(per_70))"
   ]
  },
  {
   "cell_type": "code",
   "execution_count": 30,
   "id": "77ec2ae3-1542-4336-99ae-7de53e148ef5",
   "metadata": {},
   "outputs": [
    {
     "name": "stdout",
     "output_type": "stream",
     "text": [
      ">>>> 30 Percentile : 108259.99999999999\n",
      ">>>> 70 Percentile : 188000.0\n"
     ]
    },
    {
     "data": {
      "image/png": "[encoded data removed]",
      "text/plain": [
       "<Figure size 432x288 with 1 Axes>"
      ]
     },
     "metadata": {},
     "output_type": "display_data"
    }
   ],
   "source": [
    "sns.histplot(train['transaction_real_price'])\n",
    "\n",
    "plt.axvline(np.percentile(train['transaction_real_price'],30))\n",
    "plt.axvline(np.percentile(train['transaction_real_price'],70))\n",
    "print(\">>>> 30 Percentile : {}\".format(per_30))\n",
    "print(\">>>> 70 Percentile : {}\".format(per_70))\n",
    "\n",
    "plt.show()"
   ]
  },
  {
   "cell_type": "code",
   "execution_count": 25,
   "id": "7cebafda-a576-4001-8035-6a53cbfbc892",
   "metadata": {},
   "outputs": [
    {
     "data": {
      "text/plain": [
       "(1788, 29)"
      ]
     },
     "execution_count": 25,
     "metadata": {},
     "output_type": "execute_result"
    }
   ],
   "source": [
    "train[train['transaction_real_price'] >= per_70].shape"
   ]
  },
  {
   "cell_type": "code",
   "execution_count": 31,
   "id": "01953bf2-858b-430a-87de-c85f40de83af",
   "metadata": {},
   "outputs": [
    {
     "data": {
      "text/plain": [
       "(1768, 29)"
      ]
     },
     "execution_count": 31,
     "metadata": {},
     "output_type": "execute_result"
    }
   ],
   "source": [
    "train[train['transaction_real_price'] <= per_30].shape"
   ]
  },
  {
   "cell_type": "code",
   "execution_count": 49,
   "id": "65cdc08a-5386-4488-a73b-5d15b21c62c9",
   "metadata": {},
   "outputs": [
    {
     "name": "stdout",
     "output_type": "stream",
     "text": [
      "Data shape : (3556, 29)\n",
      "top 30 Data shape : (1788, 29)\n",
      "bottom 30 Data shape : (1768, 29)\n"
     ]
    }
   ],
   "source": [
    "# 상위 30%와 하위 30% 데이터 추출하기\n",
    "data_30 = data[(data['transaction_real_price'] <= per_30) | (data['transaction_real_price'] >= per_70)]\n",
    "\n",
    "print('Data shape : {}'.format(data_30.shape))\n",
    "print('top 30 Data shape : {}'.format(train[train['transaction_real_price'] >= per_70].shape))\n",
    "print('bottom 30 Data shape : {}'.format(train[train['transaction_real_price'] <= per_30].shape))"
   ]
  },
  {
   "cell_type": "code",
   "execution_count": 33,
   "id": "646fc3d8-1ce3-403d-9291-058e65a2087d",
   "metadata": {},
   "outputs": [
    {
     "data": {
      "text/plain": [
       "(6089, 29)"
      ]
     },
     "execution_count": 33,
     "metadata": {},
     "output_type": "execute_result"
    }
   ],
   "source": [
    "data.shape"
   ]
  },
  {
   "cell_type": "code",
   "execution_count": 50,
   "id": "5c714ff4-8ea3-4f45-bc99-0b918f8613a5",
   "metadata": {},
   "outputs": [
    {
     "data": {
      "image/png": "[encoded data removed]",
      "text/plain": [
       "<Figure size 432x288 with 1 Axes>"
      ]
     },
     "metadata": {},
     "output_type": "display_data"
    },
    {
     "name": "stdout",
     "output_type": "stream",
     "text": [
      "하위 30 % : 108260.0\n",
      "상위 30 % : 188000.0\n"
     ]
    }
   ],
   "source": [
    "sns.histplot(data_30['transaction_real_price'], bins = 50)\n",
    "plt.title('상위/하위 30% 실거래가 분포')\n",
    "plt.show()\n",
    "\n",
    "print(f'하위 30 % : { round(np.percentile(train[\"transaction_real_price\"],30),0)}')\n",
    "print(f'상위 30 % : { round(np.percentile(train[\"transaction_real_price\"],70),0)}')"
   ]
  },
  {
   "cell_type": "markdown",
   "id": "13bbd28d-3259-4ee0-977b-03114a96863f",
   "metadata": {},
   "source": [
    "## 데이터라벨링\n",
    "- 상위/하위 집값을 위해 데이터 분리하기"
   ]
  },
  {
   "cell_type": "code",
   "execution_count": 54,
   "id": "a89b0487-e01c-4b66-901e-709ad430d9b3",
   "metadata": {},
   "outputs": [
    {
     "name": "stdout",
     "output_type": "stream",
     "text": [
      "Unique Label : {0, 1}\n"
     ]
    }
   ],
   "source": [
    "# 라벨 할당 \n",
    "## 상위 30% : 1, 하위 30% : 0\n",
    "data_30['Label'] = 3\n",
    "data_30['Label'].iloc[np.where(data_30['transaction_real_price'] >= per_70)[0]] = 1\n",
    "data_30['Label'].iloc[np.where(data_30['transaction_real_price'] <= per_30)[0]] = 0\n",
    "print(\"Unique Label : {}\".format(set(data_30['Label']))) "
   ]
  },
  {
   "cell_type": "code",
   "execution_count": 55,
   "id": "c7d2b0bf-4990-40da-b30b-bb213f18ffb6",
   "metadata": {},
   "outputs": [
    {
     "data": {
      "text/plain": [
       "Index(['id', 'sigungu', 'jibun', 'apt_name', 'exclusive_use_area',\n",
       "       'transaction_year_month', 'transaction_day', 'transaction_real_price',\n",
       "       'floor', 'year_of_completion', 'train_test', 'transaction_date',\n",
       "       '소비심리지수', '아파트 매매 실거래 가격 지수', '기준금리', 'GDP 성장률', 'apartment_id',\n",
       "       'recent_price', 'recent_jeonse', 'transaction_cnt', 'age', 'year',\n",
       "       'cluster_0.0', 'cluster_1.0', 'cluster_2.0', 'cluster_3.0',\n",
       "       'cluster_4.0', 'use_area', 'transaction_year', 'Label'],\n",
       "      dtype='object')"
      ]
     },
     "execution_count": 55,
     "metadata": {},
     "output_type": "execute_result"
    }
   ],
   "source": [
    "data_30.columns"
   ]
  },
  {
   "cell_type": "code",
   "execution_count": 56,
   "id": "e4b62fc1-eb47-4991-a887-a8aa9fc301db",
   "metadata": {},
   "outputs": [
    {
     "name": "stdout",
     "output_type": "stream",
     "text": [
      ">>>> # of Train data : 2489\n",
      ">>>> # of valid data : 1067\n"
     ]
    }
   ],
   "source": [
    "# Data split\n",
    "Y = data_30['Label']\n",
    "X = data_30.drop(columns=['transaction_real_price', 'Label'])\n",
    "\n",
    "idx = list(range(X.shape[0]))\n",
    "train_idx, valid_idx = train_test_split(idx, test_size=0.3, shuffle = False)\n",
    "print(\">>>> # of Train data : {}\".format(len(train_idx)))\n",
    "print(\">>>> # of valid data : {}\".format(len(valid_idx))) "
   ]
  },
  {
   "cell_type": "code",
   "execution_count": 127,
   "id": "55774b03-70c4-469b-9e0e-627b4c4396be",
   "metadata": {
    "tags": []
   },
   "outputs": [
    {
     "data": {
      "text/html": [
       "<div>\n",
       "<style scoped>\n",
       "    .dataframe tbody tr th:only-of-type {\n",
       "        vertical-align: middle;\n",
       "    }\n",
       "\n",
       "    .dataframe tbody tr th {\n",
       "        vertical-align: top;\n",
       "    }\n",
       "\n",
       "    .dataframe thead th {\n",
       "        text-align: right;\n",
       "    }\n",
       "</style>\n",
       "<table border=\"1\" class=\"dataframe\">\n",
       "  <thead>\n",
       "    <tr style=\"text-align: right;\">\n",
       "      <th></th>\n",
       "      <th>id</th>\n",
       "      <th>sigungu</th>\n",
       "      <th>jibun</th>\n",
       "      <th>apt_name</th>\n",
       "      <th>exclusive_use_area</th>\n",
       "      <th>transaction_year_month</th>\n",
       "      <th>transaction_day</th>\n",
       "      <th>floor</th>\n",
       "      <th>year_of_completion</th>\n",
       "      <th>train_test</th>\n",
       "      <th>...</th>\n",
       "      <th>transaction_cnt</th>\n",
       "      <th>age</th>\n",
       "      <th>cluster_0.0</th>\n",
       "      <th>cluster_1.0</th>\n",
       "      <th>cluster_2.0</th>\n",
       "      <th>cluster_3.0</th>\n",
       "      <th>cluster_4.0</th>\n",
       "      <th>use_area_price</th>\n",
       "      <th>use_area</th>\n",
       "      <th>transaction_year</th>\n",
       "    </tr>\n",
       "  </thead>\n",
       "  <tbody>\n",
       "    <tr>\n",
       "      <th>1</th>\n",
       "      <td>TRAIN_0699</td>\n",
       "      <td>서울특별시 강남구 대치동</td>\n",
       "      <td>986-14</td>\n",
       "      <td>하이캐슬</td>\n",
       "      <td>-0.37</td>\n",
       "      <td>201401</td>\n",
       "      <td>2</td>\n",
       "      <td>-0.54</td>\n",
       "      <td>2008</td>\n",
       "      <td>train</td>\n",
       "      <td>...</td>\n",
       "      <td>-1.36</td>\n",
       "      <td>-1.45</td>\n",
       "      <td>0</td>\n",
       "      <td>1</td>\n",
       "      <td>0</td>\n",
       "      <td>0</td>\n",
       "      <td>0</td>\n",
       "      <td>7.89</td>\n",
       "      <td>84.06</td>\n",
       "      <td>-1.39</td>\n",
       "    </tr>\n",
       "    <tr>\n",
       "      <th>3</th>\n",
       "      <td>TRAIN_0660</td>\n",
       "      <td>서울특별시 강남구 대치동</td>\n",
       "      <td>891-6</td>\n",
       "      <td>테헤란로대우아이빌(891-6)</td>\n",
       "      <td>-1.96</td>\n",
       "      <td>201401</td>\n",
       "      <td>4</td>\n",
       "      <td>1.40</td>\n",
       "      <td>2004</td>\n",
       "      <td>train</td>\n",
       "      <td>...</td>\n",
       "      <td>-0.38</td>\n",
       "      <td>-1.13</td>\n",
       "      <td>1</td>\n",
       "      <td>0</td>\n",
       "      <td>0</td>\n",
       "      <td>0</td>\n",
       "      <td>0</td>\n",
       "      <td>7.90</td>\n",
       "      <td>33.11</td>\n",
       "      <td>-1.39</td>\n",
       "    </tr>\n",
       "    <tr>\n",
       "      <th>4</th>\n",
       "      <td>TRAIN_0102</td>\n",
       "      <td>서울특별시 강남구 대치동</td>\n",
       "      <td>891-28</td>\n",
       "      <td>대치동우정에쉐르1</td>\n",
       "      <td>-1.12</td>\n",
       "      <td>201401</td>\n",
       "      <td>4</td>\n",
       "      <td>-0.30</td>\n",
       "      <td>2004</td>\n",
       "      <td>train</td>\n",
       "      <td>...</td>\n",
       "      <td>-0.64</td>\n",
       "      <td>-1.13</td>\n",
       "      <td>1</td>\n",
       "      <td>0</td>\n",
       "      <td>0</td>\n",
       "      <td>0</td>\n",
       "      <td>0</td>\n",
       "      <td>7.63</td>\n",
       "      <td>59.98</td>\n",
       "      <td>-1.39</td>\n",
       "    </tr>\n",
       "    <tr>\n",
       "      <th>5</th>\n",
       "      <td>TRAIN_0110</td>\n",
       "      <td>서울특별시 강남구 대치동</td>\n",
       "      <td>1014-3</td>\n",
       "      <td>대치삼성</td>\n",
       "      <td>0.04</td>\n",
       "      <td>201401</td>\n",
       "      <td>4</td>\n",
       "      <td>0.66</td>\n",
       "      <td>2000</td>\n",
       "      <td>train</td>\n",
       "      <td>...</td>\n",
       "      <td>0.45</td>\n",
       "      <td>-0.81</td>\n",
       "      <td>0</td>\n",
       "      <td>1</td>\n",
       "      <td>0</td>\n",
       "      <td>0</td>\n",
       "      <td>0</td>\n",
       "      <td>8.13</td>\n",
       "      <td>97.35</td>\n",
       "      <td>-1.39</td>\n",
       "    </tr>\n",
       "    <tr>\n",
       "      <th>6</th>\n",
       "      <td>TRAIN_0311</td>\n",
       "      <td>서울특별시 강남구 대치동</td>\n",
       "      <td>988-4</td>\n",
       "      <td>대치효성</td>\n",
       "      <td>-0.35</td>\n",
       "      <td>201401</td>\n",
       "      <td>4</td>\n",
       "      <td>0.09</td>\n",
       "      <td>1999</td>\n",
       "      <td>train</td>\n",
       "      <td>...</td>\n",
       "      <td>-0.64</td>\n",
       "      <td>-0.73</td>\n",
       "      <td>0</td>\n",
       "      <td>1</td>\n",
       "      <td>0</td>\n",
       "      <td>0</td>\n",
       "      <td>0</td>\n",
       "      <td>7.95</td>\n",
       "      <td>84.91</td>\n",
       "      <td>-1.39</td>\n",
       "    </tr>\n",
       "    <tr>\n",
       "      <th>...</th>\n",
       "      <td>...</td>\n",
       "      <td>...</td>\n",
       "      <td>...</td>\n",
       "      <td>...</td>\n",
       "      <td>...</td>\n",
       "      <td>...</td>\n",
       "      <td>...</td>\n",
       "      <td>...</td>\n",
       "      <td>...</td>\n",
       "      <td>...</td>\n",
       "      <td>...</td>\n",
       "      <td>...</td>\n",
       "      <td>...</td>\n",
       "      <td>...</td>\n",
       "      <td>...</td>\n",
       "      <td>...</td>\n",
       "      <td>...</td>\n",
       "      <td>...</td>\n",
       "      <td>...</td>\n",
       "      <td>...</td>\n",
       "      <td>...</td>\n",
       "    </tr>\n",
       "    <tr>\n",
       "      <th>5884</th>\n",
       "      <td>TRAIN_5952</td>\n",
       "      <td>서울특별시 강남구 대치동</td>\n",
       "      <td>316</td>\n",
       "      <td>은마</td>\n",
       "      <td>-0.60</td>\n",
       "      <td>202212</td>\n",
       "      <td>16</td>\n",
       "      <td>0.40</td>\n",
       "      <td>1979</td>\n",
       "      <td>train</td>\n",
       "      <td>...</td>\n",
       "      <td>-0.38</td>\n",
       "      <td>1.50</td>\n",
       "      <td>0</td>\n",
       "      <td>0</td>\n",
       "      <td>1</td>\n",
       "      <td>0</td>\n",
       "      <td>0</td>\n",
       "      <td>9.00</td>\n",
       "      <td>76.79</td>\n",
       "      <td>2.43</td>\n",
       "    </tr>\n",
       "    <tr>\n",
       "      <th>5885</th>\n",
       "      <td>TRAIN_5953</td>\n",
       "      <td>서울특별시 강남구 대치동</td>\n",
       "      <td>316</td>\n",
       "      <td>은마</td>\n",
       "      <td>-0.60</td>\n",
       "      <td>202212</td>\n",
       "      <td>22</td>\n",
       "      <td>0.66</td>\n",
       "      <td>1979</td>\n",
       "      <td>train</td>\n",
       "      <td>...</td>\n",
       "      <td>-0.38</td>\n",
       "      <td>1.50</td>\n",
       "      <td>0</td>\n",
       "      <td>0</td>\n",
       "      <td>1</td>\n",
       "      <td>0</td>\n",
       "      <td>0</td>\n",
       "      <td>9.01</td>\n",
       "      <td>76.79</td>\n",
       "      <td>2.43</td>\n",
       "    </tr>\n",
       "    <tr>\n",
       "      <th>5887</th>\n",
       "      <td>TRAIN_5955</td>\n",
       "      <td>서울특별시 강남구 대치동</td>\n",
       "      <td>316</td>\n",
       "      <td>은마</td>\n",
       "      <td>-0.36</td>\n",
       "      <td>202212</td>\n",
       "      <td>24</td>\n",
       "      <td>0.40</td>\n",
       "      <td>1979</td>\n",
       "      <td>train</td>\n",
       "      <td>...</td>\n",
       "      <td>-0.18</td>\n",
       "      <td>1.50</td>\n",
       "      <td>0</td>\n",
       "      <td>0</td>\n",
       "      <td>1</td>\n",
       "      <td>0</td>\n",
       "      <td>0</td>\n",
       "      <td>9.06</td>\n",
       "      <td>84.43</td>\n",
       "      <td>2.43</td>\n",
       "    </tr>\n",
       "    <tr>\n",
       "      <th>5888</th>\n",
       "      <td>TRAIN_5956</td>\n",
       "      <td>서울특별시 강남구 대치동</td>\n",
       "      <td>316</td>\n",
       "      <td>은마</td>\n",
       "      <td>-0.36</td>\n",
       "      <td>202212</td>\n",
       "      <td>26</td>\n",
       "      <td>0.09</td>\n",
       "      <td>1979</td>\n",
       "      <td>train</td>\n",
       "      <td>...</td>\n",
       "      <td>-0.10</td>\n",
       "      <td>1.50</td>\n",
       "      <td>0</td>\n",
       "      <td>0</td>\n",
       "      <td>1</td>\n",
       "      <td>0</td>\n",
       "      <td>0</td>\n",
       "      <td>9.11</td>\n",
       "      <td>84.43</td>\n",
       "      <td>2.43</td>\n",
       "    </tr>\n",
       "    <tr>\n",
       "      <th>5890</th>\n",
       "      <td>TRAIN_5975</td>\n",
       "      <td>서울특별시 강남구 대치동</td>\n",
       "      <td>902</td>\n",
       "      <td>포스코더샵</td>\n",
       "      <td>1.35</td>\n",
       "      <td>202212</td>\n",
       "      <td>30</td>\n",
       "      <td>0.54</td>\n",
       "      <td>2004</td>\n",
       "      <td>train</td>\n",
       "      <td>...</td>\n",
       "      <td>-1.91</td>\n",
       "      <td>-0.50</td>\n",
       "      <td>0</td>\n",
       "      <td>0</td>\n",
       "      <td>1</td>\n",
       "      <td>0</td>\n",
       "      <td>0</td>\n",
       "      <td>8.83</td>\n",
       "      <td>139.54</td>\n",
       "      <td>2.43</td>\n",
       "    </tr>\n",
       "  </tbody>\n",
       "</table>\n",
       "<p>3556 rows × 28 columns</p>\n",
       "</div>"
      ],
      "text/plain": [
       "              id        sigungu   jibun          apt_name  exclusive_use_area  \\\n",
       "1     TRAIN_0699  서울특별시 강남구 대치동  986-14              하이캐슬               -0.37   \n",
       "3     TRAIN_0660  서울특별시 강남구 대치동   891-6  테헤란로대우아이빌(891-6)               -1.96   \n",
       "4     TRAIN_0102  서울특별시 강남구 대치동  891-28         대치동우정에쉐르1               -1.12   \n",
       "5     TRAIN_0110  서울특별시 강남구 대치동  1014-3              대치삼성                0.04   \n",
       "6     TRAIN_0311  서울특별시 강남구 대치동   988-4              대치효성               -0.35   \n",
       "...          ...            ...     ...               ...                 ...   \n",
       "5884  TRAIN_5952  서울특별시 강남구 대치동     316                은마               -0.60   \n",
       "5885  TRAIN_5953  서울특별시 강남구 대치동     316                은마               -0.60   \n",
       "5887  TRAIN_5955  서울특별시 강남구 대치동     316                은마               -0.36   \n",
       "5888  TRAIN_5956  서울특별시 강남구 대치동     316                은마               -0.36   \n",
       "5890  TRAIN_5975  서울특별시 강남구 대치동     902             포스코더샵                1.35   \n",
       "\n",
       "      transaction_year_month  transaction_day  floor  year_of_completion  \\\n",
       "1                     201401                2  -0.54                2008   \n",
       "3                     201401                4   1.40                2004   \n",
       "4                     201401                4  -0.30                2004   \n",
       "5                     201401                4   0.66                2000   \n",
       "6                     201401                4   0.09                1999   \n",
       "...                      ...              ...    ...                 ...   \n",
       "5884                  202212               16   0.40                1979   \n",
       "5885                  202212               22   0.66                1979   \n",
       "5887                  202212               24   0.40                1979   \n",
       "5888                  202212               26   0.09                1979   \n",
       "5890                  202212               30   0.54                2004   \n",
       "\n",
       "     train_test  ... transaction_cnt   age  cluster_0.0  cluster_1.0  \\\n",
       "1         train  ...           -1.36 -1.45            0            1   \n",
       "3         train  ...           -0.38 -1.13            1            0   \n",
       "4         train  ...           -0.64 -1.13            1            0   \n",
       "5         train  ...            0.45 -0.81            0            1   \n",
       "6         train  ...           -0.64 -0.73            0            1   \n",
       "...         ...  ...             ...   ...          ...          ...   \n",
       "5884      train  ...           -0.38  1.50            0            0   \n",
       "5885      train  ...           -0.38  1.50            0            0   \n",
       "5887      train  ...           -0.18  1.50            0            0   \n",
       "5888      train  ...           -0.10  1.50            0            0   \n",
       "5890      train  ...           -1.91 -0.50            0            0   \n",
       "\n",
       "      cluster_2.0  cluster_3.0  cluster_4.0  use_area_price  use_area  \\\n",
       "1               0            0            0            7.89     84.06   \n",
       "3               0            0            0            7.90     33.11   \n",
       "4               0            0            0            7.63     59.98   \n",
       "5               0            0            0            8.13     97.35   \n",
       "6               0            0            0            7.95     84.91   \n",
       "...           ...          ...          ...             ...       ...   \n",
       "5884            1            0            0            9.00     76.79   \n",
       "5885            1            0            0            9.01     76.79   \n",
       "5887            1            0            0            9.06     84.43   \n",
       "5888            1            0            0            9.11     84.43   \n",
       "5890            1            0            0            8.83    139.54   \n",
       "\n",
       "      transaction_year  \n",
       "1                -1.39  \n",
       "3                -1.39  \n",
       "4                -1.39  \n",
       "5                -1.39  \n",
       "6                -1.39  \n",
       "...                ...  \n",
       "5884              2.43  \n",
       "5885              2.43  \n",
       "5887              2.43  \n",
       "5888              2.43  \n",
       "5890              2.43  \n",
       "\n",
       "[3556 rows x 28 columns]"
      ]
     },
     "execution_count": 127,
     "metadata": {},
     "output_type": "execute_result"
    }
   ],
   "source": [
    "X"
   ]
  },
  {
   "cell_type": "code",
   "execution_count": 128,
   "id": "a710cee3-88eb-401c-a818-b27aefa11acf",
   "metadata": {},
   "outputs": [
    {
     "data": {
      "text/plain": [
       "Index(['id', 'sigungu', 'jibun', 'apt_name', 'exclusive_use_area',\n",
       "       'transaction_year_month', 'transaction_day', 'floor',\n",
       "       'year_of_completion', 'train_test', 'transaction_date', '소비심리지수',\n",
       "       '아파트 매매 실거래 가격 지수', '기준금리', 'GDP 성장률', 'apartment_id', 'recent_price',\n",
       "       'recent_jeonse', 'transaction_cnt', 'age', 'cluster_0.0', 'cluster_1.0',\n",
       "       'cluster_2.0', 'cluster_3.0', 'cluster_4.0', 'use_area_price',\n",
       "       'use_area', 'transaction_year'],\n",
       "      dtype='object')"
      ]
     },
     "execution_count": 128,
     "metadata": {},
     "output_type": "execute_result"
    }
   ],
   "source": [
    "X.columns"
   ]
  },
  {
   "cell_type": "code",
   "execution_count": 129,
   "id": "01ff2aee-343f-4acf-bfcb-e4d368e5705d",
   "metadata": {},
   "outputs": [],
   "source": [
    "columns = [ 'exclusive_use_area','floor', 'age','소비심리지수', '아파트 매매 실거래 가격 지수', \n",
    "           '기준금리', 'GDP 성장률', 'recent_price', 'recent_jeonse',\n",
    "           'transaction_cnt', 'cluster_0.0', 'cluster_1.0', 'cluster_2.0', 'cluster_3.0','cluster_4.0']"
   ]
  },
  {
   "cell_type": "code",
   "execution_count": 130,
   "id": "2954340c-a001-4541-aac9-c4a53529434e",
   "metadata": {},
   "outputs": [],
   "source": [
    "X = X[columns].copy()"
   ]
  },
  {
   "cell_type": "code",
   "execution_count": 131,
   "id": "fdebf892-4b0d-4639-ac1b-7742d7a6360b",
   "metadata": {},
   "outputs": [
    {
     "name": "stdout",
     "output_type": "stream",
     "text": [
      ">>>> Depth 2\n",
      "Train Confusion Matrix\n",
      "[[1597    1]\n",
      " [  11  880]]\n",
      "Train Acc : 0.9951787866613098\n",
      "Valid Confusion Matrix\n",
      "[[170   0]\n",
      " [ 57 840]]\n",
      "TesT Acc : 0.9465791940018744\n",
      "-----------------------------------------------------------------------\n",
      "-----------------------------------------------------------------------\n",
      ">>>> Depth 3\n",
      "Train Confusion Matrix\n",
      "[[1598    0]\n",
      " [   3  888]]\n",
      "Train Acc : 0.9987946966653274\n",
      "Valid Confusion Matrix\n",
      "[[170   0]\n",
      " [ 11 886]]\n",
      "TesT Acc : 0.9896907216494846\n",
      "-----------------------------------------------------------------------\n",
      "-----------------------------------------------------------------------\n",
      ">>>> Depth 4\n",
      "Train Confusion Matrix\n",
      "[[1598    0]\n",
      " [   0  891]]\n",
      "Train Acc : 1.0\n",
      "Valid Confusion Matrix\n",
      "[[170   0]\n",
      " [ 11 886]]\n",
      "TesT Acc : 0.9896907216494846\n",
      "-----------------------------------------------------------------------\n",
      "-----------------------------------------------------------------------\n"
     ]
    }
   ],
   "source": [
    "# Parameter Searching ==> Depth 2 ~ 5\n",
    "for i in range(2,5,1):\n",
    "    print(\">>>> Depth {}\".format(i))\n",
    "\n",
    "    model = DecisionTreeClassifier(max_depth=i, criterion='entropy')\n",
    "    model.fit(X.iloc[train_idx], Y.iloc[train_idx])\n",
    "\n",
    "    # Train Acc\n",
    "    y_pre_train = model.predict(X.iloc[train_idx])\n",
    "    cm_train = confusion_matrix(Y.iloc[train_idx], y_pre_train)\n",
    "    print(\"Train Confusion Matrix\")\n",
    "    print(cm_train)\n",
    "    print(\"Train Acc : {}\".format((cm_train[0,0] + cm_train[1,1])/cm_train.sum()))\n",
    "\n",
    "    # Test Acc\n",
    "    y_pre_test = model.predict(X.iloc[valid_idx])\n",
    "    cm_test = confusion_matrix(Y.iloc[valid_idx], y_pre_test)\n",
    "    print(\"Valid Confusion Matrix\")\n",
    "    print(cm_test)\n",
    "    print(\"TesT Acc : {}\".format((cm_test[0,0] + cm_test[1,1])/cm_test.sum()))\n",
    "    print(\"-----------------------------------------------------------------------\")\n",
    "    print(\"-----------------------------------------------------------------------\")\n"
   ]
  },
  {
   "cell_type": "code",
   "execution_count": 132,
   "id": "100c6b15-aac6-4e02-8885-3d0bd8ee672c",
   "metadata": {},
   "outputs": [
    {
     "data": {
      "text/plain": [
       "DecisionTreeClassifier(criterion='entropy', max_depth=3)"
      ]
     },
     "execution_count": 132,
     "metadata": {},
     "output_type": "execute_result"
    }
   ],
   "source": [
    "# Depth가 깊어질 수록 정확도는 높게 나타남\n",
    "model = DecisionTreeClassifier(max_depth=3, criterion='entropy')\n",
    "model.fit(X.iloc[train_idx], Y.iloc[train_idx])"
   ]
  },
  {
   "cell_type": "code",
   "execution_count": 133,
   "id": "4bfc4e77-0d98-4107-8498-847b4be603e1",
   "metadata": {},
   "outputs": [
    {
     "data": {
      "image/png": "[encoded data removed]",
      "text/plain": [
       "<Figure size 1440x720 with 1 Axes>"
      ]
     },
     "metadata": {
      "needs_background": "light"
     },
     "output_type": "display_data"
    }
   ],
   "source": [
    " from sklearn import tree\n",
    "# Creating the tree plot\n",
    "# Creating the tree plot (left = True, Right = False)\n",
    "plt.figure(figsize= (20,10))\n",
    "tree.plot_tree(model, filled=True, feature_names=X.columns, class_names = ['Bottom 30','Top 30'])\n",
    "plt.rcParams['figure.figsize'] = [40,20]"
   ]
  },
  {
   "cell_type": "code",
   "execution_count": 134,
   "id": "43d047c3-734d-44e2-947c-ff892f72c4a7",
   "metadata": {},
   "outputs": [
    {
     "data": {
      "text/plain": [
       "Index(['exclusive_use_area', 'floor', 'age', '소비심리지수', '아파트 매매 실거래 가격 지수',\n",
       "       '기준금리', 'GDP 성장률', 'recent_price', 'recent_jeonse', 'transaction_cnt',\n",
       "       'cluster_0.0', 'cluster_1.0', 'cluster_2.0', 'cluster_3.0',\n",
       "       'cluster_4.0'],\n",
       "      dtype='object')"
      ]
     },
     "execution_count": 134,
     "metadata": {},
     "output_type": "execute_result"
    }
   ],
   "source": [
    "X.columns"
   ]
  },
  {
   "cell_type": "code",
   "execution_count": 136,
   "id": "f306e997-9820-4ebc-8f7b-b77aab01dadf",
   "metadata": {},
   "outputs": [
    {
     "name": "stdout",
     "output_type": "stream",
     "text": [
      "|--- recent_price <= 0.00\n",
      "|   |--- recent_jeonse <= 0.88\n",
      "|   |   |--- age <= -1.57\n",
      "|   |   |   |--- class: 0\n",
      "|   |   |--- age >  -1.57\n",
      "|   |   |   |--- class: 0\n",
      "|   |--- recent_jeonse >  0.88\n",
      "|   |   |--- class: 1\n",
      "|--- recent_price >  0.00\n",
      "|   |--- cluster_1.0 <= 0.50\n",
      "|   |   |--- recent_jeonse <= -0.72\n",
      "|   |   |   |--- class: 0\n",
      "|   |   |--- recent_jeonse >  -0.72\n",
      "|   |   |   |--- class: 1\n",
      "|   |--- cluster_1.0 >  0.50\n",
      "|   |   |--- 아파트 매매 실거래 가격 지수 <= 0.59\n",
      "|   |   |   |--- class: 0\n",
      "|   |   |--- 아파트 매매 실거래 가격 지수 >  0.59\n",
      "|   |   |   |--- class: 1\n",
      "\n"
     ]
    }
   ],
   "source": [
    "# class 0 : 하위 30% , class 1 : 상위 30%\n",
    "from sklearn.tree import export_text\n",
    "\n",
    "r = export_text(model, feature_names = [ 'exclusive_use_area','floor', 'age','소비심리지수', '아파트 매매 실거래 가격 지수', \n",
    "           '기준금리', 'GDP 성장률', 'recent_price', 'recent_jeonse',\n",
    "           'transaction_cnt', 'cluster_0.0', 'cluster_1.0', 'cluster_2.0', 'cluster_3.0','cluster_4.0'])\n",
    "print(r)"
   ]
  },
  {
   "cell_type": "markdown",
   "id": "d3779f0c-85c6-43eb-a6da-438632659cbd",
   "metadata": {
    "tags": []
   },
   "source": [
    "### Top 30\n",
    "- 최근 실거래가(recent_price)의 값이 0보다 크고, 1번 군집에 속하지 않고, 최근 전세가의 값이 -0.72보다 클 때, 아파트 실거래가 상위 30%에 속함\n",
    "-  최근 실거래가(recent_price)의 값이 0보다 크고, 1번 군집에 속하고, 아파트 매매 실거래가 가격 지수가 0.42보다 클 때, 아파트 실거래가 상위 30%에 속함\n",
    "- 상위 30% 이상인 데이터를 가지고, 해당 변수가 변화할 때, 아파트 실거래가가 얼마나 영향을 미치는 지 알 수 있음\n",
    "\n",
    "### Bottome 30\n",
    "-  최근 실거래가(recent_price)의 값이 0보다 작고, 최근 전세가의 값이 0.88보다 작을 때, 아파트 실거래가 하위 30%에 속함\n",
    "- 최근 실거래가(recent_price)의 값이 0보다 크고, 1번 군집에 속하고, 최근 전세가(recent_jeonse)의 값이 -0.72 이하일 때, 아파트 실거래가 하위 30%에 속함\n",
    "\n",
    "<strong> 대치동 상위, 하위 아파트 실거래가를 구분하는데 중요한 변수는 최근 실거래가, 최근 전세, 1번 군집 포함 여부, 아파트 매매 실거래가 가격 지수로 나타남 </strong>\n"
   ]
  },
  {
   "cell_type": "code",
   "execution_count": 123,
   "id": "46f7f526-c078-4b72-92bc-ed171b294425",
   "metadata": {},
   "outputs": [],
   "source": [
    "columns = [ '아파트 매매 실거래 가격 지수', 'recent_price', 'recent_jeonse','cluster_1.0', ]"
   ]
  },
  {
   "cell_type": "code",
   "execution_count": 124,
   "id": "de3e8dcf-bac1-4df4-b5ce-2dc0c92d1d0b",
   "metadata": {},
   "outputs": [],
   "source": [
    "top_30 = data_30[data_30['Label'] == 1]\n",
    "bottom_30 = data_30[data_30['Label'] == 0]"
   ]
  },
  {
   "cell_type": "code",
   "execution_count": 125,
   "id": "d051382c-e184-4bfa-b648-128f8376368c",
   "metadata": {},
   "outputs": [],
   "source": [
    "# data split\n",
    "train_x, val_x, train_y, val_y = train_test_split(top_30.loc[(top_30['train_test'] == 'train'), columns], top_30.loc[(top_30['train_test'] == 'train'), \n",
    "                                                                                                               'transaction_real_price'], shuffle = False, random_state = 42)"
   ]
  },
  {
   "cell_type": "code",
   "execution_count": 126,
   "id": "a01d3116-d125-4bc6-9f11-bc6be6573093",
   "metadata": {},
   "outputs": [],
   "source": [
    "# Linear Regression 구축\n",
    "model_top30 = sm.OLS(train_y,train_x, random_state = 42)\n",
    "model_trained_top = model_top30.fit(random_state = 42)"
   ]
  },
  {
   "cell_type": "markdown",
   "id": "70f25a23-eb94-46b2-940d-92d56e125186",
   "metadata": {},
   "source": [
    "# 2차 회귀분석\n",
    "### Top 30\n",
    "- 아파트 실거래가 상위 30% 데이터만 가지고 회귀분석 수행\n",
    "- 중요 변수들이 아파트 실거래가에 미치는 영향력의 크기를 알아보기 위해 수행\n",
    "- F-통계량의 p값이 0.05보다 작게 나타나 모델이 유의미함\n",
    "- R-squared 값이 0.9로 나타나 모델이 데이터의 설명력을 90% 설명하고 있음을 나타남\n",
    "- 의사결정나무에서 추출한 중요 변수들이 p값이 0.05보다 작게 나타나 통계적으로 유의미한 변수로 나타남\n",
    "\n",
    "<strong> 영향력 알아보기 </strong><br>\n",
    "- 아파트 매매 실거래 가격 지수 : 한 표준편차 증가할 때 아파트 가격이 평균적으로 21,580만큼 증가한다는 것을 의미\n",
    "- 최근 실거래가(recent_price) : 한 표준편차 증가할 때 아파트 가격이 평균적으로 140,200만큼 증가한다는 것을 나타\n",
    "- 최근 전세가(recent_jeonse)  : 한 표준편차 증가할 때 아파트 가격이 평균적으로 52,060만큼 증가한다는 것을 의미\n",
    "- 1번 군집(cluster_1.0) : 클러스터 1에 속하는 아파트가 다른 클러스터에 속하지 않는 아파트에 비해 가격이 평균적으로 62,870만큼 더 높다는 것을 의미"
   ]
  },
  {
   "cell_type": "code",
   "execution_count": 161,
   "id": "27627f07-85e7-4fdd-be95-4e32ed3ad05a",
   "metadata": {},
   "outputs": [
    {
     "name": "stdout",
     "output_type": "stream",
     "text": [
      "                                   OLS Regression Results                                  \n",
      "===========================================================================================\n",
      "Dep. Variable:     transaction_real_price   R-squared (uncentered):                   0.904\n",
      "Model:                                OLS   Adj. R-squared (uncentered):              0.904\n",
      "Method:                     Least Squares   F-statistic:                              3161.\n",
      "Date:                    Tue, 26 Mar 2024   Prob (F-statistic):                        0.00\n",
      "Time:                            18:57:58   Log-Likelihood:                         -16963.\n",
      "No. Observations:                    1341   AIC:                                  3.393e+04\n",
      "Df Residuals:                        1337   BIC:                                  3.395e+04\n",
      "Df Model:                               4                                                  \n",
      "Covariance Type:                nonrobust                                                  \n",
      "====================================================================================\n",
      "                       coef    std err          t      P>|t|      [0.025      0.975]\n",
      "------------------------------------------------------------------------------------\n",
      "아파트 매매 실거래 가격 지수  2.158e+04   3493.334      6.177      0.000    1.47e+04    2.84e+04\n",
      "recent_price      1.402e+05   4546.143     30.848      0.000    1.31e+05    1.49e+05\n",
      "recent_jeonse     5.206e+04   4110.394     12.667      0.000     4.4e+04    6.01e+04\n",
      "cluster_1.0       6.287e+04    1.3e+04      4.850      0.000    3.74e+04    8.83e+04\n",
      "==============================================================================\n",
      "Omnibus:                       19.435   Durbin-Watson:                   1.270\n",
      "Prob(Omnibus):                  0.000   Jarque-Bera (JB):               19.907\n",
      "Skew:                          -0.295   Prob(JB):                     4.76e-05\n",
      "Kurtosis:                       3.084   Cond. No.                         10.5\n",
      "==============================================================================\n",
      "\n",
      "Notes:\n",
      "[1] R² is computed without centering (uncentered) since the model does not contain a constant.\n",
      "[2] Standard Errors assume that the covariance matrix of the errors is correctly specified.\n"
     ]
    }
   ],
   "source": [
    "print(model_trained_top.summary())"
   ]
  },
  {
   "cell_type": "code",
   "execution_count": 128,
   "id": "d73dd995-b5a1-4803-843d-40871304de58",
   "metadata": {},
   "outputs": [
    {
     "data": {
      "text/plain": [
       "Counter({0: 1722, 1: 66})"
      ]
     },
     "execution_count": 128,
     "metadata": {},
     "output_type": "execute_result"
    }
   ],
   "source": [
    "Counter(top_30['cluster_1.0'])"
   ]
  },
  {
   "cell_type": "code",
   "execution_count": 129,
   "id": "ce18d63c-2672-4c22-8115-5de120172b77",
   "metadata": {},
   "outputs": [
    {
     "data": {
      "text/plain": [
       "대치삼성               42\n",
       "대치현대               11\n",
       "롯데캐슬                8\n",
       "현대1                 4\n",
       "풍림아이원4차(1007-2)     1\n",
       "Name: apt_name, dtype: int64"
      ]
     },
     "execution_count": 129,
     "metadata": {},
     "output_type": "execute_result"
    }
   ],
   "source": [
    "top_30[top_30['cluster_1.0'] == 1]['apt_name'].value_counts()"
   ]
  },
  {
   "cell_type": "markdown",
   "id": "dd7f28d7-cdc3-434e-a40d-9da5a753703d",
   "metadata": {},
   "source": [
    "- 상위 30% 데이터 중 1번 군집에 해당하는 아파트 단지를 뽑은 결과 배정되는 학교 및 학원가와 접근성이 높은 단지들이 뽑힘"
   ]
  },
  {
   "cell_type": "code",
   "execution_count": 130,
   "id": "6d45e8cc-8313-429f-a690-8c835dafe1e9",
   "metadata": {
    "tags": []
   },
   "outputs": [
    {
     "data": {
      "text/plain": [
       "apt_name\n",
       "대치삼성              220328.57\n",
       "대치현대              214027.27\n",
       "롯데캐슬              221437.50\n",
       "풍림아이원4차(1007-2)   229500.00\n",
       "현대1               196500.00\n",
       "Name: transaction_real_price, dtype: float64"
      ]
     },
     "execution_count": 130,
     "metadata": {},
     "output_type": "execute_result"
    }
   ],
   "source": [
    "top_30[top_30['cluster_1.0'] == 1].groupby(['apt_name'])['transaction_real_price'].mean()"
   ]
  },
  {
   "cell_type": "code",
   "execution_count": 133,
   "id": "a742d55a-1ae1-42ee-9144-d8e7e74651df",
   "metadata": {},
   "outputs": [],
   "source": [
    "# data split\n",
    "train_x, val_x, train_y, val_y = train_test_split(bottom_30.loc[(bottom_30['train_test'] == 'train'), columns], bottom_30.loc[(bottom_30['train_test'] == 'train'), \n",
    "                                                                                                               'transaction_real_price'], shuffle = False, random_state = 42)"
   ]
  },
  {
   "cell_type": "code",
   "execution_count": 134,
   "id": "93ce2d70-66cb-42d9-8036-9633212c48fe",
   "metadata": {},
   "outputs": [],
   "source": [
    "# Linear Regression 구축\n",
    "model_bottom30 = sm.OLS(train_y,train_x, random_state = 42)\n",
    "model_trained_bot = model_bottom30.fit(random_state = 42)"
   ]
  },
  {
   "cell_type": "markdown",
   "id": "42d8756b-09f2-45de-8925-a29972d19464",
   "metadata": {},
   "source": [
    "### Bottom 30\n",
    "- 아파트 실거래가  하위 30% 데이터만 가지고 회귀분석 수행\n",
    "- F-통계량의 p값이 0.05보다 작게 나타나 모델이 유의미함\n",
    "- R-squared 값이 0.858로 나타나 모델이 데이터의 설명력을 85.8% 설명하고 있음을 나타남\n",
    "- 의사결정나무에서 추출한 중요 변수들이 p값이 0.05보다 작게 나타나 통계적으로 유의미한 변수로 나타남\n",
    "\n",
    "<strong> 영향력 알아보기 </strong><br>\n",
    "- 아파트 매매 실거래 가격 지수 : 한 표준편차 증가할 때 아파트 가격이 평균적으로 57,510만큼 하락한다는 것을 의미\n",
    "- 최근 실거래가(recent_price) : 한 표준편차 증가할 때 아파트 가격이 평균적으로 46,210만큼 하락한다는 것을 의미\n",
    "- 최근 전세가(recent_jeonse)  : 한 표준편차 증가할 때 아파트 가격이 평균적으로 33,350만큼 증가한다는 것을 의미\n",
    "- 1번 군집(cluster_1.0) : 클러스터 1에 속하는 아파트가 다른 클러스터에 속하지 않는 아파트에 비해 가격이 평균적으로 11,280만큼 더 낮다는 것을 의미"
   ]
  },
  {
   "cell_type": "code",
   "execution_count": 135,
   "id": "636440c4-ab82-4676-bf72-d47d704a300e",
   "metadata": {},
   "outputs": [
    {
     "name": "stdout",
     "output_type": "stream",
     "text": [
      "                                   OLS Regression Results                                  \n",
      "===========================================================================================\n",
      "Dep. Variable:     transaction_real_price   R-squared (uncentered):                   0.858\n",
      "Model:                                OLS   Adj. R-squared (uncentered):              0.857\n",
      "Method:                     Least Squares   F-statistic:                              1995.\n",
      "Date:                    Mon, 08 Apr 2024   Prob (F-statistic):                        0.00\n",
      "Time:                            20:07:30   Log-Likelihood:                         -15589.\n",
      "No. Observations:                    1326   AIC:                                  3.119e+04\n",
      "Df Residuals:                        1322   BIC:                                  3.121e+04\n",
      "Df Model:                               4                                                  \n",
      "Covariance Type:                nonrobust                                                  \n",
      "====================================================================================\n",
      "                       coef    std err          t      P>|t|      [0.025      0.975]\n",
      "------------------------------------------------------------------------------------\n",
      "아파트 매매 실거래 가격 지수 -5.751e+04   1804.979    -31.865      0.000   -6.11e+04    -5.4e+04\n",
      "recent_price     -4.621e+04   3138.826    -14.722      0.000   -5.24e+04   -4.01e+04\n",
      "recent_jeonse     3.335e+04   1974.113     16.896      0.000    2.95e+04    3.72e+04\n",
      "cluster_1.0      -1.128e+04   2247.804     -5.020      0.000   -1.57e+04   -6873.939\n",
      "==============================================================================\n",
      "Omnibus:                       19.107   Durbin-Watson:                   0.960\n",
      "Prob(Omnibus):                  0.000   Jarque-Bera (JB):               13.893\n",
      "Skew:                           0.142   Prob(JB):                     0.000962\n",
      "Kurtosis:                       2.586   Cond. No.                         8.21\n",
      "==============================================================================\n",
      "\n",
      "Notes:\n",
      "[1] R² is computed without centering (uncentered) since the model does not contain a constant.\n",
      "[2] Standard Errors assume that the covariance matrix of the errors is correctly specified.\n"
     ]
    }
   ],
   "source": [
    "print(model_trained_bot.summary())"
   ]
  },
  {
   "cell_type": "code",
   "execution_count": 70,
   "id": "71ca9a16-041e-4ef1-8beb-18471bb6b940",
   "metadata": {},
   "outputs": [
    {
     "data": {
      "text/plain": [
       "Counter({1: 677, 0: 1091})"
      ]
     },
     "execution_count": 70,
     "metadata": {},
     "output_type": "execute_result"
    }
   ],
   "source": [
    "Counter(bottom_30['cluster_1.0'])"
   ]
  },
  {
   "cell_type": "markdown",
   "id": "f3a2b69d-9436-426c-85ba-ea50cc2db7ac",
   "metadata": {},
   "source": [
    "- 1번 군집 속함 여부에 대해 조사한 결과, 하위 세그먼트에서도 상위 세그먼트와 마찬가지로 동일한 아파트 단지가 나타남\n",
    "- 거래년도에 따라 가치 차이가 드러남"
   ]
  },
  {
   "cell_type": "markdown",
   "id": "fa127236-58f6-4445-be90-6b6315ae56af",
   "metadata": {},
   "source": [
    "<strong> 대치삼성 비교 </strong>"
   ]
  },
  {
   "cell_type": "code",
   "execution_count": 139,
   "id": "bfbe9602-3f43-4d80-86de-3227c9157892",
   "metadata": {},
   "outputs": [
    {
     "data": {
      "text/plain": [
       "5       201401\n",
       "16      201401\n",
       "22      201401\n",
       "35      201401\n",
       "56      201401\n",
       "         ...  \n",
       "3394    201707\n",
       "3480    201707\n",
       "3559    201707\n",
       "3671    201710\n",
       "3678    201710\n",
       "Name: transaction_year_month, Length: 171, dtype: int64"
      ]
     },
     "execution_count": 139,
     "metadata": {},
     "output_type": "execute_result"
    }
   ],
   "source": [
    "bottom_30[(bottom_30['cluster_1.0'] == 1) & (bottom_30['apt_name'] == '대치삼성')]['transaction_year_month']"
   ]
  },
  {
   "cell_type": "code",
   "execution_count": 140,
   "id": "09f8b5ff-f038-4217-bd58-5ebc0018e6fe",
   "metadata": {},
   "outputs": [
    {
     "data": {
      "text/plain": [
       "4068    201803\n",
       "4220    201807\n",
       "4317    201808\n",
       "4361    201809\n",
       "4373    201810\n",
       "4558    201905\n",
       "4599    201906\n",
       "4615    201906\n",
       "4639    201906\n",
       "4665    201906\n",
       "4717    201907\n",
       "4721    201907\n",
       "4827    201908\n",
       "4861    201908\n",
       "4867    201908\n",
       "4953    201909\n",
       "5008    201910\n",
       "5019    201910\n",
       "5021    201910\n",
       "5027    201910\n",
       "5035    201910\n",
       "5059    201910\n",
       "5072    201910\n",
       "5078    201912\n",
       "5084    201912\n",
       "5149    202002\n",
       "5158    202002\n",
       "5199    202002\n",
       "5202    202002\n",
       "5211    202003\n",
       "5293    202005\n",
       "5309    202006\n",
       "5322    202006\n",
       "5351    202006\n",
       "5371    202006\n",
       "5457    202007\n",
       "5460    202008\n",
       "5494    202012\n",
       "5505    202012\n",
       "5514    202012\n",
       "5515    202012\n",
       "5538    202101\n",
       "Name: transaction_year_month, dtype: int64"
      ]
     },
     "execution_count": 140,
     "metadata": {},
     "output_type": "execute_result"
    }
   ],
   "source": [
    "top_30[(top_30['cluster_1.0'] == 1) & (top_30['apt_name'] == '대치삼성')]['transaction_year_month']"
   ]
  },
  {
   "cell_type": "markdown",
   "id": "9ad989ed-d27b-4314-ade5-f1bd5803e9e7",
   "metadata": {},
   "source": [
    "<strong> 대치현대 비교 </strong>"
   ]
  },
  {
   "cell_type": "code",
   "execution_count": 141,
   "id": "b8784ca5-f3a3-46e2-ae6f-43f53c5d2e00",
   "metadata": {},
   "outputs": [
    {
     "data": {
      "text/plain": [
       "26      201401\n",
       "36      201401\n",
       "40      201401\n",
       "50      201401\n",
       "74      201401\n",
       "         ...  \n",
       "3721    201710\n",
       "3733    201710\n",
       "3765    201712\n",
       "3854    201712\n",
       "3855    201712\n",
       "Name: transaction_year_month, Length: 156, dtype: int64"
      ]
     },
     "execution_count": 141,
     "metadata": {},
     "output_type": "execute_result"
    }
   ],
   "source": [
    "bottom_30[(bottom_30['cluster_1.0'] == 1) & (bottom_30['apt_name'] == '대치현대')]['transaction_year_month']"
   ]
  },
  {
   "cell_type": "code",
   "execution_count": 142,
   "id": "00bdaa64-3416-4cc7-af8a-8ae884c23faa",
   "metadata": {},
   "outputs": [
    {
     "data": {
      "text/plain": [
       "5056    201910\n",
       "5076    201910\n",
       "5222    202004\n",
       "5276    202005\n",
       "5359    202006\n",
       "5366    202006\n",
       "5379    202006\n",
       "5412    202006\n",
       "5706    202107\n",
       "5737    202109\n",
       "5850    202206\n",
       "Name: transaction_year_month, dtype: int64"
      ]
     },
     "execution_count": 142,
     "metadata": {},
     "output_type": "execute_result"
    }
   ],
   "source": [
    "top_30[(top_30['cluster_1.0'] == 1) & (top_30['apt_name'] == '대치현대')]['transaction_year_month']"
   ]
  },
  {
   "cell_type": "code",
   "execution_count": 137,
   "id": "11f10ecc-f8b5-4e74-b64a-43510589b72a",
   "metadata": {},
   "outputs": [
    {
     "data": {
      "text/html": [
       "<div>\n",
       "<style scoped>\n",
       "    .dataframe tbody tr th:only-of-type {\n",
       "        vertical-align: middle;\n",
       "    }\n",
       "\n",
       "    .dataframe tbody tr th {\n",
       "        vertical-align: top;\n",
       "    }\n",
       "\n",
       "    .dataframe thead th {\n",
       "        text-align: right;\n",
       "    }\n",
       "</style>\n",
       "<table border=\"1\" class=\"dataframe\">\n",
       "  <thead>\n",
       "    <tr style=\"text-align: right;\">\n",
       "      <th></th>\n",
       "      <th>apt_name</th>\n",
       "      <th>transaction_year_month</th>\n",
       "    </tr>\n",
       "  </thead>\n",
       "  <tbody>\n",
       "    <tr>\n",
       "      <th>1</th>\n",
       "      <td>하이캐슬</td>\n",
       "      <td>201401</td>\n",
       "    </tr>\n",
       "    <tr>\n",
       "      <th>5</th>\n",
       "      <td>대치삼성</td>\n",
       "      <td>201401</td>\n",
       "    </tr>\n",
       "    <tr>\n",
       "      <th>6</th>\n",
       "      <td>대치효성</td>\n",
       "      <td>201401</td>\n",
       "    </tr>\n",
       "    <tr>\n",
       "      <th>16</th>\n",
       "      <td>대치삼성</td>\n",
       "      <td>201401</td>\n",
       "    </tr>\n",
       "    <tr>\n",
       "      <th>19</th>\n",
       "      <td>삼환SOGOOD</td>\n",
       "      <td>201401</td>\n",
       "    </tr>\n",
       "    <tr>\n",
       "      <th>...</th>\n",
       "      <td>...</td>\n",
       "      <td>...</td>\n",
       "    </tr>\n",
       "    <tr>\n",
       "      <th>4931</th>\n",
       "      <td>현대1</td>\n",
       "      <td>201909</td>\n",
       "    </tr>\n",
       "    <tr>\n",
       "      <th>5068</th>\n",
       "      <td>세연파크뷰</td>\n",
       "      <td>201910</td>\n",
       "    </tr>\n",
       "    <tr>\n",
       "      <th>5073</th>\n",
       "      <td>월드빌</td>\n",
       "      <td>201910</td>\n",
       "    </tr>\n",
       "    <tr>\n",
       "      <th>5109</th>\n",
       "      <td>스카이써밋아파트</td>\n",
       "      <td>201912</td>\n",
       "    </tr>\n",
       "    <tr>\n",
       "      <th>5480</th>\n",
       "      <td>청원</td>\n",
       "      <td>202010</td>\n",
       "    </tr>\n",
       "  </tbody>\n",
       "</table>\n",
       "<p>677 rows × 2 columns</p>\n",
       "</div>"
      ],
      "text/plain": [
       "      apt_name  transaction_year_month\n",
       "1         하이캐슬                  201401\n",
       "5         대치삼성                  201401\n",
       "6         대치효성                  201401\n",
       "16        대치삼성                  201401\n",
       "19    삼환SOGOOD                  201401\n",
       "...        ...                     ...\n",
       "4931       현대1                  201909\n",
       "5068     세연파크뷰                  201910\n",
       "5073       월드빌                  201910\n",
       "5109  스카이써밋아파트                  201912\n",
       "5480        청원                  202010\n",
       "\n",
       "[677 rows x 2 columns]"
      ]
     },
     "execution_count": 137,
     "metadata": {},
     "output_type": "execute_result"
    }
   ],
   "source": [
    "bottom_30[bottom_30['cluster_1.0'] == 1][['apt_name','transaction_year_month']]"
   ]
  },
  {
   "cell_type": "markdown",
   "id": "3b29a1c0-6845-4932-8ed5-f898b1e8ddbe",
   "metadata": {},
   "source": [
    "## 결과 정리\n",
    "#### 아파트 매매 실거래 가격 지수\n",
    "- 상위 세그먼트: 가격 지수 변동에 대한 민감도가 다소 낮으며, 가격 지수의 상승이 실거래가에 긍정적인 영향을 미침.\n",
    "- 하위 세그먼트: 가격 지수에 대한 민감도가 높으며, 가격 지수의 변동이 실거래가에 부정적인 영향을 미침\n",
    "<br>\n",
    "<br>\n",
    "#### 최근 실거래가 (Recent Price)\n",
    "- 상위 세그먼트: 최근 실거래가의 변동이 상위 세그먼트 실거래가에 긍정적인 영향을 미침. 하위 세그먼트 시장보다 최근 거래에 민감하게 반응함 \n",
    "- 하위 세그먼트: 최근 실거래가의 변동이 하위 세그먼트 실거래가에 부정적인 영향을 미침\n",
    "\n",
    "<br>\n",
    "\n",
    "#### 최근 전세가 (Recent Jeonse)\n",
    "- 상위 세그먼트:  최근 전세가의 변동이 실거래가에 긍정적인 영향을 미칠 수 있음. 하지만, 고가 부동산의 경우 전세가보다 매매가의 변동성이 더 큰 영향을 미치는 요소로 작용함\n",
    "\n",
    "- 하위 세그먼트: 전세가의 상승이 실거래가 상승으로 이어질 수 있으나, 상승 효과는 상위 세그먼트에 비해 제한적\n",
    "\n",
    "\n",
    "#### 1번 군집 (cluster_1.0)\n",
    "- 상위 세그먼트 : 1번 군집에 속하는 아파트가 실거래가의 가치를 높이는 요소로 작용함\n",
    "- 하위 세그먼트 : 1번 군집에 속하는 아파트가 실거래가의 가치를 낮추는 요소로 작용함\n",
    "<br></br>\n",
    "- 1번 군집 속함 여부에 대해 조사한 결과, 하위 세그먼트에서도 상위 세그먼트와 마찬가지로 동일한 아파트 단지가 나타남. \n",
    "- 상위 세그먼트에서는 최근에 거래된 아파트가 존재하는 반면, 하위 세그먼트에서는 과거에 거래된 아파트가 주로 나타남. \n",
    "- 이는 거래년도가 아파트 단지의 세그먼트별 가치 평가에 중요한 영향을 미치는 요소임을 시사함\n",
    "\n",
    "#### <strong>결론</strong>\n",
    "\n",
    "    1. 하위 30%와 상위 30% 세그먼트 간의 비교 분석을 통해, 두 시장 세그먼트가 서로 다른 동향을 보임을 알 수 있음. \n",
    "     \n",
    "    2. 상위 세그먼트는 최근 거래가에 민감하게 반응하며, 최근 실거래가와 전세가의 상승이 실거래가에 긍정적인 영향을 미침\n",
    "    \n",
    "    3. 하위 세그먼트는 가격 지수의 변동에 민감하게 반응하며, 최근 실거래가의 상승이 실거래가에 부정적인 영향을 미침\n",
    "    \n",
    "    4. 클러스터 1에 속하는 아파트의 특성이 상위 세그먼트에서는 가치를 높이는 요소로 작용하지만, 하위 세그먼트에서는 반대의 효과를 나타냄.\n",
    "\n",
    "=> 이러한 차이점은 투자자와 구매자가 시장의 다양한 세그먼트에 접근할 때 고려해야 할 중요한 요소</strong>"
   ]
  },
  {
   "cell_type": "markdown",
   "id": "73e9a3bf-1510-431e-b28b-90e2bce6c165",
   "metadata": {},
   "source": [
    "<strong>가치 제공</strong>\n",
    "\n",
    " 1. 시장 세그먼트별 특성 이해 : 분석을 통해 각 시장 세그먼트의 특성과 반응 패턴을 이해할 수 있음.\n",
    "\n",
    " 2. 투자 전략 수립: 다양한 시장 세그먼트의 동향을 이해함으로써, 투자자들은 자신의 투자 목표와 위험 선호도에 맞는 맞춤형 투자 전략 수립할 수 있음.\n",
    "\n",
    " 3. 시장 동향 예측 : 최근 실거래가와 전세가의 변동성을 분석함으로써, 투자자들은 미래 시장 동향을 예측하는데 도움을 받을 수 있음.\n",
    "\n",
    "<strong>이러한 분석을 통해, 상위/하위 세그먼트 간의 차이점을 이해하고 각 세그먼트의 독특한 특성을 고려하여 투자 결정을 내릴 때 더욱 신중한 접근 방식을 취할 수 있음. </strong>"
   ]
  }
 ],
 "metadata": {
  "kernelspec": {
   "display_name": "Python 3",
   "language": "python",
   "name": "python3"
  },
  "language_info": {
   "codemirror_mode": {
    "name": "ipython",
    "version": 3
   },
   "file_extension": ".py",
   "mimetype": "text/x-python",
   "name": "python",
   "nbconvert_exporter": "python",
   "pygments_lexer": "ipython3",
   "version": "3.8.5"
  }
 },
 "nbformat": 4,
 "nbformat_minor": 5
}
